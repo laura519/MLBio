{
 "cells": [
  {
   "cell_type": "markdown",
   "metadata": {},
   "source": [
    "# Machine learning to predict molecule properties : solubility\n",
    "\n"
   ]
  },
  {
   "cell_type": "markdown",
   "metadata": {},
   "source": [
    "The solubility of molecules is an important property in many applications like for drug selection or for compound selection for battery designes (no link to health).\n",
    "\n",
    "Being able to predict the solubility of a molecule from its formula instead of having to make measuring experiment in an important aspect to enhanced fatester molecule discovery.\n",
    "\n",
    "In this notebook we will do basic solubility prediction with machine learning models and rdkit\n"
   ]
  },
  {
   "cell_type": "markdown",
   "metadata": {},
   "source": [
    "Install the python rdkit package with pip or conda\n",
    "\n",
    "cf https://www.rdkit.org/docs/index.html"
   ]
  },
  {
   "cell_type": "code",
   "execution_count": null,
   "metadata": {
    "colab": {
     "base_uri": "https://localhost:8080/"
    },
    "executionInfo": {
     "elapsed": 2860,
     "status": "ok",
     "timestamp": 1629702158983,
     "user": {
      "displayName": "ngoc mac",
      "photoUrl": "",
      "userId": "17981024361133171440"
     },
     "user_tz": -120
    },
    "id": "9qJCFDsxp3wJ",
    "outputId": "cd1a6ec7-05db-40e0-ac62-aeae454084d9"
   },
   "outputs": [],
   "source": []
  },
  {
   "cell_type": "markdown",
   "metadata": {},
   "source": [
    "# Molecule representations with Rdkit"
   ]
  },
  {
   "cell_type": "markdown",
   "metadata": {},
   "source": [
    "Rdkit is a package allowing to work with molecule data and their representation. \n",
    "\n",
    "For basic manipulations, the main submodule is **Chem**\n",
    "\n"
   ]
  },
  {
   "cell_type": "markdown",
   "metadata": {
    "id": "TYs-WClCqSsy"
   },
   "source": [
    "### Smile representation\n",
    "\n",
    "Smile lets represent molecules with text strings\n",
    "\n",
    "\n"
   ]
  },
  {
   "cell_type": "markdown",
   "metadata": {},
   "source": [
    "The following string contains the SMILE representation of the paracetamol molecule"
   ]
  },
  {
   "cell_type": "code",
   "execution_count": 2,
   "metadata": {},
   "outputs": [],
   "source": [
    "smile = 'CC(=O)NC1=CC=C(O)C=C1'"
   ]
  },
  {
   "cell_type": "markdown",
   "metadata": {},
   "source": [
    "import rdkit and the Chem submodule"
   ]
  },
  {
   "cell_type": "code",
   "execution_count": 3,
   "metadata": {},
   "outputs": [],
   "source": [
    "import rdkit\n",
    "from rdkit import Chem"
   ]
  },
  {
   "cell_type": "markdown",
   "metadata": {},
   "source": [
    "Using the MolFromSmiles function, create a molecule from the smile representation and print its types"
   ]
  },
  {
   "cell_type": "code",
   "execution_count": 7,
   "metadata": {
    "executionInfo": {
     "elapsed": 191,
     "status": "ok",
     "timestamp": 1629700076159,
     "user": {
      "displayName": "ngoc mac",
      "photoUrl": "",
      "userId": "17981024361133171440"
     },
     "user_tz": -120
    },
    "id": "ccbbFmLOqDJV"
   },
   "outputs": [
    {
     "data": {
      "image/png": "[encoded data removed]",
      "text/plain": [
       "<rdkit.Chem.rdchem.Mol at 0x7f0ed84038e0>"
      ]
     },
     "execution_count": 7,
     "metadata": {},
     "output_type": "execute_result"
    }
   ],
   "source": [
    "mol = Chem.MolFromSmiles(smile)\n",
    "mol"
   ]
  },
  {
   "cell_type": "markdown",
   "metadata": {},
   "source": [
    "With the MolToImage function of the Draw package, display the molecule"
   ]
  },
  {
   "cell_type": "code",
   "execution_count": 8,
   "metadata": {
    "colab": {
     "base_uri": "https://localhost:8080/",
     "height": 337
    },
    "executionInfo": {
     "elapsed": 332,
     "status": "ok",
     "timestamp": 1629700165128,
     "user": {
      "displayName": "ngoc mac",
      "photoUrl": "",
      "userId": "17981024361133171440"
     },
     "user_tz": -120
    },
    "id": "8snxocdqsKNJ",
    "outputId": "71e86bf6-8290-4307-e8e5-d381532e657d"
   },
   "outputs": [
    {
     "data": {
      "image/png": "[encoded data removed]",
      "text/plain": [
       "<PIL.PngImagePlugin.PngImageFile image mode=RGB size=300x300 at 0x7F0ED84C8C40>"
      ]
     },
     "execution_count": 8,
     "metadata": {},
     "output_type": "execute_result"
    }
   ],
   "source": [
    "Chem.Draw.MolToImage(mol)"
   ]
  },
  {
   "cell_type": "markdown",
   "metadata": {},
   "source": [
    "You can get the Number of atoms of the molecules and the list of atoms with the methods GetNumAtoms and getAtoms.\n",
    "\n",
    "Print the number of atoms of the molecule"
   ]
  },
  {
   "cell_type": "code",
   "execution_count": 9,
   "metadata": {
    "colab": {
     "base_uri": "https://localhost:8080/"
    },
    "executionInfo": {
     "elapsed": 672,
     "status": "ok",
     "timestamp": 1629700424946,
     "user": {
      "displayName": "ngoc mac",
      "photoUrl": "",
      "userId": "17981024361133171440"
     },
     "user_tz": -120
    },
    "id": "3yiWFSgdsk0j",
    "outputId": "00414426-74e1-464b-b82f-5b9adfe21439"
   },
   "outputs": [
    {
     "data": {
      "text/plain": [
       "11"
      ]
     },
     "execution_count": 9,
     "metadata": {},
     "output_type": "execute_result"
    }
   ],
   "source": [
    "mol.GetNumAtoms()"
   ]
  },
  {
   "cell_type": "code",
   "execution_count": 14,
   "metadata": {},
   "outputs": [
    {
     "data": {
      "text/plain": [
       "11"
      ]
     },
     "execution_count": 14,
     "metadata": {},
     "output_type": "execute_result"
    }
   ],
   "source": [
    "len(mol.GetAtoms())"
   ]
  },
  {
   "cell_type": "markdown",
   "metadata": {},
   "source": [
    "If you compare to the picture, you may see that the number of atoms is not 11. What is the total number and why rdkit do not give the same answer ?"
   ]
  },
  {
   "cell_type": "markdown",
   "metadata": {},
   "source": []
  },
  {
   "cell_type": "markdown",
   "metadata": {},
   "source": [
    "Print the list of each atoms"
   ]
  },
  {
   "cell_type": "code",
   "execution_count": 18,
   "metadata": {
    "colab": {
     "base_uri": "https://localhost:8080/"
    },
    "executionInfo": {
     "elapsed": 280,
     "status": "ok",
     "timestamp": 1629700428713,
     "user": {
      "displayName": "ngoc mac",
      "photoUrl": "",
      "userId": "17981024361133171440"
     },
     "user_tz": -120
    },
    "id": "4rN88u9dtueQ",
    "outputId": "77b26a06-1f02-424b-bc61-f60da1633e63"
   },
   "outputs": [
    {
     "data": {
      "text/plain": [
       "['C', 'C', 'O', 'N', 'C', 'C', 'C', 'C', 'O', 'C', 'C']"
      ]
     },
     "execution_count": 18,
     "metadata": {},
     "output_type": "execute_result"
    }
   ],
   "source": [
    "atom_list = []\n",
    "for atom in mol.GetAtoms():\n",
    "    atom_list.append(atom.GetSymbol())\n",
    "\n",
    "atom_list"
   ]
  },
  {
   "cell_type": "markdown",
   "metadata": {},
   "source": []
  },
  {
   "cell_type": "markdown",
   "metadata": {},
   "source": [
    "Store the number of bonds of the molecule in **n_bond** (look which method can be used for that) and print"
   ]
  },
  {
   "cell_type": "code",
   "execution_count": 29,
   "metadata": {
    "colab": {
     "base_uri": "https://localhost:8080/"
    },
    "executionInfo": {
     "elapsed": 199,
     "status": "ok",
     "timestamp": 1629700509091,
     "user": {
      "displayName": "ngoc mac",
      "photoUrl": "",
      "userId": "17981024361133171440"
     },
     "user_tz": -120
    },
    "id": "4BJGnXswtxFV",
    "outputId": "5c35338b-3772-48dd-93b9-059c7bb58ce9"
   },
   "outputs": [
    {
     "data": {
      "text/plain": [
       "11"
      ]
     },
     "execution_count": 29,
     "metadata": {},
     "output_type": "execute_result"
    }
   ],
   "source": [
    "n_bond = len(mol.GetBonds())\n",
    "n_bond"
   ]
  },
  {
   "cell_type": "markdown",
   "metadata": {},
   "source": [
    "For each bond, print if the bond is single or double"
   ]
  },
  {
   "cell_type": "code",
   "execution_count": 35,
   "metadata": {},
   "outputs": [
    {
     "name": "stdout",
     "output_type": "stream",
     "text": [
      "SINGLE\n",
      "DOUBLE\n",
      "SINGLE\n",
      "SINGLE\n",
      "AROMATIC\n",
      "AROMATIC\n",
      "AROMATIC\n",
      "SINGLE\n",
      "AROMATIC\n",
      "AROMATIC\n",
      "AROMATIC\n"
     ]
    }
   ],
   "source": [
    "for bond in mol.GetBonds():\n",
    "    print(str(bond.GetBondType()))"
   ]
  },
  {
   "cell_type": "markdown",
   "metadata": {
    "id": "5ch4vabFuReu"
   },
   "source": [
    "### Reading molecule data from file\n",
    "\n",
    "Apart SMILES, .SDF/ .Mol are also the common formats to save molecules. RDKit provides also functionalities to read these files.\n",
    "\n",
    "\n",
    "Morphine is an opioid agonist used for the relief of moderate to severe acute and chronic pain. The chemical information of this drug can be found at \n",
    "\"https://go.drugbank.com/structures/small_molecule_drugs/DB00295.sdf\". \n",
    "\n",
    "\n",
    "Download this file and save it in a folder. \n",
    "\n"
   ]
  },
  {
   "cell_type": "markdown",
   "metadata": {},
   "source": []
  },
  {
   "cell_type": "markdown",
   "metadata": {},
   "source": [
    "\n",
    "Read the morphine molecule from the file that you've downloaded using \"rdkit.Chem.SDMolSupplier\" and store the result in a variable named **morphine**\n",
    "\n"
   ]
  },
  {
   "cell_type": "code",
   "execution_count": 53,
   "metadata": {},
   "outputs": [
    {
     "data": {
      "text/plain": [
       "<rdkit.Chem.rdmolfiles.SDMolSupplier at 0x7f0ed71b8950>"
      ]
     },
     "execution_count": 53,
     "metadata": {},
     "output_type": "execute_result"
    }
   ],
   "source": [
    "suppl = Chem.SDMolSupplier('data/DB00295.sdf')\n",
    "morphine = suppl\n",
    "morphine"
   ]
  },
  {
   "cell_type": "markdown",
   "metadata": {},
   "source": [
    "Display its type"
   ]
  },
  {
   "cell_type": "code",
   "execution_count": 54,
   "metadata": {},
   "outputs": [
    {
     "data": {
      "text/plain": [
       "rdkit.Chem.rdmolfiles.SDMolSupplier"
      ]
     },
     "execution_count": 54,
     "metadata": {},
     "output_type": "execute_result"
    }
   ],
   "source": [
    "type(morphine)"
   ]
  },
  {
   "cell_type": "markdown",
   "metadata": {},
   "source": [
    "Display the picture of the molecule\n"
   ]
  },
  {
   "cell_type": "code",
   "execution_count": 58,
   "metadata": {},
   "outputs": [
    {
     "data": {
      "image/png": "[encoded data removed]",
      "text/plain": [
       "<PIL.Image.Image image mode=RGBA size=200x200 at 0x7F0ED6B79CA0>"
      ]
     },
     "execution_count": 58,
     "metadata": {},
     "output_type": "execute_result"
    }
   ],
   "source": [
    "Chem.Draw.MolsToImage(morphine)"
   ]
  },
  {
   "cell_type": "markdown",
   "metadata": {},
   "source": [
    "Display the number of atoms and the number of bonds"
   ]
  },
  {
   "cell_type": "code",
   "execution_count": 65,
   "metadata": {},
   "outputs": [
    {
     "name": "stdout",
     "output_type": "stream",
     "text": [
      "21\n",
      "25\n"
     ]
    }
   ],
   "source": [
    "for mol in morphine:\n",
    "    print(mol.GetNumAtoms())\n",
    "    print(len(mol.GetBonds()))\n",
    "    "
   ]
  },
  {
   "cell_type": "markdown",
   "metadata": {
    "id": "GZXsjZGw3ofC"
   },
   "source": [
    "### Descriptors \n",
    "\n",
    "\n",
    "Molecules are also described by a set of physiochemical descriptors like \n",
    "- the log partition coefficient,\n",
    "- the polar surface area ... that describe the molecule's structure.\n",
    "\n",
    "\n",
    "RDKit provides utilities that allow us to compute descriptor of molecules.\n",
    "\n",
    "The rdkit.ML.Descriptors module and its sub module let us compute molecule descriptors."
   ]
  },
  {
   "cell_type": "markdown",
   "metadata": {},
   "source": [
    "the rdkit.ML.Descriptors module has an attribute name \\_descList, display it"
   ]
  },
  {
   "cell_type": "code",
   "execution_count": 106,
   "metadata": {},
   "outputs": [
    {
     "data": {
      "text/plain": [
       "[('MaxEStateIndex',\n",
       "  <function rdkit.Chem.EState.EState.MaxEStateIndex(mol, force=1)>),\n",
       " ('MinEStateIndex',\n",
       "  <function rdkit.Chem.EState.EState.MinEStateIndex(mol, force=1)>),\n",
       " ('MaxAbsEStateIndex',\n",
       "  <function rdkit.Chem.EState.EState.MaxAbsEStateIndex(mol, force=1)>),\n",
       " ('MinAbsEStateIndex',\n",
       "  <function rdkit.Chem.EState.EState.MinAbsEStateIndex(mol, force=1)>),\n",
       " ('qed',\n",
       "  <function rdkit.Chem.QED.qed(mol, w=QEDproperties(MW=0.66, ALOGP=0.46, HBA=0.05, HBD=0.61, PSA=0.06, ROTB=0.65, AROM=0.48, ALERTS=0.95), qedProperties=None)>),\n",
       " ('MolWt', <function rdkit.Chem.Descriptors.<lambda>(*x, **y)>),\n",
       " ('HeavyAtomMolWt', <function rdkit.Chem.Descriptors.HeavyAtomMolWt(x)>),\n",
       " ('ExactMolWt', <function rdkit.Chem.Descriptors.<lambda>(*x, **y)>),\n",
       " ('NumValenceElectrons',\n",
       "  <function rdkit.Chem.Descriptors.NumValenceElectrons(mol)>),\n",
       " ('NumRadicalElectrons',\n",
       "  <function rdkit.Chem.Descriptors.NumRadicalElectrons(mol)>),\n",
       " ('MaxPartialCharge',\n",
       "  <function rdkit.Chem.Descriptors.MaxPartialCharge(mol, force=False)>),\n",
       " ('MinPartialCharge',\n",
       "  <function rdkit.Chem.Descriptors.MinPartialCharge(mol, force=False)>),\n",
       " ('MaxAbsPartialCharge',\n",
       "  <function rdkit.Chem.Descriptors.MaxAbsPartialCharge(mol, force=False)>),\n",
       " ('MinAbsPartialCharge',\n",
       "  <function rdkit.Chem.Descriptors.MinAbsPartialCharge(mol, force=False)>),\n",
       " ('FpDensityMorgan1', <function rdkit.Chem.Descriptors.FpDensityMorgan1(x)>),\n",
       " ('FpDensityMorgan2', <function rdkit.Chem.Descriptors.FpDensityMorgan2(x)>),\n",
       " ('FpDensityMorgan3', <function rdkit.Chem.Descriptors.FpDensityMorgan3(x)>),\n",
       " ('BCUT2D_MWHI',\n",
       "  <function rdkit.Chem.ChemUtils.DescriptorUtilities.BCUT2D_MWHI(mol, index=0)>),\n",
       " ('BCUT2D_MWLOW',\n",
       "  <function rdkit.Chem.ChemUtils.DescriptorUtilities.BCUT2D_MWLOW(mol, index=1)>),\n",
       " ('BCUT2D_CHGHI',\n",
       "  <function rdkit.Chem.ChemUtils.DescriptorUtilities.BCUT2D_CHGHI(mol, index=2)>),\n",
       " ('BCUT2D_CHGLO',\n",
       "  <function rdkit.Chem.ChemUtils.DescriptorUtilities.BCUT2D_CHGLO(mol, index=3)>),\n",
       " ('BCUT2D_LOGPHI',\n",
       "  <function rdkit.Chem.ChemUtils.DescriptorUtilities.BCUT2D_LOGPHI(mol, index=4)>),\n",
       " ('BCUT2D_LOGPLOW',\n",
       "  <function rdkit.Chem.ChemUtils.DescriptorUtilities.BCUT2D_LOGPLOW(mol, index=5)>),\n",
       " ('BCUT2D_MRHI',\n",
       "  <function rdkit.Chem.ChemUtils.DescriptorUtilities.BCUT2D_MRHI(mol, index=6)>),\n",
       " ('BCUT2D_MRLOW',\n",
       "  <function rdkit.Chem.ChemUtils.DescriptorUtilities.BCUT2D_MRLOW(mol, index=7)>),\n",
       " ('BalabanJ',\n",
       "  <function rdkit.Chem.GraphDescriptors.BalabanJ(mol, dMat=None, forceDMat=0)>),\n",
       " ('BertzCT',\n",
       "  <function rdkit.Chem.GraphDescriptors.BertzCT(mol, cutoff=100, dMat=None, forceDMat=1)>),\n",
       " ('Chi0', <function rdkit.Chem.GraphDescriptors.Chi0(mol)>),\n",
       " ('Chi0n', <function rdkit.Chem.GraphDescriptors.<lambda>(x)>),\n",
       " ('Chi0v', <function rdkit.Chem.GraphDescriptors.<lambda>(x)>),\n",
       " ('Chi1', <function rdkit.Chem.GraphDescriptors.Chi1(mol)>),\n",
       " ('Chi1n', <function rdkit.Chem.GraphDescriptors.<lambda>(x)>),\n",
       " ('Chi1v', <function rdkit.Chem.GraphDescriptors.<lambda>(x)>),\n",
       " ('Chi2n', <function rdkit.Chem.GraphDescriptors.<lambda>(x)>),\n",
       " ('Chi2v', <function rdkit.Chem.GraphDescriptors.<lambda>(x)>),\n",
       " ('Chi3n', <function rdkit.Chem.GraphDescriptors.<lambda>(x)>),\n",
       " ('Chi3v', <function rdkit.Chem.GraphDescriptors.<lambda>(x)>),\n",
       " ('Chi4n', <function rdkit.Chem.GraphDescriptors.<lambda>(x)>),\n",
       " ('Chi4v', <function rdkit.Chem.GraphDescriptors.<lambda>(x)>),\n",
       " ('HallKierAlpha', <function rdkit.Chem.GraphDescriptors.<lambda>(x)>),\n",
       " ('Ipc',\n",
       "  <function rdkit.Chem.GraphDescriptors.Ipc(mol, avg=0, dMat=None, forceDMat=0)>),\n",
       " ('Kappa1', <function rdkit.Chem.GraphDescriptors.<lambda>(x)>),\n",
       " ('Kappa2', <function rdkit.Chem.GraphDescriptors.<lambda>(x)>),\n",
       " ('Kappa3', <function rdkit.Chem.GraphDescriptors.<lambda>(x)>),\n",
       " ('LabuteASA', <function rdkit.Chem.MolSurf.<lambda>(*x, **y)>),\n",
       " ('PEOE_VSA1',\n",
       "  <function rdkit.Chem.MolSurf._InstallDescriptors.<locals>.<lambda>(x, y=0)>),\n",
       " ('PEOE_VSA10',\n",
       "  <function rdkit.Chem.MolSurf._InstallDescriptors.<locals>.<lambda>(x, y=9)>),\n",
       " ('PEOE_VSA11',\n",
       "  <function rdkit.Chem.MolSurf._InstallDescriptors.<locals>.<lambda>(x, y=10)>),\n",
       " ('PEOE_VSA12',\n",
       "  <function rdkit.Chem.MolSurf._InstallDescriptors.<locals>.<lambda>(x, y=11)>),\n",
       " ('PEOE_VSA13',\n",
       "  <function rdkit.Chem.MolSurf._InstallDescriptors.<locals>.<lambda>(x, y=12)>),\n",
       " ('PEOE_VSA14',\n",
       "  <function rdkit.Chem.MolSurf._InstallDescriptors.<locals>.<lambda>(x, y=13)>),\n",
       " ('PEOE_VSA2',\n",
       "  <function rdkit.Chem.MolSurf._InstallDescriptors.<locals>.<lambda>(x, y=1)>),\n",
       " ('PEOE_VSA3',\n",
       "  <function rdkit.Chem.MolSurf._InstallDescriptors.<locals>.<lambda>(x, y=2)>),\n",
       " ('PEOE_VSA4',\n",
       "  <function rdkit.Chem.MolSurf._InstallDescriptors.<locals>.<lambda>(x, y=3)>),\n",
       " ('PEOE_VSA5',\n",
       "  <function rdkit.Chem.MolSurf._InstallDescriptors.<locals>.<lambda>(x, y=4)>),\n",
       " ('PEOE_VSA6',\n",
       "  <function rdkit.Chem.MolSurf._InstallDescriptors.<locals>.<lambda>(x, y=5)>),\n",
       " ('PEOE_VSA7',\n",
       "  <function rdkit.Chem.MolSurf._InstallDescriptors.<locals>.<lambda>(x, y=6)>),\n",
       " ('PEOE_VSA8',\n",
       "  <function rdkit.Chem.MolSurf._InstallDescriptors.<locals>.<lambda>(x, y=7)>),\n",
       " ('PEOE_VSA9',\n",
       "  <function rdkit.Chem.MolSurf._InstallDescriptors.<locals>.<lambda>(x, y=8)>),\n",
       " ('SMR_VSA1',\n",
       "  <function rdkit.Chem.MolSurf._InstallDescriptors.<locals>.<lambda>(x, y=0)>),\n",
       " ('SMR_VSA10',\n",
       "  <function rdkit.Chem.MolSurf._InstallDescriptors.<locals>.<lambda>(x, y=9)>),\n",
       " ('SMR_VSA2',\n",
       "  <function rdkit.Chem.MolSurf._InstallDescriptors.<locals>.<lambda>(x, y=1)>),\n",
       " ('SMR_VSA3',\n",
       "  <function rdkit.Chem.MolSurf._InstallDescriptors.<locals>.<lambda>(x, y=2)>),\n",
       " ('SMR_VSA4',\n",
       "  <function rdkit.Chem.MolSurf._InstallDescriptors.<locals>.<lambda>(x, y=3)>),\n",
       " ('SMR_VSA5',\n",
       "  <function rdkit.Chem.MolSurf._InstallDescriptors.<locals>.<lambda>(x, y=4)>),\n",
       " ('SMR_VSA6',\n",
       "  <function rdkit.Chem.MolSurf._InstallDescriptors.<locals>.<lambda>(x, y=5)>),\n",
       " ('SMR_VSA7',\n",
       "  <function rdkit.Chem.MolSurf._InstallDescriptors.<locals>.<lambda>(x, y=6)>),\n",
       " ('SMR_VSA8',\n",
       "  <function rdkit.Chem.MolSurf._InstallDescriptors.<locals>.<lambda>(x, y=7)>),\n",
       " ('SMR_VSA9',\n",
       "  <function rdkit.Chem.MolSurf._InstallDescriptors.<locals>.<lambda>(x, y=8)>),\n",
       " ('SlogP_VSA1',\n",
       "  <function rdkit.Chem.MolSurf._InstallDescriptors.<locals>.<lambda>(x, y=0)>),\n",
       " ('SlogP_VSA10',\n",
       "  <function rdkit.Chem.MolSurf._InstallDescriptors.<locals>.<lambda>(x, y=9)>),\n",
       " ('SlogP_VSA11',\n",
       "  <function rdkit.Chem.MolSurf._InstallDescriptors.<locals>.<lambda>(x, y=10)>),\n",
       " ('SlogP_VSA12',\n",
       "  <function rdkit.Chem.MolSurf._InstallDescriptors.<locals>.<lambda>(x, y=11)>),\n",
       " ('SlogP_VSA2',\n",
       "  <function rdkit.Chem.MolSurf._InstallDescriptors.<locals>.<lambda>(x, y=1)>),\n",
       " ('SlogP_VSA3',\n",
       "  <function rdkit.Chem.MolSurf._InstallDescriptors.<locals>.<lambda>(x, y=2)>),\n",
       " ('SlogP_VSA4',\n",
       "  <function rdkit.Chem.MolSurf._InstallDescriptors.<locals>.<lambda>(x, y=3)>),\n",
       " ('SlogP_VSA5',\n",
       "  <function rdkit.Chem.MolSurf._InstallDescriptors.<locals>.<lambda>(x, y=4)>),\n",
       " ('SlogP_VSA6',\n",
       "  <function rdkit.Chem.MolSurf._InstallDescriptors.<locals>.<lambda>(x, y=5)>),\n",
       " ('SlogP_VSA7',\n",
       "  <function rdkit.Chem.MolSurf._InstallDescriptors.<locals>.<lambda>(x, y=6)>),\n",
       " ('SlogP_VSA8',\n",
       "  <function rdkit.Chem.MolSurf._InstallDescriptors.<locals>.<lambda>(x, y=7)>),\n",
       " ('SlogP_VSA9',\n",
       "  <function rdkit.Chem.MolSurf._InstallDescriptors.<locals>.<lambda>(x, y=8)>),\n",
       " ('TPSA', <function rdkit.Chem.MolSurf.<lambda>(*x, **y)>),\n",
       " ('EState_VSA1', <function rdkit.Chem.EState.EState_VSA.EState_VSA1(mol)>),\n",
       " ('EState_VSA10', <function rdkit.Chem.EState.EState_VSA.EState_VSA10(mol)>),\n",
       " ('EState_VSA11', <function rdkit.Chem.EState.EState_VSA.EState_VSA11(mol)>),\n",
       " ('EState_VSA2', <function rdkit.Chem.EState.EState_VSA.EState_VSA2(mol)>),\n",
       " ('EState_VSA3', <function rdkit.Chem.EState.EState_VSA.EState_VSA3(mol)>),\n",
       " ('EState_VSA4', <function rdkit.Chem.EState.EState_VSA.EState_VSA4(mol)>),\n",
       " ('EState_VSA5', <function rdkit.Chem.EState.EState_VSA.EState_VSA5(mol)>),\n",
       " ('EState_VSA6', <function rdkit.Chem.EState.EState_VSA.EState_VSA6(mol)>),\n",
       " ('EState_VSA7', <function rdkit.Chem.EState.EState_VSA.EState_VSA7(mol)>),\n",
       " ('EState_VSA8', <function rdkit.Chem.EState.EState_VSA.EState_VSA8(mol)>),\n",
       " ('EState_VSA9', <function rdkit.Chem.EState.EState_VSA.EState_VSA9(mol)>),\n",
       " ('VSA_EState1',\n",
       "  <function rdkit.Chem.EState.EState_VSA._descriptor_VSA_EState.<locals>.VSA_EState_bin(mol)>),\n",
       " ('VSA_EState10',\n",
       "  <function rdkit.Chem.EState.EState_VSA._descriptor_VSA_EState.<locals>.VSA_EState_bin(mol)>),\n",
       " ('VSA_EState2',\n",
       "  <function rdkit.Chem.EState.EState_VSA._descriptor_VSA_EState.<locals>.VSA_EState_bin(mol)>),\n",
       " ('VSA_EState3',\n",
       "  <function rdkit.Chem.EState.EState_VSA._descriptor_VSA_EState.<locals>.VSA_EState_bin(mol)>),\n",
       " ('VSA_EState4',\n",
       "  <function rdkit.Chem.EState.EState_VSA._descriptor_VSA_EState.<locals>.VSA_EState_bin(mol)>),\n",
       " ('VSA_EState5',\n",
       "  <function rdkit.Chem.EState.EState_VSA._descriptor_VSA_EState.<locals>.VSA_EState_bin(mol)>),\n",
       " ('VSA_EState6',\n",
       "  <function rdkit.Chem.EState.EState_VSA._descriptor_VSA_EState.<locals>.VSA_EState_bin(mol)>),\n",
       " ('VSA_EState7',\n",
       "  <function rdkit.Chem.EState.EState_VSA._descriptor_VSA_EState.<locals>.VSA_EState_bin(mol)>),\n",
       " ('VSA_EState8',\n",
       "  <function rdkit.Chem.EState.EState_VSA._descriptor_VSA_EState.<locals>.VSA_EState_bin(mol)>),\n",
       " ('VSA_EState9',\n",
       "  <function rdkit.Chem.EState.EState_VSA._descriptor_VSA_EState.<locals>.VSA_EState_bin(mol)>),\n",
       " ('FractionCSP3',\n",
       "  <function rdkit.Chem.Lipinski.<lambda>(x, y=<Boost.Python.function object at 0x181f290>)>),\n",
       " ('HeavyAtomCount', <function rdkit.Chem.Lipinski.HeavyAtomCount(mol)>),\n",
       " ('NHOHCount', <function rdkit.Chem.Lipinski.<lambda>(x)>),\n",
       " ('NOCount', <function rdkit.Chem.Lipinski.<lambda>(x)>),\n",
       " ('NumAliphaticCarbocycles',\n",
       "  <function rdkit.Chem.Lipinski.<lambda>(x, y=<Boost.Python.function object at 0x18c2bb0>)>),\n",
       " ('NumAliphaticHeterocycles',\n",
       "  <function rdkit.Chem.Lipinski.<lambda>(x, y=<Boost.Python.function object at 0x108efa0>)>),\n",
       " ('NumAliphaticRings',\n",
       "  <function rdkit.Chem.Lipinski.<lambda>(x, y=<Boost.Python.function object at 0x108ef50>)>),\n",
       " ('NumAromaticCarbocycles',\n",
       "  <function rdkit.Chem.Lipinski.<lambda>(x, y=<Boost.Python.function object at 0x18ac930>)>),\n",
       " ('NumAromaticHeterocycles',\n",
       "  <function rdkit.Chem.Lipinski.<lambda>(x, y=<Boost.Python.function object at 0x18ac8e0>)>),\n",
       " ('NumAromaticRings',\n",
       "  <function rdkit.Chem.Lipinski.<lambda>(x, y=<Boost.Python.function object at 0x19b3ee0>)>),\n",
       " ('NumHAcceptors', <function rdkit.Chem.Lipinski.<lambda>(x)>),\n",
       " ('NumHDonors', <function rdkit.Chem.Lipinski.<lambda>(x)>),\n",
       " ('NumHeteroatoms', <function rdkit.Chem.Lipinski.<lambda>(x)>),\n",
       " ('NumRotatableBonds', <function rdkit.Chem.Lipinski.<lambda>(x)>),\n",
       " ('NumSaturatedCarbocycles',\n",
       "  <function rdkit.Chem.Lipinski.<lambda>(x, y=<Boost.Python.function object at 0x18d99d0>)>),\n",
       " ('NumSaturatedHeterocycles',\n",
       "  <function rdkit.Chem.Lipinski.<lambda>(x, y=<Boost.Python.function object at 0x18d9980>)>),\n",
       " ('NumSaturatedRings',\n",
       "  <function rdkit.Chem.Lipinski.<lambda>(x, y=<Boost.Python.function object at 0x18ce3e0>)>),\n",
       " ('RingCount', <function rdkit.Chem.Lipinski.<lambda>(x)>),\n",
       " ('MolLogP', <function rdkit.Chem.Crippen.<lambda>(*x, **y)>),\n",
       " ('MolMR', <function rdkit.Chem.Crippen.<lambda>(*x, **y)>),\n",
       " ('fr_Al_COO',\n",
       "  <function rdkit.Chem.Fragments._LoadPatterns.<locals>.<lambda>(mol, countUnique=True, pattern=<rdkit.Chem.rdchem.Mol object at 0x7f0ed5f3a0a0>)>),\n",
       " ('fr_Al_OH',\n",
       "  <function rdkit.Chem.Fragments._LoadPatterns.<locals>.<lambda>(mol, countUnique=True, pattern=<rdkit.Chem.rdchem.Mol object at 0x7f0ed61c6ca0>)>),\n",
       " ('fr_Al_OH_noTert',\n",
       "  <function rdkit.Chem.Fragments._LoadPatterns.<locals>.<lambda>(mol, countUnique=True, pattern=<rdkit.Chem.rdchem.Mol object at 0x7f0ed5f33ac0>)>),\n",
       " ('fr_ArN',\n",
       "  <function rdkit.Chem.Fragments._LoadPatterns.<locals>.<lambda>(mol, countUnique=True, pattern=<rdkit.Chem.rdchem.Mol object at 0x7f0ed5f2c0a0>)>),\n",
       " ('fr_Ar_COO',\n",
       "  <function rdkit.Chem.Fragments._LoadPatterns.<locals>.<lambda>(mol, countUnique=True, pattern=<rdkit.Chem.rdchem.Mol object at 0x7f0ed5f3a040>)>),\n",
       " ('fr_Ar_N',\n",
       "  <function rdkit.Chem.Fragments._LoadPatterns.<locals>.<lambda>(mol, countUnique=True, pattern=<rdkit.Chem.rdchem.Mol object at 0x7f0ed5f3a520>)>),\n",
       " ('fr_Ar_NH',\n",
       "  <function rdkit.Chem.Fragments._LoadPatterns.<locals>.<lambda>(mol, countUnique=True, pattern=<rdkit.Chem.rdchem.Mol object at 0x7f0ed5f3a580>)>),\n",
       " ('fr_Ar_OH',\n",
       "  <function rdkit.Chem.Fragments._LoadPatterns.<locals>.<lambda>(mol, countUnique=True, pattern=<rdkit.Chem.rdchem.Mol object at 0x7f0ed61c6dc0>)>),\n",
       " ('fr_COO',\n",
       "  <function rdkit.Chem.Fragments._LoadPatterns.<locals>.<lambda>(mol, countUnique=True, pattern=<rdkit.Chem.rdchem.Mol object at 0x7f0ed5f3a100>)>),\n",
       " ('fr_COO2',\n",
       "  <function rdkit.Chem.Fragments._LoadPatterns.<locals>.<lambda>(mol, countUnique=True, pattern=<rdkit.Chem.rdchem.Mol object at 0x7f0ed5f3a1c0>)>),\n",
       " ('fr_C_O',\n",
       "  <function rdkit.Chem.Fragments._LoadPatterns.<locals>.<lambda>(mol, countUnique=True, pattern=<rdkit.Chem.rdchem.Mol object at 0x7f0ed61c6b80>)>),\n",
       " ('fr_C_O_noCOO',\n",
       "  <function rdkit.Chem.Fragments._LoadPatterns.<locals>.<lambda>(mol, countUnique=True, pattern=<rdkit.Chem.rdchem.Mol object at 0x7f0ed61c6d00>)>),\n",
       " ('fr_C_S',\n",
       "  <function rdkit.Chem.Fragments._LoadPatterns.<locals>.<lambda>(mol, countUnique=True, pattern=<rdkit.Chem.rdchem.Mol object at 0x7f0ed5f3af40>)>),\n",
       " ('fr_HOCCN',\n",
       "  <function rdkit.Chem.Fragments._LoadPatterns.<locals>.<lambda>(mol, countUnique=True, pattern=<rdkit.Chem.rdchem.Mol object at 0x7f0ed5f2c100>)>),\n",
       " ('fr_Imine',\n",
       "  <function rdkit.Chem.Fragments._LoadPatterns.<locals>.<lambda>(mol, countUnique=True, pattern=<rdkit.Chem.rdchem.Mol object at 0x7f0ed5f3a640>)>),\n",
       " ('fr_NH0',\n",
       "  <function rdkit.Chem.Fragments._LoadPatterns.<locals>.<lambda>(mol, countUnique=True, pattern=<rdkit.Chem.rdchem.Mol object at 0x7f0ed5f3a460>)>),\n",
       " ('fr_NH1',\n",
       "  <function rdkit.Chem.Fragments._LoadPatterns.<locals>.<lambda>(mol, countUnique=True, pattern=<rdkit.Chem.rdchem.Mol object at 0x7f0ed5f3a4c0>)>),\n",
       " ('fr_NH2',\n",
       "  <function rdkit.Chem.Fragments._LoadPatterns.<locals>.<lambda>(mol, countUnique=True, pattern=<rdkit.Chem.rdchem.Mol object at 0x7f0ed5f3a2e0>)>),\n",
       " ('fr_N_O',\n",
       "  <function rdkit.Chem.Fragments._LoadPatterns.<locals>.<lambda>(mol, countUnique=True, pattern=<rdkit.Chem.rdchem.Mol object at 0x7f0ed5f3a820>)>),\n",
       " ('fr_Ndealkylation1',\n",
       "  <function rdkit.Chem.Fragments._LoadPatterns.<locals>.<lambda>(mol, countUnique=True, pattern=<rdkit.Chem.rdchem.Mol object at 0x7f0ed5f33dc0>)>),\n",
       " ('fr_Ndealkylation2',\n",
       "  <function rdkit.Chem.Fragments._LoadPatterns.<locals>.<lambda>(mol, countUnique=True, pattern=<rdkit.Chem.rdchem.Mol object at 0x7f0ed5f33fa0>)>),\n",
       " ('fr_Nhpyrrole',\n",
       "  <function rdkit.Chem.Fragments._LoadPatterns.<locals>.<lambda>(mol, countUnique=True, pattern=<rdkit.Chem.rdchem.Mol object at 0x7f0ed5f3abe0>)>),\n",
       " ('fr_SH',\n",
       "  <function rdkit.Chem.Fragments._LoadPatterns.<locals>.<lambda>(mol, countUnique=True, pattern=<rdkit.Chem.rdchem.Mol object at 0x7f0ed5f3ae80>)>),\n",
       " ('fr_aldehyde',\n",
       "  <function rdkit.Chem.Fragments._LoadPatterns.<locals>.<lambda>(mol, countUnique=True, pattern=<rdkit.Chem.rdchem.Mol object at 0x7f0ed5f3a3a0>)>),\n",
       " ('fr_alkyl_carbamate',\n",
       "  <function rdkit.Chem.Fragments._LoadPatterns.<locals>.<lambda>(mol, countUnique=True, pattern=<rdkit.Chem.rdchem.Mol object at 0x7f0ed5f33e20>)>),\n",
       " ('fr_alkyl_halide',\n",
       "  <function rdkit.Chem.Fragments._LoadPatterns.<locals>.<lambda>(mol, countUnique=True, pattern=<rdkit.Chem.rdchem.Mol object at 0x7f0ed5f3adc0>)>),\n",
       " ('fr_allylic_oxid',\n",
       "  <function rdkit.Chem.Fragments._LoadPatterns.<locals>.<lambda>(mol, countUnique=True, pattern=<rdkit.Chem.rdchem.Mol object at 0x7f0ed5f33d60>)>),\n",
       " ('fr_amide',\n",
       "  <function rdkit.Chem.Fragments._LoadPatterns.<locals>.<lambda>(mol, countUnique=True, pattern=<rdkit.Chem.rdchem.Mol object at 0x7f0ed5f3aa60>)>),\n",
       " ('fr_amidine',\n",
       "  <function rdkit.Chem.Fragments._LoadPatterns.<locals>.<lambda>(mol, countUnique=True, pattern=<rdkit.Chem.rdchem.Mol object at 0x7f0ed5f3ab20>)>),\n",
       " ('fr_aniline',\n",
       "  <function rdkit.Chem.Fragments._LoadPatterns.<locals>.<lambda>(mol, countUnique=True, pattern=<rdkit.Chem.rdchem.Mol object at 0x7f0ed5f3a5e0>)>),\n",
       " ('fr_aryl_methyl',\n",
       "  <function rdkit.Chem.Fragments._LoadPatterns.<locals>.<lambda>(mol, countUnique=True, pattern=<rdkit.Chem.rdchem.Mol object at 0x7f0ed5f33f40>)>),\n",
       " ('fr_azide',\n",
       "  <function rdkit.Chem.Fragments._LoadPatterns.<locals>.<lambda>(mol, countUnique=True, pattern=<rdkit.Chem.rdchem.Mol object at 0x7f0ed5f3a880>)>),\n",
       " ('fr_azo',\n",
       "  <function rdkit.Chem.Fragments._LoadPatterns.<locals>.<lambda>(mol, countUnique=True, pattern=<rdkit.Chem.rdchem.Mol object at 0x7f0ed5f3aa00>)>),\n",
       " ('fr_barbitur',\n",
       "  <function rdkit.Chem.Fragments._LoadPatterns.<locals>.<lambda>(mol, countUnique=True, pattern=<rdkit.Chem.rdchem.Mol object at 0x7f0ed5f332e0>)>),\n",
       " ('fr_benzene',\n",
       "  <function rdkit.Chem.Fragments._LoadPatterns.<locals>.<lambda>(mol, countUnique=True, pattern=<rdkit.Chem.rdchem.Mol object at 0x7f0ed5f33880>)>),\n",
       " ('fr_benzodiazepine',\n",
       "  <function rdkit.Chem.Fragments._LoadPatterns.<locals>.<lambda>(mol, countUnique=True, pattern=<rdkit.Chem.rdchem.Mol object at 0x7f0ed5f33ca0>)>),\n",
       " ('fr_bicyclic',\n",
       "  <function rdkit.Chem.Fragments._LoadPatterns.<locals>.<lambda>(mol, countUnique=True, pattern=<rdkit.Chem.rdchem.Mol object at 0x7f0ed5f33820>)>),\n",
       " ('fr_diazo',\n",
       "  <function rdkit.Chem.Fragments._LoadPatterns.<locals>.<lambda>(mol, countUnique=True, pattern=<rdkit.Chem.rdchem.Mol object at 0x7f0ed5f3a9a0>)>),\n",
       " ('fr_dihydropyridine',\n",
       "  <function rdkit.Chem.Fragments._LoadPatterns.<locals>.<lambda>(mol, countUnique=True, pattern=<rdkit.Chem.rdchem.Mol object at 0x7f0ed5f33be0>)>),\n",
       " ('fr_epoxide',\n",
       "  <function rdkit.Chem.Fragments._LoadPatterns.<locals>.<lambda>(mol, countUnique=True, pattern=<rdkit.Chem.rdchem.Mol object at 0x7f0ed5f337c0>)>),\n",
       " ('fr_ester',\n",
       "  <function rdkit.Chem.Fragments._LoadPatterns.<locals>.<lambda>(mol, countUnique=True, pattern=<rdkit.Chem.rdchem.Mol object at 0x7f0ed61c6e80>)>),\n",
       " ('fr_ether',\n",
       "  <function rdkit.Chem.Fragments._LoadPatterns.<locals>.<lambda>(mol, countUnique=True, pattern=<rdkit.Chem.rdchem.Mol object at 0x7f0ed5f3a340>)>),\n",
       " ('fr_furan',\n",
       "  <function rdkit.Chem.Fragments._LoadPatterns.<locals>.<lambda>(mol, countUnique=True, pattern=<rdkit.Chem.rdchem.Mol object at 0x7f0ed5f33220>)>),\n",
       " ('fr_guanido',\n",
       "  <function rdkit.Chem.Fragments._LoadPatterns.<locals>.<lambda>(mol, countUnique=True, pattern=<rdkit.Chem.rdchem.Mol object at 0x7f0ed5f3ab80>)>),\n",
       " ('fr_halogen',\n",
       "  <function rdkit.Chem.Fragments._LoadPatterns.<locals>.<lambda>(mol, countUnique=True, pattern=<rdkit.Chem.rdchem.Mol object at 0x7f0ed5f3ae20>)>),\n",
       " ('fr_hdrzine',\n",
       "  <function rdkit.Chem.Fragments._LoadPatterns.<locals>.<lambda>(mol, countUnique=True, pattern=<rdkit.Chem.rdchem.Mol object at 0x7f0ed5f3a760>)>),\n",
       " ('fr_hdrzone',\n",
       "  <function rdkit.Chem.Fragments._LoadPatterns.<locals>.<lambda>(mol, countUnique=True, pattern=<rdkit.Chem.rdchem.Mol object at 0x7f0ed5f3a700>)>),\n",
       " ('fr_imidazole',\n",
       "  <function rdkit.Chem.Fragments._LoadPatterns.<locals>.<lambda>(mol, countUnique=True, pattern=<rdkit.Chem.rdchem.Mol object at 0x7f0ed5f33280>)>),\n",
       " ('fr_imide',\n",
       "  <function rdkit.Chem.Fragments._LoadPatterns.<locals>.<lambda>(mol, countUnique=True, pattern=<rdkit.Chem.rdchem.Mol object at 0x7f0ed5f3ac40>)>),\n",
       " ('fr_isocyan',\n",
       "  <function rdkit.Chem.Fragments._LoadPatterns.<locals>.<lambda>(mol, countUnique=True, pattern=<rdkit.Chem.rdchem.Mol object at 0x7f0ed5f3aca0>)>),\n",
       " ('fr_isothiocyan',\n",
       "  <function rdkit.Chem.Fragments._LoadPatterns.<locals>.<lambda>(mol, countUnique=True, pattern=<rdkit.Chem.rdchem.Mol object at 0x7f0ed5f3ad00>)>),\n",
       " ('fr_ketone',\n",
       "  <function rdkit.Chem.Fragments._LoadPatterns.<locals>.<lambda>(mol, countUnique=True, pattern=<rdkit.Chem.rdchem.Mol object at 0x7f0ed5f3a160>)>),\n",
       " ('fr_ketone_Topliss',\n",
       "  <function rdkit.Chem.Fragments._LoadPatterns.<locals>.<lambda>(mol, countUnique=True, pattern=<rdkit.Chem.rdchem.Mol object at 0x7f0ed5f2c040>)>),\n",
       " ('fr_lactam',\n",
       "  <function rdkit.Chem.Fragments._LoadPatterns.<locals>.<lambda>(mol, countUnique=True, pattern=<rdkit.Chem.rdchem.Mol object at 0x7f0ed5f335e0>)>),\n",
       " ('fr_lactone',\n",
       "  <function rdkit.Chem.Fragments._LoadPatterns.<locals>.<lambda>(mol, countUnique=True, pattern=<rdkit.Chem.rdchem.Mol object at 0x7f0ed5f33760>)>),\n",
       " ('fr_methoxy',\n",
       "  <function rdkit.Chem.Fragments._LoadPatterns.<locals>.<lambda>(mol, countUnique=True, pattern=<rdkit.Chem.rdchem.Mol object at 0x7f0ed61c6e20>)>),\n",
       " ('fr_morpholine',\n",
       "  <function rdkit.Chem.Fragments._LoadPatterns.<locals>.<lambda>(mol, countUnique=True, pattern=<rdkit.Chem.rdchem.Mol object at 0x7f0ed5f33580>)>),\n",
       " ('fr_nitrile',\n",
       "  <function rdkit.Chem.Fragments._LoadPatterns.<locals>.<lambda>(mol, countUnique=True, pattern=<rdkit.Chem.rdchem.Mol object at 0x7f0ed5f3a6a0>)>),\n",
       " ('fr_nitro',\n",
       "  <function rdkit.Chem.Fragments._LoadPatterns.<locals>.<lambda>(mol, countUnique=True, pattern=<rdkit.Chem.rdchem.Mol object at 0x7f0ed5f3a940>)>),\n",
       " ('fr_nitro_arom',\n",
       "  <function rdkit.Chem.Fragments._LoadPatterns.<locals>.<lambda>(mol, countUnique=True, pattern=<rdkit.Chem.rdchem.Mol object at 0x7f0ed5f33b80>)>),\n",
       " ('fr_nitro_arom_nonortho',\n",
       "  <function rdkit.Chem.Fragments._LoadPatterns.<locals>.<lambda>(mol, countUnique=True, pattern=<rdkit.Chem.rdchem.Mol object at 0x7f0ed5f33a60>)>),\n",
       " ('fr_nitroso',\n",
       "  <function rdkit.Chem.Fragments._LoadPatterns.<locals>.<lambda>(mol, countUnique=True, pattern=<rdkit.Chem.rdchem.Mol object at 0x7f0ed5f3a8e0>)>),\n",
       " ('fr_oxazole',\n",
       "  <function rdkit.Chem.Fragments._LoadPatterns.<locals>.<lambda>(mol, countUnique=True, pattern=<rdkit.Chem.rdchem.Mol object at 0x7f0ed5f33400>)>),\n",
       " ('fr_oxime',\n",
       "  <function rdkit.Chem.Fragments._LoadPatterns.<locals>.<lambda>(mol, countUnique=True, pattern=<rdkit.Chem.rdchem.Mol object at 0x7f0ed61c6ee0>)>),\n",
       " ('fr_para_hydroxylation',\n",
       "  <function rdkit.Chem.Fragments._LoadPatterns.<locals>.<lambda>(mol, countUnique=True, pattern=<rdkit.Chem.rdchem.Mol object at 0x7f0ed5f33e80>)>),\n",
       " ('fr_phenol',\n",
       "  <function rdkit.Chem.Fragments._LoadPatterns.<locals>.<lambda>(mol, countUnique=True, pattern=<rdkit.Chem.rdchem.Mol object at 0x7f0ed5f3a280>)>),\n",
       " ('fr_phenol_noOrthoHbond',\n",
       "  <function rdkit.Chem.Fragments._LoadPatterns.<locals>.<lambda>(mol, countUnique=True, pattern=<rdkit.Chem.rdchem.Mol object at 0x7f0ed5f33c40>)>),\n",
       " ('fr_phos_acid',\n",
       "  <function rdkit.Chem.Fragments._LoadPatterns.<locals>.<lambda>(mol, countUnique=True, pattern=<rdkit.Chem.rdchem.Mol object at 0x7f0ed5f33a00>)>),\n",
       " ('fr_phos_ester',\n",
       "  <function rdkit.Chem.Fragments._LoadPatterns.<locals>.<lambda>(mol, countUnique=True, pattern=<rdkit.Chem.rdchem.Mol object at 0x7f0ed5f339a0>)>),\n",
       " ('fr_piperdine',\n",
       "  <function rdkit.Chem.Fragments._LoadPatterns.<locals>.<lambda>(mol, countUnique=True, pattern=<rdkit.Chem.rdchem.Mol object at 0x7f0ed5f334c0>)>),\n",
       " ('fr_piperzine',\n",
       "  <function rdkit.Chem.Fragments._LoadPatterns.<locals>.<lambda>(mol, countUnique=True, pattern=<rdkit.Chem.rdchem.Mol object at 0x7f0ed5f33520>)>),\n",
       " ('fr_priamide',\n",
       "  <function rdkit.Chem.Fragments._LoadPatterns.<locals>.<lambda>(mol, countUnique=True, pattern=<rdkit.Chem.rdchem.Mol object at 0x7f0ed5f3aac0>)>),\n",
       " ('fr_prisulfonamd',\n",
       "  <function rdkit.Chem.Fragments._LoadPatterns.<locals>.<lambda>(mol, countUnique=True, pattern=<rdkit.Chem.rdchem.Mol object at 0x7f0ed5f331c0>)>),\n",
       " ('fr_pyridine',\n",
       "  <function rdkit.Chem.Fragments._LoadPatterns.<locals>.<lambda>(mol, countUnique=True, pattern=<rdkit.Chem.rdchem.Mol object at 0x7f0ed5f33460>)>),\n",
       " ('fr_quatN',\n",
       "  <function rdkit.Chem.Fragments._LoadPatterns.<locals>.<lambda>(mol, countUnique=True, pattern=<rdkit.Chem.rdchem.Mol object at 0x7f0ed5f3a400>)>),\n",
       " ('fr_sulfide',\n",
       "  <function rdkit.Chem.Fragments._LoadPatterns.<locals>.<lambda>(mol, countUnique=True, pattern=<rdkit.Chem.rdchem.Mol object at 0x7f0ed5f3aee0>)>),\n",
       " ('fr_sulfonamd',\n",
       "  <function rdkit.Chem.Fragments._LoadPatterns.<locals>.<lambda>(mol, countUnique=True, pattern=<rdkit.Chem.rdchem.Mol object at 0x7f0ed5f33160>)>),\n",
       " ('fr_sulfone',\n",
       "  <function rdkit.Chem.Fragments._LoadPatterns.<locals>.<lambda>(mol, countUnique=True, pattern=<rdkit.Chem.rdchem.Mol object at 0x7f0ed5f33100>)>),\n",
       " ('fr_term_acetylene',\n",
       "  <function rdkit.Chem.Fragments._LoadPatterns.<locals>.<lambda>(mol, countUnique=True, pattern=<rdkit.Chem.rdchem.Mol object at 0x7f0ed5f330a0>)>),\n",
       " ('fr_tetrazole',\n",
       "  <function rdkit.Chem.Fragments._LoadPatterns.<locals>.<lambda>(mol, countUnique=True, pattern=<rdkit.Chem.rdchem.Mol object at 0x7f0ed5f336a0>)>),\n",
       " ('fr_thiazole',\n",
       "  <function rdkit.Chem.Fragments._LoadPatterns.<locals>.<lambda>(mol, countUnique=True, pattern=<rdkit.Chem.rdchem.Mol object at 0x7f0ed5f333a0>)>),\n",
       " ('fr_thiocyan',\n",
       "  <function rdkit.Chem.Fragments._LoadPatterns.<locals>.<lambda>(mol, countUnique=True, pattern=<rdkit.Chem.rdchem.Mol object at 0x7f0ed5f3ad60>)>),\n",
       " ('fr_thiophene',\n",
       "  <function rdkit.Chem.Fragments._LoadPatterns.<locals>.<lambda>(mol, countUnique=True, pattern=<rdkit.Chem.rdchem.Mol object at 0x7f0ed5f33340>)>),\n",
       " ('fr_unbrch_alkane',\n",
       "  <function rdkit.Chem.Fragments._LoadPatterns.<locals>.<lambda>(mol, countUnique=True, pattern=<rdkit.Chem.rdchem.Mol object at 0x7f0ed5f33700>)>),\n",
       " ('fr_urea',\n",
       "  <function rdkit.Chem.Fragments._LoadPatterns.<locals>.<lambda>(mol, countUnique=True, pattern=<rdkit.Chem.rdchem.Mol object at 0x7f0ed5f33040>)>)]"
      ]
     },
     "execution_count": 106,
     "metadata": {},
     "output_type": "execute_result"
    }
   ],
   "source": [
    "from rdkit.Chem import Descriptors\n",
    "\n",
    "Descriptors._descList"
   ]
  },
  {
   "cell_type": "markdown",
   "metadata": {},
   "source": [
    "Compute all descriptors in the _descList list of the paracetamol molecule using the MoleculeDescriptors.MolecularDescriptorCalculator class"
   ]
  },
  {
   "cell_type": "code",
   "execution_count": 142,
   "metadata": {},
   "outputs": [],
   "source": [
    "descriptor_names = [ desc[0] for desc in Descriptors._descList]"
   ]
  },
  {
   "cell_type": "code",
   "execution_count": 143,
   "metadata": {},
   "outputs": [],
   "source": [
    "calculator = MoleculeDescriptors.MolecularDescriptorCalculator(descriptor_names)"
   ]
  },
  {
   "cell_type": "markdown",
   "metadata": {
    "executionInfo": {
     "elapsed": 305,
     "status": "ok",
     "timestamp": 1629703040428,
     "user": {
      "displayName": "ngoc mac",
      "photoUrl": "",
      "userId": "17981024361133171440"
     },
     "user_tz": -120
    },
    "id": "vQcACF5K3l1y"
   },
   "source": [
    "Display the names and the fvalues of the descriptors"
   ]
  },
  {
   "cell_type": "code",
   "execution_count": 123,
   "metadata": {
    "colab": {
     "base_uri": "https://localhost:8080/"
    },
    "executionInfo": {
     "elapsed": 344,
     "status": "ok",
     "timestamp": 1629703050933,
     "user": {
      "displayName": "ngoc mac",
      "photoUrl": "",
      "userId": "17981024361133171440"
     },
     "user_tz": -120
    },
    "id": "uKfd9F_93urZ",
    "outputId": "329b316b-b96b-4af4-e858-4a5e037a217f"
   },
   "outputs": [
    {
     "name": "stdout",
     "output_type": "stream",
     "text": [
      "<bound method MolecularDescriptorCalculator.GetDescriptorFuncs of <rdkit.ML.Descriptors.MoleculeDescriptors.MolecularDescriptorCalculator object at 0x7f0ed5f29c70>>\n",
      "<bound method MolecularDescriptorCalculator.GetDescriptorNames of <rdkit.ML.Descriptors.MoleculeDescriptors.MolecularDescriptorCalculator object at 0x7f0ed5f29c70>> \n",
      "\n",
      "\n",
      "<bound method MolecularDescriptorCalculator.GetDescriptorFuncs of <rdkit.ML.Descriptors.MoleculeDescriptors.MolecularDescriptorCalculator object at 0x7f0ed5f29550>>\n",
      "<bound method MolecularDescriptorCalculator.GetDescriptorNames of <rdkit.ML.Descriptors.MoleculeDescriptors.MolecularDescriptorCalculator object at 0x7f0ed5f29550>> \n",
      "\n",
      "\n",
      "<bound method MolecularDescriptorCalculator.GetDescriptorFuncs of <rdkit.ML.Descriptors.MoleculeDescriptors.MolecularDescriptorCalculator object at 0x7f0ed5f292b0>>\n",
      "<bound method MolecularDescriptorCalculator.GetDescriptorNames of <rdkit.ML.Descriptors.MoleculeDescriptors.MolecularDescriptorCalculator object at 0x7f0ed5f292b0>> \n",
      "\n",
      "\n",
      "<bound method MolecularDescriptorCalculator.GetDescriptorFuncs of <rdkit.ML.Descriptors.MoleculeDescriptors.MolecularDescriptorCalculator object at 0x7f0ed5f29e80>>\n",
      "<bound method MolecularDescriptorCalculator.GetDescriptorNames of <rdkit.ML.Descriptors.MoleculeDescriptors.MolecularDescriptorCalculator object at 0x7f0ed5f29e80>> \n",
      "\n",
      "\n",
      "<bound method MolecularDescriptorCalculator.GetDescriptorFuncs of <rdkit.ML.Descriptors.MoleculeDescriptors.MolecularDescriptorCalculator object at 0x7f0ed5f15cd0>>\n",
      "<bound method MolecularDescriptorCalculator.GetDescriptorNames of <rdkit.ML.Descriptors.MoleculeDescriptors.MolecularDescriptorCalculator object at 0x7f0ed5f15cd0>> \n",
      "\n",
      "\n",
      "<bound method MolecularDescriptorCalculator.GetDescriptorFuncs of <rdkit.ML.Descriptors.MoleculeDescriptors.MolecularDescriptorCalculator object at 0x7f0ed5f15610>>\n",
      "<bound method MolecularDescriptorCalculator.GetDescriptorNames of <rdkit.ML.Descriptors.MoleculeDescriptors.MolecularDescriptorCalculator object at 0x7f0ed5f15610>> \n",
      "\n",
      "\n",
      "<bound method MolecularDescriptorCalculator.GetDescriptorFuncs of <rdkit.ML.Descriptors.MoleculeDescriptors.MolecularDescriptorCalculator object at 0x7f0ed5f15f70>>\n",
      "<bound method MolecularDescriptorCalculator.GetDescriptorNames of <rdkit.ML.Descriptors.MoleculeDescriptors.MolecularDescriptorCalculator object at 0x7f0ed5f15f70>> \n",
      "\n",
      "\n",
      "<bound method MolecularDescriptorCalculator.GetDescriptorFuncs of <rdkit.ML.Descriptors.MoleculeDescriptors.MolecularDescriptorCalculator object at 0x7f0ed5f15fa0>>\n",
      "<bound method MolecularDescriptorCalculator.GetDescriptorNames of <rdkit.ML.Descriptors.MoleculeDescriptors.MolecularDescriptorCalculator object at 0x7f0ed5f15fa0>> \n",
      "\n",
      "\n",
      "<bound method MolecularDescriptorCalculator.GetDescriptorFuncs of <rdkit.ML.Descriptors.MoleculeDescriptors.MolecularDescriptorCalculator object at 0x7f0ed5f15520>>\n",
      "<bound method MolecularDescriptorCalculator.GetDescriptorNames of <rdkit.ML.Descriptors.MoleculeDescriptors.MolecularDescriptorCalculator object at 0x7f0ed5f15520>> \n",
      "\n",
      "\n",
      "<bound method MolecularDescriptorCalculator.GetDescriptorFuncs of <rdkit.ML.Descriptors.MoleculeDescriptors.MolecularDescriptorCalculator object at 0x7f0ed5f15760>>\n",
      "<bound method MolecularDescriptorCalculator.GetDescriptorNames of <rdkit.ML.Descriptors.MoleculeDescriptors.MolecularDescriptorCalculator object at 0x7f0ed5f15760>> \n",
      "\n",
      "\n",
      "<bound method MolecularDescriptorCalculator.GetDescriptorFuncs of <rdkit.ML.Descriptors.MoleculeDescriptors.MolecularDescriptorCalculator object at 0x7f0ed5f154c0>>\n",
      "<bound method MolecularDescriptorCalculator.GetDescriptorNames of <rdkit.ML.Descriptors.MoleculeDescriptors.MolecularDescriptorCalculator object at 0x7f0ed5f154c0>> \n",
      "\n",
      "\n",
      "<bound method MolecularDescriptorCalculator.GetDescriptorFuncs of <rdkit.ML.Descriptors.MoleculeDescriptors.MolecularDescriptorCalculator object at 0x7f0ed5f15670>>\n",
      "<bound method MolecularDescriptorCalculator.GetDescriptorNames of <rdkit.ML.Descriptors.MoleculeDescriptors.MolecularDescriptorCalculator object at 0x7f0ed5f15670>> \n",
      "\n",
      "\n",
      "<bound method MolecularDescriptorCalculator.GetDescriptorFuncs of <rdkit.ML.Descriptors.MoleculeDescriptors.MolecularDescriptorCalculator object at 0x7f0ed5f15b20>>\n",
      "<bound method MolecularDescriptorCalculator.GetDescriptorNames of <rdkit.ML.Descriptors.MoleculeDescriptors.MolecularDescriptorCalculator object at 0x7f0ed5f15b20>> \n",
      "\n",
      "\n",
      "<bound method MolecularDescriptorCalculator.GetDescriptorFuncs of <rdkit.ML.Descriptors.MoleculeDescriptors.MolecularDescriptorCalculator object at 0x7f0ed5f15fd0>>\n",
      "<bound method MolecularDescriptorCalculator.GetDescriptorNames of <rdkit.ML.Descriptors.MoleculeDescriptors.MolecularDescriptorCalculator object at 0x7f0ed5f15fd0>> \n",
      "\n",
      "\n",
      "<bound method MolecularDescriptorCalculator.GetDescriptorFuncs of <rdkit.ML.Descriptors.MoleculeDescriptors.MolecularDescriptorCalculator object at 0x7f0ed5f15550>>\n",
      "<bound method MolecularDescriptorCalculator.GetDescriptorNames of <rdkit.ML.Descriptors.MoleculeDescriptors.MolecularDescriptorCalculator object at 0x7f0ed5f15550>> \n",
      "\n",
      "\n",
      "<bound method MolecularDescriptorCalculator.GetDescriptorFuncs of <rdkit.ML.Descriptors.MoleculeDescriptors.MolecularDescriptorCalculator object at 0x7f0ed5f15ee0>>\n",
      "<bound method MolecularDescriptorCalculator.GetDescriptorNames of <rdkit.ML.Descriptors.MoleculeDescriptors.MolecularDescriptorCalculator object at 0x7f0ed5f15ee0>> \n",
      "\n",
      "\n",
      "<bound method MolecularDescriptorCalculator.GetDescriptorFuncs of <rdkit.ML.Descriptors.MoleculeDescriptors.MolecularDescriptorCalculator object at 0x7f0ed5f15df0>>\n",
      "<bound method MolecularDescriptorCalculator.GetDescriptorNames of <rdkit.ML.Descriptors.MoleculeDescriptors.MolecularDescriptorCalculator object at 0x7f0ed5f15df0>> \n",
      "\n",
      "\n",
      "<bound method MolecularDescriptorCalculator.GetDescriptorFuncs of <rdkit.ML.Descriptors.MoleculeDescriptors.MolecularDescriptorCalculator object at 0x7f0ed5f15d00>>\n",
      "<bound method MolecularDescriptorCalculator.GetDescriptorNames of <rdkit.ML.Descriptors.MoleculeDescriptors.MolecularDescriptorCalculator object at 0x7f0ed5f15d00>> \n",
      "\n",
      "\n",
      "<bound method MolecularDescriptorCalculator.GetDescriptorFuncs of <rdkit.ML.Descriptors.MoleculeDescriptors.MolecularDescriptorCalculator object at 0x7f0ed5f152e0>>\n",
      "<bound method MolecularDescriptorCalculator.GetDescriptorNames of <rdkit.ML.Descriptors.MoleculeDescriptors.MolecularDescriptorCalculator object at 0x7f0ed5f152e0>> \n",
      "\n",
      "\n",
      "<bound method MolecularDescriptorCalculator.GetDescriptorFuncs of <rdkit.ML.Descriptors.MoleculeDescriptors.MolecularDescriptorCalculator object at 0x7f0ed5f15070>>\n",
      "<bound method MolecularDescriptorCalculator.GetDescriptorNames of <rdkit.ML.Descriptors.MoleculeDescriptors.MolecularDescriptorCalculator object at 0x7f0ed5f15070>> \n",
      "\n",
      "\n",
      "<bound method MolecularDescriptorCalculator.GetDescriptorFuncs of <rdkit.ML.Descriptors.MoleculeDescriptors.MolecularDescriptorCalculator object at 0x7f0ed5f152b0>>\n",
      "<bound method MolecularDescriptorCalculator.GetDescriptorNames of <rdkit.ML.Descriptors.MoleculeDescriptors.MolecularDescriptorCalculator object at 0x7f0ed5f152b0>> \n",
      "\n",
      "\n",
      "<bound method MolecularDescriptorCalculator.GetDescriptorFuncs of <rdkit.ML.Descriptors.MoleculeDescriptors.MolecularDescriptorCalculator object at 0x7f0ed5f15a00>>\n",
      "<bound method MolecularDescriptorCalculator.GetDescriptorNames of <rdkit.ML.Descriptors.MoleculeDescriptors.MolecularDescriptorCalculator object at 0x7f0ed5f15a00>> \n",
      "\n",
      "\n",
      "<bound method MolecularDescriptorCalculator.GetDescriptorFuncs of <rdkit.ML.Descriptors.MoleculeDescriptors.MolecularDescriptorCalculator object at 0x7f0ed5f15850>>\n",
      "<bound method MolecularDescriptorCalculator.GetDescriptorNames of <rdkit.ML.Descriptors.MoleculeDescriptors.MolecularDescriptorCalculator object at 0x7f0ed5f15850>> \n",
      "\n",
      "\n",
      "<bound method MolecularDescriptorCalculator.GetDescriptorFuncs of <rdkit.ML.Descriptors.MoleculeDescriptors.MolecularDescriptorCalculator object at 0x7f0ed5f15190>>\n",
      "<bound method MolecularDescriptorCalculator.GetDescriptorNames of <rdkit.ML.Descriptors.MoleculeDescriptors.MolecularDescriptorCalculator object at 0x7f0ed5f15190>> \n",
      "\n",
      "\n",
      "<bound method MolecularDescriptorCalculator.GetDescriptorFuncs of <rdkit.ML.Descriptors.MoleculeDescriptors.MolecularDescriptorCalculator object at 0x7f0ed5f15250>>\n",
      "<bound method MolecularDescriptorCalculator.GetDescriptorNames of <rdkit.ML.Descriptors.MoleculeDescriptors.MolecularDescriptorCalculator object at 0x7f0ed5f15250>> \n",
      "\n",
      "\n",
      "<bound method MolecularDescriptorCalculator.GetDescriptorFuncs of <rdkit.ML.Descriptors.MoleculeDescriptors.MolecularDescriptorCalculator object at 0x7f0ed5f3b5e0>>\n",
      "<bound method MolecularDescriptorCalculator.GetDescriptorNames of <rdkit.ML.Descriptors.MoleculeDescriptors.MolecularDescriptorCalculator object at 0x7f0ed5f3b5e0>> \n",
      "\n",
      "\n",
      "<bound method MolecularDescriptorCalculator.GetDescriptorFuncs of <rdkit.ML.Descriptors.MoleculeDescriptors.MolecularDescriptorCalculator object at 0x7f0ed5f3b5b0>>\n",
      "<bound method MolecularDescriptorCalculator.GetDescriptorNames of <rdkit.ML.Descriptors.MoleculeDescriptors.MolecularDescriptorCalculator object at 0x7f0ed5f3b5b0>> \n",
      "\n",
      "\n",
      "<bound method MolecularDescriptorCalculator.GetDescriptorFuncs of <rdkit.ML.Descriptors.MoleculeDescriptors.MolecularDescriptorCalculator object at 0x7f0ed5f3b550>>\n",
      "<bound method MolecularDescriptorCalculator.GetDescriptorNames of <rdkit.ML.Descriptors.MoleculeDescriptors.MolecularDescriptorCalculator object at 0x7f0ed5f3b550>> \n",
      "\n",
      "\n",
      "<bound method MolecularDescriptorCalculator.GetDescriptorFuncs of <rdkit.ML.Descriptors.MoleculeDescriptors.MolecularDescriptorCalculator object at 0x7f0ed5f3b700>>\n",
      "<bound method MolecularDescriptorCalculator.GetDescriptorNames of <rdkit.ML.Descriptors.MoleculeDescriptors.MolecularDescriptorCalculator object at 0x7f0ed5f3b700>> \n",
      "\n",
      "\n",
      "<bound method MolecularDescriptorCalculator.GetDescriptorFuncs of <rdkit.ML.Descriptors.MoleculeDescriptors.MolecularDescriptorCalculator object at 0x7f0ed5f3b970>>\n",
      "<bound method MolecularDescriptorCalculator.GetDescriptorNames of <rdkit.ML.Descriptors.MoleculeDescriptors.MolecularDescriptorCalculator object at 0x7f0ed5f3b970>> \n",
      "\n",
      "\n",
      "<bound method MolecularDescriptorCalculator.GetDescriptorFuncs of <rdkit.ML.Descriptors.MoleculeDescriptors.MolecularDescriptorCalculator object at 0x7f0ed5f164f0>>\n",
      "<bound method MolecularDescriptorCalculator.GetDescriptorNames of <rdkit.ML.Descriptors.MoleculeDescriptors.MolecularDescriptorCalculator object at 0x7f0ed5f164f0>> \n",
      "\n",
      "\n",
      "<bound method MolecularDescriptorCalculator.GetDescriptorFuncs of <rdkit.ML.Descriptors.MoleculeDescriptors.MolecularDescriptorCalculator object at 0x7f0ed5f16a90>>\n",
      "<bound method MolecularDescriptorCalculator.GetDescriptorNames of <rdkit.ML.Descriptors.MoleculeDescriptors.MolecularDescriptorCalculator object at 0x7f0ed5f16a90>> \n",
      "\n",
      "\n",
      "<bound method MolecularDescriptorCalculator.GetDescriptorFuncs of <rdkit.ML.Descriptors.MoleculeDescriptors.MolecularDescriptorCalculator object at 0x7f0ed5f16490>>\n",
      "<bound method MolecularDescriptorCalculator.GetDescriptorNames of <rdkit.ML.Descriptors.MoleculeDescriptors.MolecularDescriptorCalculator object at 0x7f0ed5f16490>> \n",
      "\n",
      "\n",
      "<bound method MolecularDescriptorCalculator.GetDescriptorFuncs of <rdkit.ML.Descriptors.MoleculeDescriptors.MolecularDescriptorCalculator object at 0x7f0ed5f16df0>>\n",
      "<bound method MolecularDescriptorCalculator.GetDescriptorNames of <rdkit.ML.Descriptors.MoleculeDescriptors.MolecularDescriptorCalculator object at 0x7f0ed5f16df0>> \n",
      "\n",
      "\n",
      "<bound method MolecularDescriptorCalculator.GetDescriptorFuncs of <rdkit.ML.Descriptors.MoleculeDescriptors.MolecularDescriptorCalculator object at 0x7f0ed5f16580>>\n",
      "<bound method MolecularDescriptorCalculator.GetDescriptorNames of <rdkit.ML.Descriptors.MoleculeDescriptors.MolecularDescriptorCalculator object at 0x7f0ed5f16580>> \n",
      "\n",
      "\n",
      "<bound method MolecularDescriptorCalculator.GetDescriptorFuncs of <rdkit.ML.Descriptors.MoleculeDescriptors.MolecularDescriptorCalculator object at 0x7f0ed5f16f40>>\n",
      "<bound method MolecularDescriptorCalculator.GetDescriptorNames of <rdkit.ML.Descriptors.MoleculeDescriptors.MolecularDescriptorCalculator object at 0x7f0ed5f16f40>> \n",
      "\n",
      "\n",
      "<bound method MolecularDescriptorCalculator.GetDescriptorFuncs of <rdkit.ML.Descriptors.MoleculeDescriptors.MolecularDescriptorCalculator object at 0x7f0ed5f16e20>>\n",
      "<bound method MolecularDescriptorCalculator.GetDescriptorNames of <rdkit.ML.Descriptors.MoleculeDescriptors.MolecularDescriptorCalculator object at 0x7f0ed5f16e20>> \n",
      "\n",
      "\n",
      "<bound method MolecularDescriptorCalculator.GetDescriptorFuncs of <rdkit.ML.Descriptors.MoleculeDescriptors.MolecularDescriptorCalculator object at 0x7f0ed5f274c0>>\n",
      "<bound method MolecularDescriptorCalculator.GetDescriptorNames of <rdkit.ML.Descriptors.MoleculeDescriptors.MolecularDescriptorCalculator object at 0x7f0ed5f274c0>> \n",
      "\n",
      "\n",
      "<bound method MolecularDescriptorCalculator.GetDescriptorFuncs of <rdkit.ML.Descriptors.MoleculeDescriptors.MolecularDescriptorCalculator object at 0x7f0ed5f16dc0>>\n",
      "<bound method MolecularDescriptorCalculator.GetDescriptorNames of <rdkit.ML.Descriptors.MoleculeDescriptors.MolecularDescriptorCalculator object at 0x7f0ed5f16dc0>> \n",
      "\n",
      "\n",
      "<bound method MolecularDescriptorCalculator.GetDescriptorFuncs of <rdkit.ML.Descriptors.MoleculeDescriptors.MolecularDescriptorCalculator object at 0x7f0ed5f16d60>>\n",
      "<bound method MolecularDescriptorCalculator.GetDescriptorNames of <rdkit.ML.Descriptors.MoleculeDescriptors.MolecularDescriptorCalculator object at 0x7f0ed5f16d60>> \n",
      "\n",
      "\n",
      "<bound method MolecularDescriptorCalculator.GetDescriptorFuncs of <rdkit.ML.Descriptors.MoleculeDescriptors.MolecularDescriptorCalculator object at 0x7f0ed5f16c10>>\n",
      "<bound method MolecularDescriptorCalculator.GetDescriptorNames of <rdkit.ML.Descriptors.MoleculeDescriptors.MolecularDescriptorCalculator object at 0x7f0ed5f16c10>> \n",
      "\n",
      "\n",
      "<bound method MolecularDescriptorCalculator.GetDescriptorFuncs of <rdkit.ML.Descriptors.MoleculeDescriptors.MolecularDescriptorCalculator object at 0x7f0ed5f16c70>>\n",
      "<bound method MolecularDescriptorCalculator.GetDescriptorNames of <rdkit.ML.Descriptors.MoleculeDescriptors.MolecularDescriptorCalculator object at 0x7f0ed5f16c70>> \n",
      "\n",
      "\n",
      "<bound method MolecularDescriptorCalculator.GetDescriptorFuncs of <rdkit.ML.Descriptors.MoleculeDescriptors.MolecularDescriptorCalculator object at 0x7f0ed5f16cd0>>\n",
      "<bound method MolecularDescriptorCalculator.GetDescriptorNames of <rdkit.ML.Descriptors.MoleculeDescriptors.MolecularDescriptorCalculator object at 0x7f0ed5f16cd0>> \n",
      "\n",
      "\n",
      "<bound method MolecularDescriptorCalculator.GetDescriptorFuncs of <rdkit.ML.Descriptors.MoleculeDescriptors.MolecularDescriptorCalculator object at 0x7f0ed5f16be0>>\n",
      "<bound method MolecularDescriptorCalculator.GetDescriptorNames of <rdkit.ML.Descriptors.MoleculeDescriptors.MolecularDescriptorCalculator object at 0x7f0ed5f16be0>> \n",
      "\n",
      "\n",
      "<bound method MolecularDescriptorCalculator.GetDescriptorFuncs of <rdkit.ML.Descriptors.MoleculeDescriptors.MolecularDescriptorCalculator object at 0x7f0ed5f16730>>\n",
      "<bound method MolecularDescriptorCalculator.GetDescriptorNames of <rdkit.ML.Descriptors.MoleculeDescriptors.MolecularDescriptorCalculator object at 0x7f0ed5f16730>> \n",
      "\n",
      "\n",
      "<bound method MolecularDescriptorCalculator.GetDescriptorFuncs of <rdkit.ML.Descriptors.MoleculeDescriptors.MolecularDescriptorCalculator object at 0x7f0ed5f16c40>>\n",
      "<bound method MolecularDescriptorCalculator.GetDescriptorNames of <rdkit.ML.Descriptors.MoleculeDescriptors.MolecularDescriptorCalculator object at 0x7f0ed5f16c40>> \n",
      "\n",
      "\n",
      "<bound method MolecularDescriptorCalculator.GetDescriptorFuncs of <rdkit.ML.Descriptors.MoleculeDescriptors.MolecularDescriptorCalculator object at 0x7f0ed5f16460>>\n",
      "<bound method MolecularDescriptorCalculator.GetDescriptorNames of <rdkit.ML.Descriptors.MoleculeDescriptors.MolecularDescriptorCalculator object at 0x7f0ed5f16460>> \n",
      "\n",
      "\n",
      "<bound method MolecularDescriptorCalculator.GetDescriptorFuncs of <rdkit.ML.Descriptors.MoleculeDescriptors.MolecularDescriptorCalculator object at 0x7f0ed5f16400>>\n",
      "<bound method MolecularDescriptorCalculator.GetDescriptorNames of <rdkit.ML.Descriptors.MoleculeDescriptors.MolecularDescriptorCalculator object at 0x7f0ed5f16400>> \n",
      "\n",
      "\n",
      "<bound method MolecularDescriptorCalculator.GetDescriptorFuncs of <rdkit.ML.Descriptors.MoleculeDescriptors.MolecularDescriptorCalculator object at 0x7f0ed5f162e0>>\n",
      "<bound method MolecularDescriptorCalculator.GetDescriptorNames of <rdkit.ML.Descriptors.MoleculeDescriptors.MolecularDescriptorCalculator object at 0x7f0ed5f162e0>> \n",
      "\n",
      "\n",
      "<bound method MolecularDescriptorCalculator.GetDescriptorFuncs of <rdkit.ML.Descriptors.MoleculeDescriptors.MolecularDescriptorCalculator object at 0x7f0ed5f162b0>>\n",
      "<bound method MolecularDescriptorCalculator.GetDescriptorNames of <rdkit.ML.Descriptors.MoleculeDescriptors.MolecularDescriptorCalculator object at 0x7f0ed5f162b0>> \n",
      "\n",
      "\n",
      "<bound method MolecularDescriptorCalculator.GetDescriptorFuncs of <rdkit.ML.Descriptors.MoleculeDescriptors.MolecularDescriptorCalculator object at 0x7f0ed5f163d0>>\n",
      "<bound method MolecularDescriptorCalculator.GetDescriptorNames of <rdkit.ML.Descriptors.MoleculeDescriptors.MolecularDescriptorCalculator object at 0x7f0ed5f163d0>> \n",
      "\n",
      "\n",
      "<bound method MolecularDescriptorCalculator.GetDescriptorFuncs of <rdkit.ML.Descriptors.MoleculeDescriptors.MolecularDescriptorCalculator object at 0x7f0ed5f16940>>\n",
      "<bound method MolecularDescriptorCalculator.GetDescriptorNames of <rdkit.ML.Descriptors.MoleculeDescriptors.MolecularDescriptorCalculator object at 0x7f0ed5f16940>> \n",
      "\n",
      "\n",
      "<bound method MolecularDescriptorCalculator.GetDescriptorFuncs of <rdkit.ML.Descriptors.MoleculeDescriptors.MolecularDescriptorCalculator object at 0x7f0ed5f169a0>>\n",
      "<bound method MolecularDescriptorCalculator.GetDescriptorNames of <rdkit.ML.Descriptors.MoleculeDescriptors.MolecularDescriptorCalculator object at 0x7f0ed5f169a0>> \n",
      "\n",
      "\n",
      "<bound method MolecularDescriptorCalculator.GetDescriptorFuncs of <rdkit.ML.Descriptors.MoleculeDescriptors.MolecularDescriptorCalculator object at 0x7f0ed5f16850>>\n",
      "<bound method MolecularDescriptorCalculator.GetDescriptorNames of <rdkit.ML.Descriptors.MoleculeDescriptors.MolecularDescriptorCalculator object at 0x7f0ed5f16850>> \n",
      "\n",
      "\n",
      "<bound method MolecularDescriptorCalculator.GetDescriptorFuncs of <rdkit.ML.Descriptors.MoleculeDescriptors.MolecularDescriptorCalculator object at 0x7f0ed5f168b0>>\n",
      "<bound method MolecularDescriptorCalculator.GetDescriptorNames of <rdkit.ML.Descriptors.MoleculeDescriptors.MolecularDescriptorCalculator object at 0x7f0ed5f168b0>> \n",
      "\n",
      "\n",
      "<bound method MolecularDescriptorCalculator.GetDescriptorFuncs of <rdkit.ML.Descriptors.MoleculeDescriptors.MolecularDescriptorCalculator object at 0x7f0ed5f16760>>\n",
      "<bound method MolecularDescriptorCalculator.GetDescriptorNames of <rdkit.ML.Descriptors.MoleculeDescriptors.MolecularDescriptorCalculator object at 0x7f0ed5f16760>> \n",
      "\n",
      "\n",
      "<bound method MolecularDescriptorCalculator.GetDescriptorFuncs of <rdkit.ML.Descriptors.MoleculeDescriptors.MolecularDescriptorCalculator object at 0x7f0ed5f16e50>>\n",
      "<bound method MolecularDescriptorCalculator.GetDescriptorNames of <rdkit.ML.Descriptors.MoleculeDescriptors.MolecularDescriptorCalculator object at 0x7f0ed5f16e50>> \n",
      "\n",
      "\n",
      "<bound method MolecularDescriptorCalculator.GetDescriptorFuncs of <rdkit.ML.Descriptors.MoleculeDescriptors.MolecularDescriptorCalculator object at 0x7f0ed5f16790>>\n",
      "<bound method MolecularDescriptorCalculator.GetDescriptorNames of <rdkit.ML.Descriptors.MoleculeDescriptors.MolecularDescriptorCalculator object at 0x7f0ed5f16790>> \n",
      "\n",
      "\n",
      "<bound method MolecularDescriptorCalculator.GetDescriptorFuncs of <rdkit.ML.Descriptors.MoleculeDescriptors.MolecularDescriptorCalculator object at 0x7f0ed5f16670>>\n",
      "<bound method MolecularDescriptorCalculator.GetDescriptorNames of <rdkit.ML.Descriptors.MoleculeDescriptors.MolecularDescriptorCalculator object at 0x7f0ed5f16670>> \n",
      "\n",
      "\n",
      "<bound method MolecularDescriptorCalculator.GetDescriptorFuncs of <rdkit.ML.Descriptors.MoleculeDescriptors.MolecularDescriptorCalculator object at 0x7f0ed5f161c0>>\n",
      "<bound method MolecularDescriptorCalculator.GetDescriptorNames of <rdkit.ML.Descriptors.MoleculeDescriptors.MolecularDescriptorCalculator object at 0x7f0ed5f161c0>> \n",
      "\n",
      "\n",
      "<bound method MolecularDescriptorCalculator.GetDescriptorFuncs of <rdkit.ML.Descriptors.MoleculeDescriptors.MolecularDescriptorCalculator object at 0x7f0ed5f16220>>\n",
      "<bound method MolecularDescriptorCalculator.GetDescriptorNames of <rdkit.ML.Descriptors.MoleculeDescriptors.MolecularDescriptorCalculator object at 0x7f0ed5f16220>> \n",
      "\n",
      "\n",
      "<bound method MolecularDescriptorCalculator.GetDescriptorFuncs of <rdkit.ML.Descriptors.MoleculeDescriptors.MolecularDescriptorCalculator object at 0x7f0ed5f160d0>>\n",
      "<bound method MolecularDescriptorCalculator.GetDescriptorNames of <rdkit.ML.Descriptors.MoleculeDescriptors.MolecularDescriptorCalculator object at 0x7f0ed5f160d0>> \n",
      "\n",
      "\n",
      "<bound method MolecularDescriptorCalculator.GetDescriptorFuncs of <rdkit.ML.Descriptors.MoleculeDescriptors.MolecularDescriptorCalculator object at 0x7f0ed5f16130>>\n",
      "<bound method MolecularDescriptorCalculator.GetDescriptorNames of <rdkit.ML.Descriptors.MoleculeDescriptors.MolecularDescriptorCalculator object at 0x7f0ed5f16130>> \n",
      "\n",
      "\n",
      "<bound method MolecularDescriptorCalculator.GetDescriptorFuncs of <rdkit.ML.Descriptors.MoleculeDescriptors.MolecularDescriptorCalculator object at 0x7f0ed5f16040>>\n",
      "<bound method MolecularDescriptorCalculator.GetDescriptorNames of <rdkit.ML.Descriptors.MoleculeDescriptors.MolecularDescriptorCalculator object at 0x7f0ed5f16040>> \n",
      "\n",
      "\n",
      "<bound method MolecularDescriptorCalculator.GetDescriptorFuncs of <rdkit.ML.Descriptors.MoleculeDescriptors.MolecularDescriptorCalculator object at 0x7f0ed5f48c70>>\n",
      "<bound method MolecularDescriptorCalculator.GetDescriptorNames of <rdkit.ML.Descriptors.MoleculeDescriptors.MolecularDescriptorCalculator object at 0x7f0ed5f48c70>> \n",
      "\n",
      "\n",
      "<bound method MolecularDescriptorCalculator.GetDescriptorFuncs of <rdkit.ML.Descriptors.MoleculeDescriptors.MolecularDescriptorCalculator object at 0x7f0ed5f48190>>\n",
      "<bound method MolecularDescriptorCalculator.GetDescriptorNames of <rdkit.ML.Descriptors.MoleculeDescriptors.MolecularDescriptorCalculator object at 0x7f0ed5f48190>> \n",
      "\n",
      "\n",
      "<bound method MolecularDescriptorCalculator.GetDescriptorFuncs of <rdkit.ML.Descriptors.MoleculeDescriptors.MolecularDescriptorCalculator object at 0x7f0ed5f48490>>\n",
      "<bound method MolecularDescriptorCalculator.GetDescriptorNames of <rdkit.ML.Descriptors.MoleculeDescriptors.MolecularDescriptorCalculator object at 0x7f0ed5f48490>> \n",
      "\n",
      "\n",
      "<bound method MolecularDescriptorCalculator.GetDescriptorFuncs of <rdkit.ML.Descriptors.MoleculeDescriptors.MolecularDescriptorCalculator object at 0x7f0ed5f48430>>\n",
      "<bound method MolecularDescriptorCalculator.GetDescriptorNames of <rdkit.ML.Descriptors.MoleculeDescriptors.MolecularDescriptorCalculator object at 0x7f0ed5f48430>> \n",
      "\n",
      "\n",
      "<bound method MolecularDescriptorCalculator.GetDescriptorFuncs of <rdkit.ML.Descriptors.MoleculeDescriptors.MolecularDescriptorCalculator object at 0x7f0ed5f480a0>>\n",
      "<bound method MolecularDescriptorCalculator.GetDescriptorNames of <rdkit.ML.Descriptors.MoleculeDescriptors.MolecularDescriptorCalculator object at 0x7f0ed5f480a0>> \n",
      "\n",
      "\n",
      "<bound method MolecularDescriptorCalculator.GetDescriptorFuncs of <rdkit.ML.Descriptors.MoleculeDescriptors.MolecularDescriptorCalculator object at 0x7f0ed5f48040>>\n",
      "<bound method MolecularDescriptorCalculator.GetDescriptorNames of <rdkit.ML.Descriptors.MoleculeDescriptors.MolecularDescriptorCalculator object at 0x7f0ed5f48040>> \n",
      "\n",
      "\n",
      "<bound method MolecularDescriptorCalculator.GetDescriptorFuncs of <rdkit.ML.Descriptors.MoleculeDescriptors.MolecularDescriptorCalculator object at 0x7f0ed5f41f40>>\n",
      "<bound method MolecularDescriptorCalculator.GetDescriptorNames of <rdkit.ML.Descriptors.MoleculeDescriptors.MolecularDescriptorCalculator object at 0x7f0ed5f41f40>> \n",
      "\n",
      "\n",
      "<bound method MolecularDescriptorCalculator.GetDescriptorFuncs of <rdkit.ML.Descriptors.MoleculeDescriptors.MolecularDescriptorCalculator object at 0x7f0ed5f41fa0>>\n",
      "<bound method MolecularDescriptorCalculator.GetDescriptorNames of <rdkit.ML.Descriptors.MoleculeDescriptors.MolecularDescriptorCalculator object at 0x7f0ed5f41fa0>> \n",
      "\n",
      "\n",
      "<bound method MolecularDescriptorCalculator.GetDescriptorFuncs of <rdkit.ML.Descriptors.MoleculeDescriptors.MolecularDescriptorCalculator object at 0x7f0ed5f41e20>>\n",
      "<bound method MolecularDescriptorCalculator.GetDescriptorNames of <rdkit.ML.Descriptors.MoleculeDescriptors.MolecularDescriptorCalculator object at 0x7f0ed5f41e20>> \n",
      "\n",
      "\n",
      "<bound method MolecularDescriptorCalculator.GetDescriptorFuncs of <rdkit.ML.Descriptors.MoleculeDescriptors.MolecularDescriptorCalculator object at 0x7f0ed5f41e50>>\n",
      "<bound method MolecularDescriptorCalculator.GetDescriptorNames of <rdkit.ML.Descriptors.MoleculeDescriptors.MolecularDescriptorCalculator object at 0x7f0ed5f41e50>> \n",
      "\n",
      "\n",
      "<bound method MolecularDescriptorCalculator.GetDescriptorFuncs of <rdkit.ML.Descriptors.MoleculeDescriptors.MolecularDescriptorCalculator object at 0x7f0ed5f41d60>>\n",
      "<bound method MolecularDescriptorCalculator.GetDescriptorNames of <rdkit.ML.Descriptors.MoleculeDescriptors.MolecularDescriptorCalculator object at 0x7f0ed5f41d60>> \n",
      "\n",
      "\n",
      "<bound method MolecularDescriptorCalculator.GetDescriptorFuncs of <rdkit.ML.Descriptors.MoleculeDescriptors.MolecularDescriptorCalculator object at 0x7f0ed5f41d30>>\n",
      "<bound method MolecularDescriptorCalculator.GetDescriptorNames of <rdkit.ML.Descriptors.MoleculeDescriptors.MolecularDescriptorCalculator object at 0x7f0ed5f41d30>> \n",
      "\n",
      "\n",
      "<bound method MolecularDescriptorCalculator.GetDescriptorFuncs of <rdkit.ML.Descriptors.MoleculeDescriptors.MolecularDescriptorCalculator object at 0x7f0ed5f41c70>>\n",
      "<bound method MolecularDescriptorCalculator.GetDescriptorNames of <rdkit.ML.Descriptors.MoleculeDescriptors.MolecularDescriptorCalculator object at 0x7f0ed5f41c70>> \n",
      "\n",
      "\n",
      "<bound method MolecularDescriptorCalculator.GetDescriptorFuncs of <rdkit.ML.Descriptors.MoleculeDescriptors.MolecularDescriptorCalculator object at 0x7f0ed5f41ca0>>\n",
      "<bound method MolecularDescriptorCalculator.GetDescriptorNames of <rdkit.ML.Descriptors.MoleculeDescriptors.MolecularDescriptorCalculator object at 0x7f0ed5f41ca0>> \n",
      "\n",
      "\n",
      "<bound method MolecularDescriptorCalculator.GetDescriptorFuncs of <rdkit.ML.Descriptors.MoleculeDescriptors.MolecularDescriptorCalculator object at 0x7f0ed5f41cd0>>\n",
      "<bound method MolecularDescriptorCalculator.GetDescriptorNames of <rdkit.ML.Descriptors.MoleculeDescriptors.MolecularDescriptorCalculator object at 0x7f0ed5f41cd0>> \n",
      "\n",
      "\n",
      "<bound method MolecularDescriptorCalculator.GetDescriptorFuncs of <rdkit.ML.Descriptors.MoleculeDescriptors.MolecularDescriptorCalculator object at 0x7f0ed5f41bb0>>\n",
      "<bound method MolecularDescriptorCalculator.GetDescriptorNames of <rdkit.ML.Descriptors.MoleculeDescriptors.MolecularDescriptorCalculator object at 0x7f0ed5f41bb0>> \n",
      "\n",
      "\n",
      "<bound method MolecularDescriptorCalculator.GetDescriptorFuncs of <rdkit.ML.Descriptors.MoleculeDescriptors.MolecularDescriptorCalculator object at 0x7f0ed5f41a60>>\n",
      "<bound method MolecularDescriptorCalculator.GetDescriptorNames of <rdkit.ML.Descriptors.MoleculeDescriptors.MolecularDescriptorCalculator object at 0x7f0ed5f41a60>> \n",
      "\n",
      "\n",
      "<bound method MolecularDescriptorCalculator.GetDescriptorFuncs of <rdkit.ML.Descriptors.MoleculeDescriptors.MolecularDescriptorCalculator object at 0x7f0ed5f41ac0>>\n",
      "<bound method MolecularDescriptorCalculator.GetDescriptorNames of <rdkit.ML.Descriptors.MoleculeDescriptors.MolecularDescriptorCalculator object at 0x7f0ed5f41ac0>> \n",
      "\n",
      "\n",
      "<bound method MolecularDescriptorCalculator.GetDescriptorFuncs of <rdkit.ML.Descriptors.MoleculeDescriptors.MolecularDescriptorCalculator object at 0x7f0ed5f41970>>\n",
      "<bound method MolecularDescriptorCalculator.GetDescriptorNames of <rdkit.ML.Descriptors.MoleculeDescriptors.MolecularDescriptorCalculator object at 0x7f0ed5f41970>> \n",
      "\n",
      "\n",
      "<bound method MolecularDescriptorCalculator.GetDescriptorFuncs of <rdkit.ML.Descriptors.MoleculeDescriptors.MolecularDescriptorCalculator object at 0x7f0ed5f419d0>>\n",
      "<bound method MolecularDescriptorCalculator.GetDescriptorNames of <rdkit.ML.Descriptors.MoleculeDescriptors.MolecularDescriptorCalculator object at 0x7f0ed5f419d0>> \n",
      "\n",
      "\n",
      "<bound method MolecularDescriptorCalculator.GetDescriptorFuncs of <rdkit.ML.Descriptors.MoleculeDescriptors.MolecularDescriptorCalculator object at 0x7f0ed5f41880>>\n",
      "<bound method MolecularDescriptorCalculator.GetDescriptorNames of <rdkit.ML.Descriptors.MoleculeDescriptors.MolecularDescriptorCalculator object at 0x7f0ed5f41880>> \n",
      "\n",
      "\n",
      "<bound method MolecularDescriptorCalculator.GetDescriptorFuncs of <rdkit.ML.Descriptors.MoleculeDescriptors.MolecularDescriptorCalculator object at 0x7f0ed5f418e0>>\n",
      "<bound method MolecularDescriptorCalculator.GetDescriptorNames of <rdkit.ML.Descriptors.MoleculeDescriptors.MolecularDescriptorCalculator object at 0x7f0ed5f418e0>> \n",
      "\n",
      "\n",
      "<bound method MolecularDescriptorCalculator.GetDescriptorFuncs of <rdkit.ML.Descriptors.MoleculeDescriptors.MolecularDescriptorCalculator object at 0x7f0ed5f41790>>\n",
      "<bound method MolecularDescriptorCalculator.GetDescriptorNames of <rdkit.ML.Descriptors.MoleculeDescriptors.MolecularDescriptorCalculator object at 0x7f0ed5f41790>> \n",
      "\n",
      "\n",
      "<bound method MolecularDescriptorCalculator.GetDescriptorFuncs of <rdkit.ML.Descriptors.MoleculeDescriptors.MolecularDescriptorCalculator object at 0x7f0ed5f417f0>>\n",
      "<bound method MolecularDescriptorCalculator.GetDescriptorNames of <rdkit.ML.Descriptors.MoleculeDescriptors.MolecularDescriptorCalculator object at 0x7f0ed5f417f0>> \n",
      "\n",
      "\n",
      "<bound method MolecularDescriptorCalculator.GetDescriptorFuncs of <rdkit.ML.Descriptors.MoleculeDescriptors.MolecularDescriptorCalculator object at 0x7f0ed5f416a0>>\n",
      "<bound method MolecularDescriptorCalculator.GetDescriptorNames of <rdkit.ML.Descriptors.MoleculeDescriptors.MolecularDescriptorCalculator object at 0x7f0ed5f416a0>> \n",
      "\n",
      "\n",
      "<bound method MolecularDescriptorCalculator.GetDescriptorFuncs of <rdkit.ML.Descriptors.MoleculeDescriptors.MolecularDescriptorCalculator object at 0x7f0ed5f41700>>\n",
      "<bound method MolecularDescriptorCalculator.GetDescriptorNames of <rdkit.ML.Descriptors.MoleculeDescriptors.MolecularDescriptorCalculator object at 0x7f0ed5f41700>> \n",
      "\n",
      "\n",
      "<bound method MolecularDescriptorCalculator.GetDescriptorFuncs of <rdkit.ML.Descriptors.MoleculeDescriptors.MolecularDescriptorCalculator object at 0x7f0ed5f415b0>>\n",
      "<bound method MolecularDescriptorCalculator.GetDescriptorNames of <rdkit.ML.Descriptors.MoleculeDescriptors.MolecularDescriptorCalculator object at 0x7f0ed5f415b0>> \n",
      "\n",
      "\n",
      "<bound method MolecularDescriptorCalculator.GetDescriptorFuncs of <rdkit.ML.Descriptors.MoleculeDescriptors.MolecularDescriptorCalculator object at 0x7f0ed5f41610>>\n",
      "<bound method MolecularDescriptorCalculator.GetDescriptorNames of <rdkit.ML.Descriptors.MoleculeDescriptors.MolecularDescriptorCalculator object at 0x7f0ed5f41610>> \n",
      "\n",
      "\n",
      "<bound method MolecularDescriptorCalculator.GetDescriptorFuncs of <rdkit.ML.Descriptors.MoleculeDescriptors.MolecularDescriptorCalculator object at 0x7f0ed5f414c0>>\n",
      "<bound method MolecularDescriptorCalculator.GetDescriptorNames of <rdkit.ML.Descriptors.MoleculeDescriptors.MolecularDescriptorCalculator object at 0x7f0ed5f414c0>> \n",
      "\n",
      "\n",
      "<bound method MolecularDescriptorCalculator.GetDescriptorFuncs of <rdkit.ML.Descriptors.MoleculeDescriptors.MolecularDescriptorCalculator object at 0x7f0ed5f41520>>\n",
      "<bound method MolecularDescriptorCalculator.GetDescriptorNames of <rdkit.ML.Descriptors.MoleculeDescriptors.MolecularDescriptorCalculator object at 0x7f0ed5f41520>> \n",
      "\n",
      "\n",
      "<bound method MolecularDescriptorCalculator.GetDescriptorFuncs of <rdkit.ML.Descriptors.MoleculeDescriptors.MolecularDescriptorCalculator object at 0x7f0ed5f413d0>>\n",
      "<bound method MolecularDescriptorCalculator.GetDescriptorNames of <rdkit.ML.Descriptors.MoleculeDescriptors.MolecularDescriptorCalculator object at 0x7f0ed5f413d0>> \n",
      "\n",
      "\n",
      "<bound method MolecularDescriptorCalculator.GetDescriptorFuncs of <rdkit.ML.Descriptors.MoleculeDescriptors.MolecularDescriptorCalculator object at 0x7f0ed5f41430>>\n",
      "<bound method MolecularDescriptorCalculator.GetDescriptorNames of <rdkit.ML.Descriptors.MoleculeDescriptors.MolecularDescriptorCalculator object at 0x7f0ed5f41430>> \n",
      "\n",
      "\n",
      "<bound method MolecularDescriptorCalculator.GetDescriptorFuncs of <rdkit.ML.Descriptors.MoleculeDescriptors.MolecularDescriptorCalculator object at 0x7f0ed5f412e0>>\n",
      "<bound method MolecularDescriptorCalculator.GetDescriptorNames of <rdkit.ML.Descriptors.MoleculeDescriptors.MolecularDescriptorCalculator object at 0x7f0ed5f412e0>> \n",
      "\n",
      "\n",
      "<bound method MolecularDescriptorCalculator.GetDescriptorFuncs of <rdkit.ML.Descriptors.MoleculeDescriptors.MolecularDescriptorCalculator object at 0x7f0ed5f41340>>\n",
      "<bound method MolecularDescriptorCalculator.GetDescriptorNames of <rdkit.ML.Descriptors.MoleculeDescriptors.MolecularDescriptorCalculator object at 0x7f0ed5f41340>> \n",
      "\n",
      "\n",
      "<bound method MolecularDescriptorCalculator.GetDescriptorFuncs of <rdkit.ML.Descriptors.MoleculeDescriptors.MolecularDescriptorCalculator object at 0x7f0ed5f411f0>>\n",
      "<bound method MolecularDescriptorCalculator.GetDescriptorNames of <rdkit.ML.Descriptors.MoleculeDescriptors.MolecularDescriptorCalculator object at 0x7f0ed5f411f0>> \n",
      "\n",
      "\n",
      "<bound method MolecularDescriptorCalculator.GetDescriptorFuncs of <rdkit.ML.Descriptors.MoleculeDescriptors.MolecularDescriptorCalculator object at 0x7f0ed5f41250>>\n",
      "<bound method MolecularDescriptorCalculator.GetDescriptorNames of <rdkit.ML.Descriptors.MoleculeDescriptors.MolecularDescriptorCalculator object at 0x7f0ed5f41250>> \n",
      "\n",
      "\n",
      "<bound method MolecularDescriptorCalculator.GetDescriptorFuncs of <rdkit.ML.Descriptors.MoleculeDescriptors.MolecularDescriptorCalculator object at 0x7f0ed5f41100>>\n",
      "<bound method MolecularDescriptorCalculator.GetDescriptorNames of <rdkit.ML.Descriptors.MoleculeDescriptors.MolecularDescriptorCalculator object at 0x7f0ed5f41100>> \n",
      "\n",
      "\n",
      "<bound method MolecularDescriptorCalculator.GetDescriptorFuncs of <rdkit.ML.Descriptors.MoleculeDescriptors.MolecularDescriptorCalculator object at 0x7f0ed5f41160>>\n",
      "<bound method MolecularDescriptorCalculator.GetDescriptorNames of <rdkit.ML.Descriptors.MoleculeDescriptors.MolecularDescriptorCalculator object at 0x7f0ed5f41160>> \n",
      "\n",
      "\n",
      "<bound method MolecularDescriptorCalculator.GetDescriptorFuncs of <rdkit.ML.Descriptors.MoleculeDescriptors.MolecularDescriptorCalculator object at 0x7f0ed5f410a0>>\n",
      "<bound method MolecularDescriptorCalculator.GetDescriptorNames of <rdkit.ML.Descriptors.MoleculeDescriptors.MolecularDescriptorCalculator object at 0x7f0ed5f410a0>> \n",
      "\n",
      "\n",
      "<bound method MolecularDescriptorCalculator.GetDescriptorFuncs of <rdkit.ML.Descriptors.MoleculeDescriptors.MolecularDescriptorCalculator object at 0x7f0ed5f41f70>>\n",
      "<bound method MolecularDescriptorCalculator.GetDescriptorNames of <rdkit.ML.Descriptors.MoleculeDescriptors.MolecularDescriptorCalculator object at 0x7f0ed5f41f70>> \n",
      "\n",
      "\n",
      "<bound method MolecularDescriptorCalculator.GetDescriptorFuncs of <rdkit.ML.Descriptors.MoleculeDescriptors.MolecularDescriptorCalculator object at 0x7f0ed5f4d5b0>>\n",
      "<bound method MolecularDescriptorCalculator.GetDescriptorNames of <rdkit.ML.Descriptors.MoleculeDescriptors.MolecularDescriptorCalculator object at 0x7f0ed5f4d5b0>> \n",
      "\n",
      "\n",
      "<bound method MolecularDescriptorCalculator.GetDescriptorFuncs of <rdkit.ML.Descriptors.MoleculeDescriptors.MolecularDescriptorCalculator object at 0x7f0ed5f4dee0>>\n",
      "<bound method MolecularDescriptorCalculator.GetDescriptorNames of <rdkit.ML.Descriptors.MoleculeDescriptors.MolecularDescriptorCalculator object at 0x7f0ed5f4dee0>> \n",
      "\n",
      "\n",
      "<bound method MolecularDescriptorCalculator.GetDescriptorFuncs of <rdkit.ML.Descriptors.MoleculeDescriptors.MolecularDescriptorCalculator object at 0x7f0ed5f4df40>>\n",
      "<bound method MolecularDescriptorCalculator.GetDescriptorNames of <rdkit.ML.Descriptors.MoleculeDescriptors.MolecularDescriptorCalculator object at 0x7f0ed5f4df40>> \n",
      "\n",
      "\n",
      "<bound method MolecularDescriptorCalculator.GetDescriptorFuncs of <rdkit.ML.Descriptors.MoleculeDescriptors.MolecularDescriptorCalculator object at 0x7f0ed5f4ddf0>>\n",
      "<bound method MolecularDescriptorCalculator.GetDescriptorNames of <rdkit.ML.Descriptors.MoleculeDescriptors.MolecularDescriptorCalculator object at 0x7f0ed5f4ddf0>> \n",
      "\n",
      "\n",
      "<bound method MolecularDescriptorCalculator.GetDescriptorFuncs of <rdkit.ML.Descriptors.MoleculeDescriptors.MolecularDescriptorCalculator object at 0x7f0ed5f4de50>>\n",
      "<bound method MolecularDescriptorCalculator.GetDescriptorNames of <rdkit.ML.Descriptors.MoleculeDescriptors.MolecularDescriptorCalculator object at 0x7f0ed5f4de50>> \n",
      "\n",
      "\n",
      "<bound method MolecularDescriptorCalculator.GetDescriptorFuncs of <rdkit.ML.Descriptors.MoleculeDescriptors.MolecularDescriptorCalculator object at 0x7f0ed5f4dd00>>\n",
      "<bound method MolecularDescriptorCalculator.GetDescriptorNames of <rdkit.ML.Descriptors.MoleculeDescriptors.MolecularDescriptorCalculator object at 0x7f0ed5f4dd00>> \n",
      "\n",
      "\n",
      "<bound method MolecularDescriptorCalculator.GetDescriptorFuncs of <rdkit.ML.Descriptors.MoleculeDescriptors.MolecularDescriptorCalculator object at 0x7f0ed5f4dd60>>\n",
      "<bound method MolecularDescriptorCalculator.GetDescriptorNames of <rdkit.ML.Descriptors.MoleculeDescriptors.MolecularDescriptorCalculator object at 0x7f0ed5f4dd60>> \n",
      "\n",
      "\n",
      "<bound method MolecularDescriptorCalculator.GetDescriptorFuncs of <rdkit.ML.Descriptors.MoleculeDescriptors.MolecularDescriptorCalculator object at 0x7f0ed5f4dc10>>\n",
      "<bound method MolecularDescriptorCalculator.GetDescriptorNames of <rdkit.ML.Descriptors.MoleculeDescriptors.MolecularDescriptorCalculator object at 0x7f0ed5f4dc10>> \n",
      "\n",
      "\n",
      "<bound method MolecularDescriptorCalculator.GetDescriptorFuncs of <rdkit.ML.Descriptors.MoleculeDescriptors.MolecularDescriptorCalculator object at 0x7f0ed5f4dc70>>\n",
      "<bound method MolecularDescriptorCalculator.GetDescriptorNames of <rdkit.ML.Descriptors.MoleculeDescriptors.MolecularDescriptorCalculator object at 0x7f0ed5f4dc70>> \n",
      "\n",
      "\n",
      "<bound method MolecularDescriptorCalculator.GetDescriptorFuncs of <rdkit.ML.Descriptors.MoleculeDescriptors.MolecularDescriptorCalculator object at 0x7f0ed5f4db20>>\n",
      "<bound method MolecularDescriptorCalculator.GetDescriptorNames of <rdkit.ML.Descriptors.MoleculeDescriptors.MolecularDescriptorCalculator object at 0x7f0ed5f4db20>> \n",
      "\n",
      "\n",
      "<bound method MolecularDescriptorCalculator.GetDescriptorFuncs of <rdkit.ML.Descriptors.MoleculeDescriptors.MolecularDescriptorCalculator object at 0x7f0ed5f4db80>>\n",
      "<bound method MolecularDescriptorCalculator.GetDescriptorNames of <rdkit.ML.Descriptors.MoleculeDescriptors.MolecularDescriptorCalculator object at 0x7f0ed5f4db80>> \n",
      "\n",
      "\n",
      "<bound method MolecularDescriptorCalculator.GetDescriptorFuncs of <rdkit.ML.Descriptors.MoleculeDescriptors.MolecularDescriptorCalculator object at 0x7f0ed5f4da30>>\n",
      "<bound method MolecularDescriptorCalculator.GetDescriptorNames of <rdkit.ML.Descriptors.MoleculeDescriptors.MolecularDescriptorCalculator object at 0x7f0ed5f4da30>> \n",
      "\n",
      "\n",
      "<bound method MolecularDescriptorCalculator.GetDescriptorFuncs of <rdkit.ML.Descriptors.MoleculeDescriptors.MolecularDescriptorCalculator object at 0x7f0ed5f4d4f0>>\n",
      "<bound method MolecularDescriptorCalculator.GetDescriptorNames of <rdkit.ML.Descriptors.MoleculeDescriptors.MolecularDescriptorCalculator object at 0x7f0ed5f4d4f0>> \n",
      "\n",
      "\n",
      "<bound method MolecularDescriptorCalculator.GetDescriptorFuncs of <rdkit.ML.Descriptors.MoleculeDescriptors.MolecularDescriptorCalculator object at 0x7f0ed5f4d8b0>>\n",
      "<bound method MolecularDescriptorCalculator.GetDescriptorNames of <rdkit.ML.Descriptors.MoleculeDescriptors.MolecularDescriptorCalculator object at 0x7f0ed5f4d8b0>> \n",
      "\n",
      "\n",
      "<bound method MolecularDescriptorCalculator.GetDescriptorFuncs of <rdkit.ML.Descriptors.MoleculeDescriptors.MolecularDescriptorCalculator object at 0x7f0ed5f4d670>>\n",
      "<bound method MolecularDescriptorCalculator.GetDescriptorNames of <rdkit.ML.Descriptors.MoleculeDescriptors.MolecularDescriptorCalculator object at 0x7f0ed5f4d670>> \n",
      "\n",
      "\n",
      "<bound method MolecularDescriptorCalculator.GetDescriptorFuncs of <rdkit.ML.Descriptors.MoleculeDescriptors.MolecularDescriptorCalculator object at 0x7f0ed5f4d880>>\n",
      "<bound method MolecularDescriptorCalculator.GetDescriptorNames of <rdkit.ML.Descriptors.MoleculeDescriptors.MolecularDescriptorCalculator object at 0x7f0ed5f4d880>> \n",
      "\n",
      "\n",
      "<bound method MolecularDescriptorCalculator.GetDescriptorFuncs of <rdkit.ML.Descriptors.MoleculeDescriptors.MolecularDescriptorCalculator object at 0x7f0ed5f4d130>>\n",
      "<bound method MolecularDescriptorCalculator.GetDescriptorNames of <rdkit.ML.Descriptors.MoleculeDescriptors.MolecularDescriptorCalculator object at 0x7f0ed5f4d130>> \n",
      "\n",
      "\n",
      "<bound method MolecularDescriptorCalculator.GetDescriptorFuncs of <rdkit.ML.Descriptors.MoleculeDescriptors.MolecularDescriptorCalculator object at 0x7f0ed5f4d220>>\n",
      "<bound method MolecularDescriptorCalculator.GetDescriptorNames of <rdkit.ML.Descriptors.MoleculeDescriptors.MolecularDescriptorCalculator object at 0x7f0ed5f4d220>> \n",
      "\n",
      "\n",
      "<bound method MolecularDescriptorCalculator.GetDescriptorFuncs of <rdkit.ML.Descriptors.MoleculeDescriptors.MolecularDescriptorCalculator object at 0x7f0ed5f4d6d0>>\n",
      "<bound method MolecularDescriptorCalculator.GetDescriptorNames of <rdkit.ML.Descriptors.MoleculeDescriptors.MolecularDescriptorCalculator object at 0x7f0ed5f4d6d0>> \n",
      "\n",
      "\n",
      "<bound method MolecularDescriptorCalculator.GetDescriptorFuncs of <rdkit.ML.Descriptors.MoleculeDescriptors.MolecularDescriptorCalculator object at 0x7f0ed5f4d7c0>>\n",
      "<bound method MolecularDescriptorCalculator.GetDescriptorNames of <rdkit.ML.Descriptors.MoleculeDescriptors.MolecularDescriptorCalculator object at 0x7f0ed5f4d7c0>> \n",
      "\n",
      "\n",
      "<bound method MolecularDescriptorCalculator.GetDescriptorFuncs of <rdkit.ML.Descriptors.MoleculeDescriptors.MolecularDescriptorCalculator object at 0x7f0ed5f4d250>>\n",
      "<bound method MolecularDescriptorCalculator.GetDescriptorNames of <rdkit.ML.Descriptors.MoleculeDescriptors.MolecularDescriptorCalculator object at 0x7f0ed5f4d250>> \n",
      "\n",
      "\n",
      "<bound method MolecularDescriptorCalculator.GetDescriptorFuncs of <rdkit.ML.Descriptors.MoleculeDescriptors.MolecularDescriptorCalculator object at 0x7f0ed5f4d760>>\n",
      "<bound method MolecularDescriptorCalculator.GetDescriptorNames of <rdkit.ML.Descriptors.MoleculeDescriptors.MolecularDescriptorCalculator object at 0x7f0ed5f4d760>> \n",
      "\n",
      "\n",
      "<bound method MolecularDescriptorCalculator.GetDescriptorFuncs of <rdkit.ML.Descriptors.MoleculeDescriptors.MolecularDescriptorCalculator object at 0x7f0ed5f4d0d0>>\n",
      "<bound method MolecularDescriptorCalculator.GetDescriptorNames of <rdkit.ML.Descriptors.MoleculeDescriptors.MolecularDescriptorCalculator object at 0x7f0ed5f4d0d0>> \n",
      "\n",
      "\n",
      "<bound method MolecularDescriptorCalculator.GetDescriptorFuncs of <rdkit.ML.Descriptors.MoleculeDescriptors.MolecularDescriptorCalculator object at 0x7f0ed5f4d700>>\n",
      "<bound method MolecularDescriptorCalculator.GetDescriptorNames of <rdkit.ML.Descriptors.MoleculeDescriptors.MolecularDescriptorCalculator object at 0x7f0ed5f4d700>> \n",
      "\n",
      "\n",
      "<bound method MolecularDescriptorCalculator.GetDescriptorFuncs of <rdkit.ML.Descriptors.MoleculeDescriptors.MolecularDescriptorCalculator object at 0x7f0ed5f4d160>>\n",
      "<bound method MolecularDescriptorCalculator.GetDescriptorNames of <rdkit.ML.Descriptors.MoleculeDescriptors.MolecularDescriptorCalculator object at 0x7f0ed5f4d160>> \n",
      "\n",
      "\n",
      "<bound method MolecularDescriptorCalculator.GetDescriptorFuncs of <rdkit.ML.Descriptors.MoleculeDescriptors.MolecularDescriptorCalculator object at 0x7f0ed5f4d430>>\n",
      "<bound method MolecularDescriptorCalculator.GetDescriptorNames of <rdkit.ML.Descriptors.MoleculeDescriptors.MolecularDescriptorCalculator object at 0x7f0ed5f4d430>> \n",
      "\n",
      "\n",
      "<bound method MolecularDescriptorCalculator.GetDescriptorFuncs of <rdkit.ML.Descriptors.MoleculeDescriptors.MolecularDescriptorCalculator object at 0x7f0ed5f4d490>>\n",
      "<bound method MolecularDescriptorCalculator.GetDescriptorNames of <rdkit.ML.Descriptors.MoleculeDescriptors.MolecularDescriptorCalculator object at 0x7f0ed5f4d490>> \n",
      "\n",
      "\n",
      "<bound method MolecularDescriptorCalculator.GetDescriptorFuncs of <rdkit.ML.Descriptors.MoleculeDescriptors.MolecularDescriptorCalculator object at 0x7f0ed5f4d2b0>>\n",
      "<bound method MolecularDescriptorCalculator.GetDescriptorNames of <rdkit.ML.Descriptors.MoleculeDescriptors.MolecularDescriptorCalculator object at 0x7f0ed5f4d2b0>> \n",
      "\n",
      "\n",
      "<bound method MolecularDescriptorCalculator.GetDescriptorFuncs of <rdkit.ML.Descriptors.MoleculeDescriptors.MolecularDescriptorCalculator object at 0x7f0ed5f4d3a0>>\n",
      "<bound method MolecularDescriptorCalculator.GetDescriptorNames of <rdkit.ML.Descriptors.MoleculeDescriptors.MolecularDescriptorCalculator object at 0x7f0ed5f4d3a0>> \n",
      "\n",
      "\n",
      "<bound method MolecularDescriptorCalculator.GetDescriptorFuncs of <rdkit.ML.Descriptors.MoleculeDescriptors.MolecularDescriptorCalculator object at 0x7f0ed5f4d520>>\n",
      "<bound method MolecularDescriptorCalculator.GetDescriptorNames of <rdkit.ML.Descriptors.MoleculeDescriptors.MolecularDescriptorCalculator object at 0x7f0ed5f4d520>> \n",
      "\n",
      "\n",
      "<bound method MolecularDescriptorCalculator.GetDescriptorFuncs of <rdkit.ML.Descriptors.MoleculeDescriptors.MolecularDescriptorCalculator object at 0x7f0ed5f4da90>>\n",
      "<bound method MolecularDescriptorCalculator.GetDescriptorNames of <rdkit.ML.Descriptors.MoleculeDescriptors.MolecularDescriptorCalculator object at 0x7f0ed5f4da90>> \n",
      "\n",
      "\n",
      "<bound method MolecularDescriptorCalculator.GetDescriptorFuncs of <rdkit.ML.Descriptors.MoleculeDescriptors.MolecularDescriptorCalculator object at 0x7f0ed5f4d9a0>>\n",
      "<bound method MolecularDescriptorCalculator.GetDescriptorNames of <rdkit.ML.Descriptors.MoleculeDescriptors.MolecularDescriptorCalculator object at 0x7f0ed5f4d9a0>> \n",
      "\n",
      "\n",
      "<bound method MolecularDescriptorCalculator.GetDescriptorFuncs of <rdkit.ML.Descriptors.MoleculeDescriptors.MolecularDescriptorCalculator object at 0x7f0ed5f4d970>>\n",
      "<bound method MolecularDescriptorCalculator.GetDescriptorNames of <rdkit.ML.Descriptors.MoleculeDescriptors.MolecularDescriptorCalculator object at 0x7f0ed5f4d970>> \n",
      "\n",
      "\n",
      "<bound method MolecularDescriptorCalculator.GetDescriptorFuncs of <rdkit.ML.Descriptors.MoleculeDescriptors.MolecularDescriptorCalculator object at 0x7f0ed5f4dac0>>\n",
      "<bound method MolecularDescriptorCalculator.GetDescriptorNames of <rdkit.ML.Descriptors.MoleculeDescriptors.MolecularDescriptorCalculator object at 0x7f0ed5f4dac0>> \n",
      "\n",
      "\n",
      "<bound method MolecularDescriptorCalculator.GetDescriptorFuncs of <rdkit.ML.Descriptors.MoleculeDescriptors.MolecularDescriptorCalculator object at 0x7f0ed5f284f0>>\n",
      "<bound method MolecularDescriptorCalculator.GetDescriptorNames of <rdkit.ML.Descriptors.MoleculeDescriptors.MolecularDescriptorCalculator object at 0x7f0ed5f284f0>> \n",
      "\n",
      "\n",
      "<bound method MolecularDescriptorCalculator.GetDescriptorFuncs of <rdkit.ML.Descriptors.MoleculeDescriptors.MolecularDescriptorCalculator object at 0x7f0ed5f28a00>>\n",
      "<bound method MolecularDescriptorCalculator.GetDescriptorNames of <rdkit.ML.Descriptors.MoleculeDescriptors.MolecularDescriptorCalculator object at 0x7f0ed5f28a00>> \n",
      "\n",
      "\n",
      "<bound method MolecularDescriptorCalculator.GetDescriptorFuncs of <rdkit.ML.Descriptors.MoleculeDescriptors.MolecularDescriptorCalculator object at 0x7f0ed5f28c10>>\n",
      "<bound method MolecularDescriptorCalculator.GetDescriptorNames of <rdkit.ML.Descriptors.MoleculeDescriptors.MolecularDescriptorCalculator object at 0x7f0ed5f28c10>> \n",
      "\n",
      "\n",
      "<bound method MolecularDescriptorCalculator.GetDescriptorFuncs of <rdkit.ML.Descriptors.MoleculeDescriptors.MolecularDescriptorCalculator object at 0x7f0ed5f28dc0>>\n",
      "<bound method MolecularDescriptorCalculator.GetDescriptorNames of <rdkit.ML.Descriptors.MoleculeDescriptors.MolecularDescriptorCalculator object at 0x7f0ed5f28dc0>> \n",
      "\n",
      "\n",
      "<bound method MolecularDescriptorCalculator.GetDescriptorFuncs of <rdkit.ML.Descriptors.MoleculeDescriptors.MolecularDescriptorCalculator object at 0x7f0ed5f28fd0>>\n",
      "<bound method MolecularDescriptorCalculator.GetDescriptorNames of <rdkit.ML.Descriptors.MoleculeDescriptors.MolecularDescriptorCalculator object at 0x7f0ed5f28fd0>> \n",
      "\n",
      "\n",
      "<bound method MolecularDescriptorCalculator.GetDescriptorFuncs of <rdkit.ML.Descriptors.MoleculeDescriptors.MolecularDescriptorCalculator object at 0x7f0ed5f28be0>>\n",
      "<bound method MolecularDescriptorCalculator.GetDescriptorNames of <rdkit.ML.Descriptors.MoleculeDescriptors.MolecularDescriptorCalculator object at 0x7f0ed5f28be0>> \n",
      "\n",
      "\n",
      "<bound method MolecularDescriptorCalculator.GetDescriptorFuncs of <rdkit.ML.Descriptors.MoleculeDescriptors.MolecularDescriptorCalculator object at 0x7f0ed5f287c0>>\n",
      "<bound method MolecularDescriptorCalculator.GetDescriptorNames of <rdkit.ML.Descriptors.MoleculeDescriptors.MolecularDescriptorCalculator object at 0x7f0ed5f287c0>> \n",
      "\n",
      "\n",
      "<bound method MolecularDescriptorCalculator.GetDescriptorFuncs of <rdkit.ML.Descriptors.MoleculeDescriptors.MolecularDescriptorCalculator object at 0x7f0ed5f272e0>>\n",
      "<bound method MolecularDescriptorCalculator.GetDescriptorNames of <rdkit.ML.Descriptors.MoleculeDescriptors.MolecularDescriptorCalculator object at 0x7f0ed5f272e0>> \n",
      "\n",
      "\n",
      "<bound method MolecularDescriptorCalculator.GetDescriptorFuncs of <rdkit.ML.Descriptors.MoleculeDescriptors.MolecularDescriptorCalculator object at 0x7f0ed5f27a30>>\n",
      "<bound method MolecularDescriptorCalculator.GetDescriptorNames of <rdkit.ML.Descriptors.MoleculeDescriptors.MolecularDescriptorCalculator object at 0x7f0ed5f27a30>> \n",
      "\n",
      "\n",
      "<bound method MolecularDescriptorCalculator.GetDescriptorFuncs of <rdkit.ML.Descriptors.MoleculeDescriptors.MolecularDescriptorCalculator object at 0x7f0ed5f27160>>\n",
      "<bound method MolecularDescriptorCalculator.GetDescriptorNames of <rdkit.ML.Descriptors.MoleculeDescriptors.MolecularDescriptorCalculator object at 0x7f0ed5f27160>> \n",
      "\n",
      "\n",
      "<bound method MolecularDescriptorCalculator.GetDescriptorFuncs of <rdkit.ML.Descriptors.MoleculeDescriptors.MolecularDescriptorCalculator object at 0x7f0ed5f288b0>>\n",
      "<bound method MolecularDescriptorCalculator.GetDescriptorNames of <rdkit.ML.Descriptors.MoleculeDescriptors.MolecularDescriptorCalculator object at 0x7f0ed5f288b0>> \n",
      "\n",
      "\n",
      "<bound method MolecularDescriptorCalculator.GetDescriptorFuncs of <rdkit.ML.Descriptors.MoleculeDescriptors.MolecularDescriptorCalculator object at 0x7f0ed5f28850>>\n",
      "<bound method MolecularDescriptorCalculator.GetDescriptorNames of <rdkit.ML.Descriptors.MoleculeDescriptors.MolecularDescriptorCalculator object at 0x7f0ed5f28850>> \n",
      "\n",
      "\n",
      "<bound method MolecularDescriptorCalculator.GetDescriptorFuncs of <rdkit.ML.Descriptors.MoleculeDescriptors.MolecularDescriptorCalculator object at 0x7f0ed5f28ca0>>\n",
      "<bound method MolecularDescriptorCalculator.GetDescriptorNames of <rdkit.ML.Descriptors.MoleculeDescriptors.MolecularDescriptorCalculator object at 0x7f0ed5f28ca0>> \n",
      "\n",
      "\n",
      "<bound method MolecularDescriptorCalculator.GetDescriptorFuncs of <rdkit.ML.Descriptors.MoleculeDescriptors.MolecularDescriptorCalculator object at 0x7f0ed5f28df0>>\n",
      "<bound method MolecularDescriptorCalculator.GetDescriptorNames of <rdkit.ML.Descriptors.MoleculeDescriptors.MolecularDescriptorCalculator object at 0x7f0ed5f28df0>> \n",
      "\n",
      "\n",
      "<bound method MolecularDescriptorCalculator.GetDescriptorFuncs of <rdkit.ML.Descriptors.MoleculeDescriptors.MolecularDescriptorCalculator object at 0x7f0ed5f285e0>>\n",
      "<bound method MolecularDescriptorCalculator.GetDescriptorNames of <rdkit.ML.Descriptors.MoleculeDescriptors.MolecularDescriptorCalculator object at 0x7f0ed5f285e0>> \n",
      "\n",
      "\n",
      "<bound method MolecularDescriptorCalculator.GetDescriptorFuncs of <rdkit.ML.Descriptors.MoleculeDescriptors.MolecularDescriptorCalculator object at 0x7f0ed5f28310>>\n",
      "<bound method MolecularDescriptorCalculator.GetDescriptorNames of <rdkit.ML.Descriptors.MoleculeDescriptors.MolecularDescriptorCalculator object at 0x7f0ed5f28310>> \n",
      "\n",
      "\n",
      "<bound method MolecularDescriptorCalculator.GetDescriptorFuncs of <rdkit.ML.Descriptors.MoleculeDescriptors.MolecularDescriptorCalculator object at 0x7f0ed5f28670>>\n",
      "<bound method MolecularDescriptorCalculator.GetDescriptorNames of <rdkit.ML.Descriptors.MoleculeDescriptors.MolecularDescriptorCalculator object at 0x7f0ed5f28670>> \n",
      "\n",
      "\n",
      "<bound method MolecularDescriptorCalculator.GetDescriptorFuncs of <rdkit.ML.Descriptors.MoleculeDescriptors.MolecularDescriptorCalculator object at 0x7f0ed5f28220>>\n",
      "<bound method MolecularDescriptorCalculator.GetDescriptorNames of <rdkit.ML.Descriptors.MoleculeDescriptors.MolecularDescriptorCalculator object at 0x7f0ed5f28220>> \n",
      "\n",
      "\n",
      "<bound method MolecularDescriptorCalculator.GetDescriptorFuncs of <rdkit.ML.Descriptors.MoleculeDescriptors.MolecularDescriptorCalculator object at 0x7f0ed5f28d00>>\n",
      "<bound method MolecularDescriptorCalculator.GetDescriptorNames of <rdkit.ML.Descriptors.MoleculeDescriptors.MolecularDescriptorCalculator object at 0x7f0ed5f28d00>> \n",
      "\n",
      "\n",
      "<bound method MolecularDescriptorCalculator.GetDescriptorFuncs of <rdkit.ML.Descriptors.MoleculeDescriptors.MolecularDescriptorCalculator object at 0x7f0ed5f28f70>>\n",
      "<bound method MolecularDescriptorCalculator.GetDescriptorNames of <rdkit.ML.Descriptors.MoleculeDescriptors.MolecularDescriptorCalculator object at 0x7f0ed5f28f70>> \n",
      "\n",
      "\n",
      "<bound method MolecularDescriptorCalculator.GetDescriptorFuncs of <rdkit.ML.Descriptors.MoleculeDescriptors.MolecularDescriptorCalculator object at 0x7f0ed5f28cd0>>\n",
      "<bound method MolecularDescriptorCalculator.GetDescriptorNames of <rdkit.ML.Descriptors.MoleculeDescriptors.MolecularDescriptorCalculator object at 0x7f0ed5f28cd0>> \n",
      "\n",
      "\n",
      "<bound method MolecularDescriptorCalculator.GetDescriptorFuncs of <rdkit.ML.Descriptors.MoleculeDescriptors.MolecularDescriptorCalculator object at 0x7f0ed5f28250>>\n",
      "<bound method MolecularDescriptorCalculator.GetDescriptorNames of <rdkit.ML.Descriptors.MoleculeDescriptors.MolecularDescriptorCalculator object at 0x7f0ed5f28250>> \n",
      "\n",
      "\n",
      "<bound method MolecularDescriptorCalculator.GetDescriptorFuncs of <rdkit.ML.Descriptors.MoleculeDescriptors.MolecularDescriptorCalculator object at 0x7f0ed5f28190>>\n",
      "<bound method MolecularDescriptorCalculator.GetDescriptorNames of <rdkit.ML.Descriptors.MoleculeDescriptors.MolecularDescriptorCalculator object at 0x7f0ed5f28190>> \n",
      "\n",
      "\n",
      "<bound method MolecularDescriptorCalculator.GetDescriptorFuncs of <rdkit.ML.Descriptors.MoleculeDescriptors.MolecularDescriptorCalculator object at 0x7f0ed5f280d0>>\n",
      "<bound method MolecularDescriptorCalculator.GetDescriptorNames of <rdkit.ML.Descriptors.MoleculeDescriptors.MolecularDescriptorCalculator object at 0x7f0ed5f280d0>> \n",
      "\n",
      "\n",
      "<bound method MolecularDescriptorCalculator.GetDescriptorFuncs of <rdkit.ML.Descriptors.MoleculeDescriptors.MolecularDescriptorCalculator object at 0x7f0ed5f28a30>>\n",
      "<bound method MolecularDescriptorCalculator.GetDescriptorNames of <rdkit.ML.Descriptors.MoleculeDescriptors.MolecularDescriptorCalculator object at 0x7f0ed5f28a30>> \n",
      "\n",
      "\n",
      "<bound method MolecularDescriptorCalculator.GetDescriptorFuncs of <rdkit.ML.Descriptors.MoleculeDescriptors.MolecularDescriptorCalculator object at 0x7f0ed5f280a0>>\n",
      "<bound method MolecularDescriptorCalculator.GetDescriptorNames of <rdkit.ML.Descriptors.MoleculeDescriptors.MolecularDescriptorCalculator object at 0x7f0ed5f280a0>> \n",
      "\n",
      "\n",
      "<bound method MolecularDescriptorCalculator.GetDescriptorFuncs of <rdkit.ML.Descriptors.MoleculeDescriptors.MolecularDescriptorCalculator object at 0x7f0ed5f28400>>\n",
      "<bound method MolecularDescriptorCalculator.GetDescriptorNames of <rdkit.ML.Descriptors.MoleculeDescriptors.MolecularDescriptorCalculator object at 0x7f0ed5f28400>> \n",
      "\n",
      "\n",
      "<bound method MolecularDescriptorCalculator.GetDescriptorFuncs of <rdkit.ML.Descriptors.MoleculeDescriptors.MolecularDescriptorCalculator object at 0x7f0ed5f28700>>\n",
      "<bound method MolecularDescriptorCalculator.GetDescriptorNames of <rdkit.ML.Descriptors.MoleculeDescriptors.MolecularDescriptorCalculator object at 0x7f0ed5f28700>> \n",
      "\n",
      "\n",
      "<bound method MolecularDescriptorCalculator.GetDescriptorFuncs of <rdkit.ML.Descriptors.MoleculeDescriptors.MolecularDescriptorCalculator object at 0x7f0ed5f28b20>>\n",
      "<bound method MolecularDescriptorCalculator.GetDescriptorNames of <rdkit.ML.Descriptors.MoleculeDescriptors.MolecularDescriptorCalculator object at 0x7f0ed5f28b20>> \n",
      "\n",
      "\n",
      "<bound method MolecularDescriptorCalculator.GetDescriptorFuncs of <rdkit.ML.Descriptors.MoleculeDescriptors.MolecularDescriptorCalculator object at 0x7f0ed5f28460>>\n",
      "<bound method MolecularDescriptorCalculator.GetDescriptorNames of <rdkit.ML.Descriptors.MoleculeDescriptors.MolecularDescriptorCalculator object at 0x7f0ed5f28460>> \n",
      "\n",
      "\n",
      "<bound method MolecularDescriptorCalculator.GetDescriptorFuncs of <rdkit.ML.Descriptors.MoleculeDescriptors.MolecularDescriptorCalculator object at 0x7f0ed5f28370>>\n",
      "<bound method MolecularDescriptorCalculator.GetDescriptorNames of <rdkit.ML.Descriptors.MoleculeDescriptors.MolecularDescriptorCalculator object at 0x7f0ed5f28370>> \n",
      "\n",
      "\n",
      "<bound method MolecularDescriptorCalculator.GetDescriptorFuncs of <rdkit.ML.Descriptors.MoleculeDescriptors.MolecularDescriptorCalculator object at 0x7f0ed5f28a90>>\n",
      "<bound method MolecularDescriptorCalculator.GetDescriptorNames of <rdkit.ML.Descriptors.MoleculeDescriptors.MolecularDescriptorCalculator object at 0x7f0ed5f28a90>> \n",
      "\n",
      "\n",
      "<bound method MolecularDescriptorCalculator.GetDescriptorFuncs of <rdkit.ML.Descriptors.MoleculeDescriptors.MolecularDescriptorCalculator object at 0x7f0ed5f28490>>\n",
      "<bound method MolecularDescriptorCalculator.GetDescriptorNames of <rdkit.ML.Descriptors.MoleculeDescriptors.MolecularDescriptorCalculator object at 0x7f0ed5f28490>> \n",
      "\n",
      "\n",
      "<bound method MolecularDescriptorCalculator.GetDescriptorFuncs of <rdkit.ML.Descriptors.MoleculeDescriptors.MolecularDescriptorCalculator object at 0x7f0ed5f28550>>\n",
      "<bound method MolecularDescriptorCalculator.GetDescriptorNames of <rdkit.ML.Descriptors.MoleculeDescriptors.MolecularDescriptorCalculator object at 0x7f0ed5f28550>> \n",
      "\n",
      "\n",
      "<bound method MolecularDescriptorCalculator.GetDescriptorFuncs of <rdkit.ML.Descriptors.MoleculeDescriptors.MolecularDescriptorCalculator object at 0x7f0ed5f281c0>>\n",
      "<bound method MolecularDescriptorCalculator.GetDescriptorNames of <rdkit.ML.Descriptors.MoleculeDescriptors.MolecularDescriptorCalculator object at 0x7f0ed5f281c0>> \n",
      "\n",
      "\n",
      "<bound method MolecularDescriptorCalculator.GetDescriptorFuncs of <rdkit.ML.Descriptors.MoleculeDescriptors.MolecularDescriptorCalculator object at 0x7f0ed5f28f40>>\n",
      "<bound method MolecularDescriptorCalculator.GetDescriptorNames of <rdkit.ML.Descriptors.MoleculeDescriptors.MolecularDescriptorCalculator object at 0x7f0ed5f28f40>> \n",
      "\n",
      "\n",
      "<bound method MolecularDescriptorCalculator.GetDescriptorFuncs of <rdkit.ML.Descriptors.MoleculeDescriptors.MolecularDescriptorCalculator object at 0x7f0ed5f28b80>>\n",
      "<bound method MolecularDescriptorCalculator.GetDescriptorNames of <rdkit.ML.Descriptors.MoleculeDescriptors.MolecularDescriptorCalculator object at 0x7f0ed5f28b80>> \n",
      "\n",
      "\n",
      "<bound method MolecularDescriptorCalculator.GetDescriptorFuncs of <rdkit.ML.Descriptors.MoleculeDescriptors.MolecularDescriptorCalculator object at 0x7f0ed5f24040>>\n",
      "<bound method MolecularDescriptorCalculator.GetDescriptorNames of <rdkit.ML.Descriptors.MoleculeDescriptors.MolecularDescriptorCalculator object at 0x7f0ed5f24040>> \n",
      "\n",
      "\n",
      "<bound method MolecularDescriptorCalculator.GetDescriptorFuncs of <rdkit.ML.Descriptors.MoleculeDescriptors.MolecularDescriptorCalculator object at 0x7f0ed5f24130>>\n",
      "<bound method MolecularDescriptorCalculator.GetDescriptorNames of <rdkit.ML.Descriptors.MoleculeDescriptors.MolecularDescriptorCalculator object at 0x7f0ed5f24130>> \n",
      "\n",
      "\n",
      "<bound method MolecularDescriptorCalculator.GetDescriptorFuncs of <rdkit.ML.Descriptors.MoleculeDescriptors.MolecularDescriptorCalculator object at 0x7f0ed5f240d0>>\n",
      "<bound method MolecularDescriptorCalculator.GetDescriptorNames of <rdkit.ML.Descriptors.MoleculeDescriptors.MolecularDescriptorCalculator object at 0x7f0ed5f240d0>> \n",
      "\n",
      "\n",
      "<bound method MolecularDescriptorCalculator.GetDescriptorFuncs of <rdkit.ML.Descriptors.MoleculeDescriptors.MolecularDescriptorCalculator object at 0x7f0ed5f24220>>\n",
      "<bound method MolecularDescriptorCalculator.GetDescriptorNames of <rdkit.ML.Descriptors.MoleculeDescriptors.MolecularDescriptorCalculator object at 0x7f0ed5f24220>> \n",
      "\n",
      "\n",
      "<bound method MolecularDescriptorCalculator.GetDescriptorFuncs of <rdkit.ML.Descriptors.MoleculeDescriptors.MolecularDescriptorCalculator object at 0x7f0ed5f241c0>>\n",
      "<bound method MolecularDescriptorCalculator.GetDescriptorNames of <rdkit.ML.Descriptors.MoleculeDescriptors.MolecularDescriptorCalculator object at 0x7f0ed5f241c0>> \n",
      "\n",
      "\n",
      "<bound method MolecularDescriptorCalculator.GetDescriptorFuncs of <rdkit.ML.Descriptors.MoleculeDescriptors.MolecularDescriptorCalculator object at 0x7f0ed5f24310>>\n",
      "<bound method MolecularDescriptorCalculator.GetDescriptorNames of <rdkit.ML.Descriptors.MoleculeDescriptors.MolecularDescriptorCalculator object at 0x7f0ed5f24310>> \n",
      "\n",
      "\n",
      "<bound method MolecularDescriptorCalculator.GetDescriptorFuncs of <rdkit.ML.Descriptors.MoleculeDescriptors.MolecularDescriptorCalculator object at 0x7f0ed5f242b0>>\n",
      "<bound method MolecularDescriptorCalculator.GetDescriptorNames of <rdkit.ML.Descriptors.MoleculeDescriptors.MolecularDescriptorCalculator object at 0x7f0ed5f242b0>> \n",
      "\n",
      "\n",
      "<bound method MolecularDescriptorCalculator.GetDescriptorFuncs of <rdkit.ML.Descriptors.MoleculeDescriptors.MolecularDescriptorCalculator object at 0x7f0ed5f24400>>\n",
      "<bound method MolecularDescriptorCalculator.GetDescriptorNames of <rdkit.ML.Descriptors.MoleculeDescriptors.MolecularDescriptorCalculator object at 0x7f0ed5f24400>> \n",
      "\n",
      "\n",
      "<bound method MolecularDescriptorCalculator.GetDescriptorFuncs of <rdkit.ML.Descriptors.MoleculeDescriptors.MolecularDescriptorCalculator object at 0x7f0ed5f243a0>>\n",
      "<bound method MolecularDescriptorCalculator.GetDescriptorNames of <rdkit.ML.Descriptors.MoleculeDescriptors.MolecularDescriptorCalculator object at 0x7f0ed5f243a0>> \n",
      "\n",
      "\n",
      "<bound method MolecularDescriptorCalculator.GetDescriptorFuncs of <rdkit.ML.Descriptors.MoleculeDescriptors.MolecularDescriptorCalculator object at 0x7f0ed5f244f0>>\n",
      "<bound method MolecularDescriptorCalculator.GetDescriptorNames of <rdkit.ML.Descriptors.MoleculeDescriptors.MolecularDescriptorCalculator object at 0x7f0ed5f244f0>> \n",
      "\n",
      "\n",
      "<bound method MolecularDescriptorCalculator.GetDescriptorFuncs of <rdkit.ML.Descriptors.MoleculeDescriptors.MolecularDescriptorCalculator object at 0x7f0ed5f24490>>\n",
      "<bound method MolecularDescriptorCalculator.GetDescriptorNames of <rdkit.ML.Descriptors.MoleculeDescriptors.MolecularDescriptorCalculator object at 0x7f0ed5f24490>> \n",
      "\n",
      "\n",
      "<bound method MolecularDescriptorCalculator.GetDescriptorFuncs of <rdkit.ML.Descriptors.MoleculeDescriptors.MolecularDescriptorCalculator object at 0x7f0ed5f24610>>\n",
      "<bound method MolecularDescriptorCalculator.GetDescriptorNames of <rdkit.ML.Descriptors.MoleculeDescriptors.MolecularDescriptorCalculator object at 0x7f0ed5f24610>> \n",
      "\n",
      "\n",
      "<bound method MolecularDescriptorCalculator.GetDescriptorFuncs of <rdkit.ML.Descriptors.MoleculeDescriptors.MolecularDescriptorCalculator object at 0x7f0ed5f246a0>>\n",
      "<bound method MolecularDescriptorCalculator.GetDescriptorNames of <rdkit.ML.Descriptors.MoleculeDescriptors.MolecularDescriptorCalculator object at 0x7f0ed5f246a0>> \n",
      "\n",
      "\n",
      "<bound method MolecularDescriptorCalculator.GetDescriptorFuncs of <rdkit.ML.Descriptors.MoleculeDescriptors.MolecularDescriptorCalculator object at 0x7f0ed5f24640>>\n",
      "<bound method MolecularDescriptorCalculator.GetDescriptorNames of <rdkit.ML.Descriptors.MoleculeDescriptors.MolecularDescriptorCalculator object at 0x7f0ed5f24640>> \n",
      "\n",
      "\n",
      "<bound method MolecularDescriptorCalculator.GetDescriptorFuncs of <rdkit.ML.Descriptors.MoleculeDescriptors.MolecularDescriptorCalculator object at 0x7f0ed5f24760>>\n",
      "<bound method MolecularDescriptorCalculator.GetDescriptorNames of <rdkit.ML.Descriptors.MoleculeDescriptors.MolecularDescriptorCalculator object at 0x7f0ed5f24760>> \n",
      "\n",
      "\n",
      "<bound method MolecularDescriptorCalculator.GetDescriptorFuncs of <rdkit.ML.Descriptors.MoleculeDescriptors.MolecularDescriptorCalculator object at 0x7f0ed5f24700>>\n",
      "<bound method MolecularDescriptorCalculator.GetDescriptorNames of <rdkit.ML.Descriptors.MoleculeDescriptors.MolecularDescriptorCalculator object at 0x7f0ed5f24700>> \n",
      "\n",
      "\n",
      "<bound method MolecularDescriptorCalculator.GetDescriptorFuncs of <rdkit.ML.Descriptors.MoleculeDescriptors.MolecularDescriptorCalculator object at 0x7f0ed5f24820>>\n",
      "<bound method MolecularDescriptorCalculator.GetDescriptorNames of <rdkit.ML.Descriptors.MoleculeDescriptors.MolecularDescriptorCalculator object at 0x7f0ed5f24820>> \n",
      "\n",
      "\n",
      "<bound method MolecularDescriptorCalculator.GetDescriptorFuncs of <rdkit.ML.Descriptors.MoleculeDescriptors.MolecularDescriptorCalculator object at 0x7f0ed5f247c0>>\n",
      "<bound method MolecularDescriptorCalculator.GetDescriptorNames of <rdkit.ML.Descriptors.MoleculeDescriptors.MolecularDescriptorCalculator object at 0x7f0ed5f247c0>> \n",
      "\n",
      "\n",
      "<bound method MolecularDescriptorCalculator.GetDescriptorFuncs of <rdkit.ML.Descriptors.MoleculeDescriptors.MolecularDescriptorCalculator object at 0x7f0ed5f248e0>>\n",
      "<bound method MolecularDescriptorCalculator.GetDescriptorNames of <rdkit.ML.Descriptors.MoleculeDescriptors.MolecularDescriptorCalculator object at 0x7f0ed5f248e0>> \n",
      "\n",
      "\n",
      "<bound method MolecularDescriptorCalculator.GetDescriptorFuncs of <rdkit.ML.Descriptors.MoleculeDescriptors.MolecularDescriptorCalculator object at 0x7f0ed5f24880>>\n",
      "<bound method MolecularDescriptorCalculator.GetDescriptorNames of <rdkit.ML.Descriptors.MoleculeDescriptors.MolecularDescriptorCalculator object at 0x7f0ed5f24880>> \n",
      "\n",
      "\n",
      "<bound method MolecularDescriptorCalculator.GetDescriptorFuncs of <rdkit.ML.Descriptors.MoleculeDescriptors.MolecularDescriptorCalculator object at 0x7f0ed5f249a0>>\n",
      "<bound method MolecularDescriptorCalculator.GetDescriptorNames of <rdkit.ML.Descriptors.MoleculeDescriptors.MolecularDescriptorCalculator object at 0x7f0ed5f249a0>> \n",
      "\n",
      "\n",
      "<bound method MolecularDescriptorCalculator.GetDescriptorFuncs of <rdkit.ML.Descriptors.MoleculeDescriptors.MolecularDescriptorCalculator object at 0x7f0ed5f24940>>\n",
      "<bound method MolecularDescriptorCalculator.GetDescriptorNames of <rdkit.ML.Descriptors.MoleculeDescriptors.MolecularDescriptorCalculator object at 0x7f0ed5f24940>> \n",
      "\n",
      "\n",
      "<bound method MolecularDescriptorCalculator.GetDescriptorFuncs of <rdkit.ML.Descriptors.MoleculeDescriptors.MolecularDescriptorCalculator object at 0x7f0ed5f24a60>>\n",
      "<bound method MolecularDescriptorCalculator.GetDescriptorNames of <rdkit.ML.Descriptors.MoleculeDescriptors.MolecularDescriptorCalculator object at 0x7f0ed5f24a60>> \n",
      "\n",
      "\n",
      "<bound method MolecularDescriptorCalculator.GetDescriptorFuncs of <rdkit.ML.Descriptors.MoleculeDescriptors.MolecularDescriptorCalculator object at 0x7f0ed5f24a00>>\n",
      "<bound method MolecularDescriptorCalculator.GetDescriptorNames of <rdkit.ML.Descriptors.MoleculeDescriptors.MolecularDescriptorCalculator object at 0x7f0ed5f24a00>> \n",
      "\n",
      "\n",
      "<bound method MolecularDescriptorCalculator.GetDescriptorFuncs of <rdkit.ML.Descriptors.MoleculeDescriptors.MolecularDescriptorCalculator object at 0x7f0ed5f24b20>>\n",
      "<bound method MolecularDescriptorCalculator.GetDescriptorNames of <rdkit.ML.Descriptors.MoleculeDescriptors.MolecularDescriptorCalculator object at 0x7f0ed5f24b20>> \n",
      "\n",
      "\n",
      "<bound method MolecularDescriptorCalculator.GetDescriptorFuncs of <rdkit.ML.Descriptors.MoleculeDescriptors.MolecularDescriptorCalculator object at 0x7f0ed5f24ac0>>\n",
      "<bound method MolecularDescriptorCalculator.GetDescriptorNames of <rdkit.ML.Descriptors.MoleculeDescriptors.MolecularDescriptorCalculator object at 0x7f0ed5f24ac0>> \n",
      "\n",
      "\n",
      "<bound method MolecularDescriptorCalculator.GetDescriptorFuncs of <rdkit.ML.Descriptors.MoleculeDescriptors.MolecularDescriptorCalculator object at 0x7f0ed5f24be0>>\n",
      "<bound method MolecularDescriptorCalculator.GetDescriptorNames of <rdkit.ML.Descriptors.MoleculeDescriptors.MolecularDescriptorCalculator object at 0x7f0ed5f24be0>> \n",
      "\n",
      "\n",
      "<bound method MolecularDescriptorCalculator.GetDescriptorFuncs of <rdkit.ML.Descriptors.MoleculeDescriptors.MolecularDescriptorCalculator object at 0x7f0ed5f24b80>>\n",
      "<bound method MolecularDescriptorCalculator.GetDescriptorNames of <rdkit.ML.Descriptors.MoleculeDescriptors.MolecularDescriptorCalculator object at 0x7f0ed5f24b80>> \n",
      "\n",
      "\n",
      "<bound method MolecularDescriptorCalculator.GetDescriptorFuncs of <rdkit.ML.Descriptors.MoleculeDescriptors.MolecularDescriptorCalculator object at 0x7f0ed5f24ca0>>\n",
      "<bound method MolecularDescriptorCalculator.GetDescriptorNames of <rdkit.ML.Descriptors.MoleculeDescriptors.MolecularDescriptorCalculator object at 0x7f0ed5f24ca0>> \n",
      "\n",
      "\n",
      "<bound method MolecularDescriptorCalculator.GetDescriptorFuncs of <rdkit.ML.Descriptors.MoleculeDescriptors.MolecularDescriptorCalculator object at 0x7f0ed5f24c40>>\n",
      "<bound method MolecularDescriptorCalculator.GetDescriptorNames of <rdkit.ML.Descriptors.MoleculeDescriptors.MolecularDescriptorCalculator object at 0x7f0ed5f24c40>> \n",
      "\n",
      "\n",
      "<bound method MolecularDescriptorCalculator.GetDescriptorFuncs of <rdkit.ML.Descriptors.MoleculeDescriptors.MolecularDescriptorCalculator object at 0x7f0ed5f24d60>>\n",
      "<bound method MolecularDescriptorCalculator.GetDescriptorNames of <rdkit.ML.Descriptors.MoleculeDescriptors.MolecularDescriptorCalculator object at 0x7f0ed5f24d60>> \n",
      "\n",
      "\n",
      "<bound method MolecularDescriptorCalculator.GetDescriptorFuncs of <rdkit.ML.Descriptors.MoleculeDescriptors.MolecularDescriptorCalculator object at 0x7f0ed5f24d00>>\n",
      "<bound method MolecularDescriptorCalculator.GetDescriptorNames of <rdkit.ML.Descriptors.MoleculeDescriptors.MolecularDescriptorCalculator object at 0x7f0ed5f24d00>> \n",
      "\n",
      "\n",
      "<bound method MolecularDescriptorCalculator.GetDescriptorFuncs of <rdkit.ML.Descriptors.MoleculeDescriptors.MolecularDescriptorCalculator object at 0x7f0ed5f24e20>>\n",
      "<bound method MolecularDescriptorCalculator.GetDescriptorNames of <rdkit.ML.Descriptors.MoleculeDescriptors.MolecularDescriptorCalculator object at 0x7f0ed5f24e20>> \n",
      "\n",
      "\n"
     ]
    }
   ],
   "source": [
    "for e in res:\n",
    "    print(e.GetDescriptorFuncs)    \n",
    "    print(e.GetDescriptorNames,'\\n\\n')\n",
    "    \n"
   ]
  },
  {
   "cell_type": "markdown",
   "metadata": {
    "id": "gljbmF6p3RX8"
   },
   "source": [
    "### Fingerprinting\n",
    "\n",
    "\n",
    "A chemical structure can be characterized by a set of numerical values known as molecular fingerprints. They may be 2D Fragment-based fingerprints presented by bit arrays of 0s and 1s wherein each bit position indicates the presence or absence of structural fragments.\n",
    "\n",
    "\n",
    "The RDKit has a variety of built-in functionality for generating molecular fingerprints and then using them to calculate molecular similarity. In this exercise, we will generate the fingerprints for parcetamol and aspirin that are two popular drugs used for pains.\n",
    "\n",
    "\n"
   ]
  },
  {
   "cell_type": "code",
   "execution_count": null,
   "metadata": {},
   "outputs": [],
   "source": []
  },
  {
   "cell_type": "markdown",
   "metadata": {},
   "source": [
    "\n",
    "With the help of rdkit.Chem.AllChem.GetMorganFingerprintAsBitVect, compute its fingerprint as a bit vector. "
   ]
  },
  {
   "cell_type": "code",
   "execution_count": 128,
   "metadata": {},
   "outputs": [
    {
     "data": {
      "image/png": "[encoded data removed]",
      "text/plain": [
       "<rdkit.Chem.rdchem.Mol at 0x7f0ed5f9a3a0>"
      ]
     },
     "execution_count": 128,
     "metadata": {},
     "output_type": "execute_result"
    }
   ],
   "source": [
    "aspirin = Chem.MolFromSmiles(\"CC(=O)Oc1ccccc1C(=O)O\")\n",
    "aspirin"
   ]
  },
  {
   "cell_type": "code",
   "execution_count": 148,
   "metadata": {},
   "outputs": [
    {
     "data": {
      "text/plain": [
       "(10.611948223733938,\n",
       " -1.1140277777777776,\n",
       " 10.611948223733938,\n",
       " 0.01601851851851821,\n",
       " 0.5501217966938848,\n",
       " 180.15899999999996,\n",
       " 172.09499999999997,\n",
       " 180.042258736,\n",
       " 68,\n",
       " 0,\n",
       " 0.33900378687731025,\n",
       " -0.4775395271554559,\n",
       " 0.4775395271554559,\n",
       " 0.33900378687731025,\n",
       " 1.3076923076923077,\n",
       " 1.9230769230769231,\n",
       " 2.4615384615384617,\n",
       " 16.53611122125433,\n",
       " 10.182282381035343,\n",
       " 2.104306980957856,\n",
       " -2.0311320919470135,\n",
       " 2.1698345568128055,\n",
       " -2.063000061964296,\n",
       " 5.913065796110142,\n",
       " -0.13141434244030561,\n",
       " 3.0435273546341013,\n",
       " 343.2228677267164,\n",
       " 9.844934982691242,\n",
       " 6.9813595436500515,\n",
       " 6.9813595436500515,\n",
       " 6.109060905280622,\n",
       " 3.6174536478673316,\n",
       " 3.6174536478673316,\n",
       " 2.3949556783206725,\n",
       " 2.3949556783206725,\n",
       " 1.3711546649445037,\n",
       " 1.3711546649445037,\n",
       " 0.8871712192374142,\n",
       " 0.8871712192374142,\n",
       " -1.8399999999999999,\n",
       " 729.6807528797516,\n",
       " 9.249605734767023,\n",
       " 3.7092512583454584,\n",
       " 2.297415032519928,\n",
       " 74.75705264447721,\n",
       " 9.843390348640755,\n",
       " 11.3129633249809,\n",
       " 0.0,\n",
       " 0.0,\n",
       " 0.0,\n",
       " 11.938610575903699,\n",
       " 4.794537184071822,\n",
       " 4.794537184071822,\n",
       " 0.0,\n",
       " 0.0,\n",
       " 12.13273413692322,\n",
       " 12.13273413692322,\n",
       " 6.923737199690624,\n",
       " 0.0,\n",
       " 19.432464716784395,\n",
       " 11.938610575903699,\n",
       " 0.0,\n",
       " 0.0,\n",
       " 0.0,\n",
       " 6.923737199690624,\n",
       " 0.0,\n",
       " 29.828919765543436,\n",
       " 0.0,\n",
       " 5.749511833283905,\n",
       " 4.736862953800049,\n",
       " 0.0,\n",
       " 5.749511833283905,\n",
       " 0.0,\n",
       " 17.045137970744406,\n",
       " 4.794537184071822,\n",
       " 0.0,\n",
       " 17.28172587545944,\n",
       " 24.26546827384644,\n",
       " 0.0,\n",
       " 0.0,\n",
       " 0.0,\n",
       " 63.60000000000001,\n",
       " 11.938610575903699,\n",
       " 9.589074368143644,\n",
       " 0.0,\n",
       " 11.3129633249809,\n",
       " 0.0,\n",
       " 0.0,\n",
       " 19.056471336613843,\n",
       " 12.13273413692322,\n",
       " 0.0,\n",
       " 4.736862953800049,\n",
       " 5.106527394840706,\n",
       " 4.686898148148147,\n",
       " 0.0,\n",
       " 21.184767573696142,\n",
       " 8.687243008314436,\n",
       " -0.01601851851851821,\n",
       " -1.575879629629629,\n",
       " 5.978792517006803,\n",
       " 0.0,\n",
       " 1.2208635676492818,\n",
       " 0.0,\n",
       " 0.1111111111111111,\n",
       " 13,\n",
       " 1,\n",
       " 4,\n",
       " 0,\n",
       " 0,\n",
       " 0,\n",
       " 1,\n",
       " 0,\n",
       " 1,\n",
       " 3,\n",
       " 1,\n",
       " 4,\n",
       " 2,\n",
       " 0,\n",
       " 0,\n",
       " 0,\n",
       " 1,\n",
       " 1.3101,\n",
       " 44.71030000000002,\n",
       " 0,\n",
       " 0,\n",
       " 0,\n",
       " 0,\n",
       " 1,\n",
       " 0,\n",
       " 0,\n",
       " 0,\n",
       " 1,\n",
       " 1,\n",
       " 2,\n",
       " 1,\n",
       " 0,\n",
       " 0,\n",
       " 0,\n",
       " 0,\n",
       " 0,\n",
       " 0,\n",
       " 0,\n",
       " 0,\n",
       " 0,\n",
       " 0,\n",
       " 0,\n",
       " 0,\n",
       " 0,\n",
       " 0,\n",
       " 0,\n",
       " 0,\n",
       " 0,\n",
       " 0,\n",
       " 0,\n",
       " 0,\n",
       " 0,\n",
       " 0,\n",
       " 1,\n",
       " 0,\n",
       " 0,\n",
       " 0,\n",
       " 0,\n",
       " 0,\n",
       " 1,\n",
       " 1,\n",
       " 0,\n",
       " 0,\n",
       " 0,\n",
       " 0,\n",
       " 0,\n",
       " 0,\n",
       " 0,\n",
       " 0,\n",
       " 0,\n",
       " 0,\n",
       " 0,\n",
       " 0,\n",
       " 0,\n",
       " 0,\n",
       " 0,\n",
       " 0,\n",
       " 0,\n",
       " 0,\n",
       " 0,\n",
       " 0,\n",
       " 0,\n",
       " 0,\n",
       " 1,\n",
       " 0,\n",
       " 0,\n",
       " 0,\n",
       " 0,\n",
       " 0,\n",
       " 0,\n",
       " 0,\n",
       " 0,\n",
       " 0,\n",
       " 0,\n",
       " 0,\n",
       " 0,\n",
       " 0,\n",
       " 0,\n",
       " 0,\n",
       " 0,\n",
       " 0,\n",
       " 0,\n",
       " 0,\n",
       " 0)"
      ]
     },
     "execution_count": 148,
     "metadata": {},
     "output_type": "execute_result"
    }
   ],
   "source": [
    "calculator.CalcDescriptors(aspirin)"
   ]
  },
  {
   "cell_type": "code",
   "execution_count": 132,
   "metadata": {},
   "outputs": [],
   "source": [
    "from rdkit.Chem.AllChem import GetMorganFingerprintAsBitVect\n",
    "\n",
    "fingerprint = GetMorganFingerprintAsBitVect(aspirin, 2)"
   ]
  },
  {
   "cell_type": "markdown",
   "metadata": {},
   "source": [
    "Display its type"
   ]
  },
  {
   "cell_type": "code",
   "execution_count": 133,
   "metadata": {
    "colab": {
     "base_uri": "https://localhost:8080/"
    },
    "executionInfo": {
     "elapsed": 241,
     "status": "ok",
     "timestamp": 1629702793698,
     "user": {
      "displayName": "ngoc mac",
      "photoUrl": "",
      "userId": "17981024361133171440"
     },
     "user_tz": -120
    },
    "id": "Tev1bWf7uEod",
    "outputId": "ec52a092-12c5-4193-c8dd-400221012bf1"
   },
   "outputs": [
    {
     "data": {
      "text/plain": [
       "rdkit.DataStructs.cDataStructs.ExplicitBitVect"
      ]
     },
     "execution_count": 133,
     "metadata": {},
     "output_type": "execute_result"
    }
   ],
   "source": [
    "type(fingerprint)"
   ]
  },
  {
   "cell_type": "code",
   "execution_count": 138,
   "metadata": {},
   "outputs": [
    {
     "data": {
      "text/plain": [
       "2048"
      ]
     },
     "execution_count": 138,
     "metadata": {},
     "output_type": "execute_result"
    }
   ],
   "source": [
    "len(fingerprint)"
   ]
  },
  {
   "cell_type": "markdown",
   "metadata": {},
   "source": [
    "With the DataStructs module convert it to a numpy vector and display it shape and display it"
   ]
  },
  {
   "cell_type": "code",
   "execution_count": 151,
   "metadata": {
    "colab": {
     "base_uri": "https://localhost:8080/"
    },
    "executionInfo": {
     "elapsed": 207,
     "status": "ok",
     "timestamp": 1629702913270,
     "user": {
      "displayName": "ngoc mac",
      "photoUrl": "",
      "userId": "17981024361133171440"
     },
     "user_tz": -120
    },
    "id": "9Cb8JDUe0pOw",
    "outputId": "b02963f7-1d8a-4a5e-8990-2caa165857ec"
   },
   "outputs": [],
   "source": [
    "from rdkit.DataStructs.cDataStructs import ConvertToNumpyArray\n",
    "import numpy as np\n",
    "\n",
    "npvect = np.zeros(2048, dtype=bool)\n",
    "\n",
    "ConvertToNumpyArray(fingerprint, npvect)"
   ]
  },
  {
   "cell_type": "code",
   "execution_count": 152,
   "metadata": {},
   "outputs": [
    {
     "data": {
      "text/plain": [
       "24"
      ]
     },
     "execution_count": 152,
     "metadata": {},
     "output_type": "execute_result"
    }
   ],
   "source": [
    "npvect.sum()"
   ]
  },
  {
   "cell_type": "markdown",
   "metadata": {},
   "source": [
    "Create a function smiles_to_np_morganfingerprinting which takes a smile representation and gives back the numpy version of the morgan finger_printing"
   ]
  },
  {
   "cell_type": "code",
   "execution_count": 168,
   "metadata": {},
   "outputs": [],
   "source": [
    "def smiles_to_np_morganfingerprinting(smile: str):\n",
    "    \n",
    "    mol = Chem.MolFromSmiles(smile)\n",
    "    \n",
    "    fingerprint = GetMorganFingerprintAsBitVect(mol, 2)\n",
    "    fingerprint_size = len(fingerprint)\n",
    "    \n",
    "    npvect = np.zeros(fingerprint_size, dtype=int)\n",
    "    ConvertToNumpyArray(fingerprint, npvect)    \n",
    "    \n",
    "    return npvect"
   ]
  },
  {
   "cell_type": "code",
   "execution_count": 169,
   "metadata": {},
   "outputs": [
    {
     "data": {
      "text/plain": [
       "array([0, 0, 0, ..., 0, 0, 0])"
      ]
     },
     "execution_count": 169,
     "metadata": {},
     "output_type": "execute_result"
    }
   ],
   "source": [
    "smiles_to_np_morganfingerprinting(\"CC(=O)Oc1ccccc1C(=O)O\")"
   ]
  },
  {
   "cell_type": "markdown",
   "metadata": {},
   "source": [
    "Compute the morgan finger printing of the aspirin (CC(=O)OC1=CC=CC=C1C(O)=O) and paracetamol (CC(=O)NC1=CC=C(O)C=C1)"
   ]
  },
  {
   "cell_type": "code",
   "execution_count": 172,
   "metadata": {},
   "outputs": [],
   "source": [
    "aspirin_str = \"CC(=O)OC1=CC=CC=C1C(O)=O\"\n",
    "paracetamol_str = \"CC(=O)NC1=CC=C(O)C=C1\""
   ]
  },
  {
   "cell_type": "code",
   "execution_count": 170,
   "metadata": {
    "executionInfo": {
     "elapsed": 215,
     "status": "ok",
     "timestamp": 1629702957867,
     "user": {
      "displayName": "ngoc mac",
      "photoUrl": "",
      "userId": "17981024361133171440"
     },
     "user_tz": -120
    },
    "id": "8PALjOz5232Z"
   },
   "outputs": [
    {
     "name": "stdout",
     "output_type": "stream",
     "text": [
      "[0 0 0 ... 0 0 0]\n",
      "[0 0 0 ... 0 0 0]\n"
     ]
    }
   ],
   "source": [
    "print(smiles_to_np_morganfingerprinting(\"CC(=O)OC1=CC=CC=C1C(O)=O\"))\n",
    "print(smiles_to_np_morganfingerprinting(\"CC(=O)NC1=CC=C(O)C=C1\"))"
   ]
  },
  {
   "cell_type": "markdown",
   "metadata": {},
   "source": [
    "Compute the DiceSimilarity of the two molecules"
   ]
  },
  {
   "cell_type": "code",
   "execution_count": 171,
   "metadata": {
    "colab": {
     "base_uri": "https://localhost:8080/"
    },
    "executionInfo": {
     "elapsed": 856,
     "status": "ok",
     "timestamp": 1629703004674,
     "user": {
      "displayName": "ngoc mac",
      "photoUrl": "",
      "userId": "17981024361133171440"
     },
     "user_tz": -120
    },
    "id": "fxnxfRjq3jDa",
    "outputId": "965f97e9-142b-48e9-c01e-e87fbc86e033"
   },
   "outputs": [],
   "source": [
    "def get_fp(smile: str):\n",
    "    \n",
    "    mol = Chem.MolFromSmiles(smile)\n",
    "    \n",
    "    return GetMorganFingerprintAsBitVect(mol, 2)"
   ]
  },
  {
   "cell_type": "code",
   "execution_count": 173,
   "metadata": {},
   "outputs": [],
   "source": [
    "fp_aspirin = get_fp(aspirin_str)\n",
    "fp_paracetamol = get_fp(paracetamol_str)"
   ]
  },
  {
   "cell_type": "code",
   "execution_count": 179,
   "metadata": {},
   "outputs": [
    {
     "data": {
      "text/plain": [
       "0.36363636363636365"
      ]
     },
     "execution_count": 179,
     "metadata": {},
     "output_type": "execute_result"
    }
   ],
   "source": [
    "rdkit.DataStructs.DiceSimilarity(fp_aspirin, fp_paracetamol)"
   ]
  },
  {
   "cell_type": "code",
   "execution_count": 176,
   "metadata": {},
   "outputs": [
    {
     "data": {
      "image/png": "[encoded data removed]",
      "text/plain": [
       "<rdkit.Chem.rdchem.Mol at 0x7f0ed5f9a3a0>"
      ]
     },
     "execution_count": 176,
     "metadata": {},
     "output_type": "execute_result"
    }
   ],
   "source": [
    "aspirin"
   ]
  },
  {
   "cell_type": "code",
   "execution_count": 178,
   "metadata": {},
   "outputs": [
    {
     "data": {
      "image/png": "[encoded data removed]",
      "text/plain": [
       "<rdkit.Chem.rdchem.Mol at 0x7f0ed65726a0>"
      ]
     },
     "execution_count": 178,
     "metadata": {},
     "output_type": "execute_result"
    }
   ],
   "source": [
    "Chem.MolFromSmiles(paracetamol_str)"
   ]
  },
  {
   "cell_type": "markdown",
   "metadata": {
    "id": "SvHtYagP31vo"
   },
   "source": [
    "### SMART\n",
    "\n",
    "In many commonly used applications, we need to determine whether atoms in a molecule match a particular pattern. It can be used for filtering structures or identifying substructures that are associated with toxicological problem.\n",
    "\n",
    "SMART us an extension of the SMILES language that can be used to create queries.\n"
   ]
  },
  {
   "cell_type": "markdown",
   "metadata": {},
   "source": [
    "\n",
    "Find molecules in the following list named \"smiles_list\" that contain the \"CCC\" pattern (you can use the GetSubstructMatch class).\n"
   ]
  },
  {
   "cell_type": "code",
   "execution_count": null,
   "metadata": {},
   "outputs": [],
   "source": []
  },
  {
   "cell_type": "markdown",
   "metadata": {},
   "source": [
    "\n",
    "\n",
    "Highlight the pattern \"CCC\" in these molecules.\n",
    "\n"
   ]
  },
  {
   "cell_type": "code",
   "execution_count": null,
   "metadata": {},
   "outputs": [],
   "source": []
  },
  {
   "cell_type": "markdown",
   "metadata": {},
   "source": [
    "\n",
    "Do the same thing ex 1 but for the pattern \"C(=O)N\"."
   ]
  },
  {
   "cell_type": "code",
   "execution_count": null,
   "metadata": {
    "colab": {
     "base_uri": "https://localhost:8080/",
     "height": 187
    },
    "executionInfo": {
     "elapsed": 245,
     "status": "ok",
     "timestamp": 1629703088061,
     "user": {
      "displayName": "ngoc mac",
      "photoUrl": "",
      "userId": "17981024361133171440"
     },
     "user_tz": -120
    },
    "id": "mXqKwAO03xQi",
    "outputId": "df36267e-2f50-43f4-bd32-f66e9c67a79d"
   },
   "outputs": [],
   "source": []
  }
 ],
 "metadata": {
  "colab": {
   "authorship_tag": "ABX9TyNoKXr8DpL6SE63xUQunF4I",
   "collapsed_sections": [],
   "name": "Rdkit_exercise.ipynb",
   "provenance": []
  },
  "kernelspec": {
   "display_name": "Python 3 (ipykernel)",
   "language": "python",
   "name": "python3"
  },
  "language_info": {
   "codemirror_mode": {
    "name": "ipython",
    "version": 3
   },
   "file_extension": ".py",
   "mimetype": "text/x-python",
   "name": "python",
   "nbconvert_exporter": "python",
   "pygments_lexer": "ipython3",
   "version": "3.9.7"
  }
 },
 "nbformat": 4,
 "nbformat_minor": 4
}
