{
  "nbformat": 4,
  "nbformat_minor": 0,
  "metadata": {
    "kernelspec": {
      "display_name": "Python 3",
      "language": "python",
      "name": "python3"
    },
    "language_info": {
      "codemirror_mode": {
        "name": "ipython",
        "version": 3
      },
      "file_extension": ".py",
      "mimetype": "text/x-python",
      "name": "python",
      "nbconvert_exporter": "python",
      "pygments_lexer": "ipython3",
      "version": "3.7.8"
    },
    "colab": {
      "name": "Generating molecules for drug discovery (kind of).ipynb",
      "provenance": [],
      "collapsed_sections": []
    }
  },
  "cells": [
    {
      "cell_type": "markdown",
      "metadata": {
        "id": "qXvF0-OSJKys"
      },
      "source": [
        "# RNN Based molucule generation \n",
        "\n",
        "Laurent Cetinsoy\n",
        "\n",
        "In the hands-on we will train a character based RNN to generate smile molecules\n",
        "\n",
        "We want to feed smile representations of molecules to an RNN.\n",
        "The basic idea is we will train it to predict the next smile token of a molecule given the previous one. \n",
        "\n",
        "For instance for the following molecule \"CC(=O)NC1=CC=C(O)C=C1\" will may give to the model\n",
        "\n",
        "X = \"CC(=O)N\" \n",
        "y = C\n",
        "\n",
        "and ask the RNN to learn to predict y given X\n",
        "\n",
        "Like a standard language model ! "
      ]
    },
    {
      "cell_type": "markdown",
      "metadata": {
        "id": "My0-CNZvJKy8"
      },
      "source": [
        "Dowload the following dataset : https://github.com/joeymach/Leveraging-VAE-to-generate-molecules"
      ]
    },
    {
      "cell_type": "code",
      "metadata": {
        "colab": {
          "base_uri": "https://localhost:8080/"
        },
        "id": "R2eSTzWjJKy-",
        "outputId": "6d31eb57-1a4f-4e30-a02a-4f17717f5b58"
      },
      "source": [
        "!curl https://raw.githubusercontent.com/joeymach/Leveraging-VAE-to-generate-molecules/master/250k_smiles.csv -o smiles.csv"
      ],
      "execution_count": null,
      "outputs": [
        {
          "output_type": "stream",
          "name": "stdout",
          "text": [
            "  % Total    % Received % Xferd  Average Speed   Time    Time     Time  Current\n",
            "                                 Dload  Upload   Total   Spent    Left  Speed\n",
            "100 21.5M  100 21.5M    0     0  46.7M      0 --:--:-- --:--:-- --:--:-- 46.7M\n"
          ]
        }
      ]
    },
    {
      "cell_type": "markdown",
      "metadata": {
        "id": "UktT45VVJKzA"
      },
      "source": [
        "Import pandas and load the first 1000 lines"
      ]
    },
    {
      "cell_type": "code",
      "metadata": {
        "colab": {
          "base_uri": "https://localhost:8080/"
        },
        "id": "XS8BpfkHJKzC",
        "outputId": "fefc72fc-3044-4304-f5a8-e971d8895a01"
      },
      "source": [
        "import pandas as pd\n",
        "\n",
        "df_smiles = pd.read_csv(\"smiles.csv\")\n",
        "df_smiles = df_smiles.head(1000)\n",
        "len(df_smiles)"
      ],
      "execution_count": null,
      "outputs": [
        {
          "output_type": "execute_result",
          "data": {
            "text/plain": [
              "1000"
            ]
          },
          "metadata": {},
          "execution_count": 2
        }
      ]
    },
    {
      "cell_type": "markdown",
      "metadata": {
        "id": "hVQF5TLKJKzD"
      },
      "source": [
        "Display the first rows of the dataframe"
      ]
    },
    {
      "cell_type": "code",
      "metadata": {
        "colab": {
          "base_uri": "https://localhost:8080/",
          "height": 204
        },
        "id": "vMMan0nCJKzE",
        "outputId": "51bb8fbe-b41b-49a8-86f0-c749123053e4"
      },
      "source": [
        "df_smiles.head()"
      ],
      "execution_count": null,
      "outputs": [
        {
          "output_type": "execute_result",
          "data": {
            "text/html": [
              "<div>\n",
              "<style scoped>\n",
              "    .dataframe tbody tr th:only-of-type {\n",
              "        vertical-align: middle;\n",
              "    }\n",
              "\n",
              "    .dataframe tbody tr th {\n",
              "        vertical-align: top;\n",
              "    }\n",
              "\n",
              "    .dataframe thead th {\n",
              "        text-align: right;\n",
              "    }\n",
              "</style>\n",
              "<table border=\"1\" class=\"dataframe\">\n",
              "  <thead>\n",
              "    <tr style=\"text-align: right;\">\n",
              "      <th></th>\n",
              "      <th>smiles</th>\n",
              "      <th>logP</th>\n",
              "      <th>qed</th>\n",
              "      <th>SAS</th>\n",
              "    </tr>\n",
              "  </thead>\n",
              "  <tbody>\n",
              "    <tr>\n",
              "      <th>0</th>\n",
              "      <td>CC(C)(C)c1ccc2occ(CC(=O)Nc3ccccc3F)c2c1\\n</td>\n",
              "      <td>5.05060</td>\n",
              "      <td>0.702012</td>\n",
              "      <td>2.084095</td>\n",
              "    </tr>\n",
              "    <tr>\n",
              "      <th>1</th>\n",
              "      <td>C[C@@H]1CC(Nc2cncc(-c3nncn3C)c2)C[C@@H](C)C1\\n</td>\n",
              "      <td>3.11370</td>\n",
              "      <td>0.928975</td>\n",
              "      <td>3.432004</td>\n",
              "    </tr>\n",
              "    <tr>\n",
              "      <th>2</th>\n",
              "      <td>N#Cc1ccc(-c2ccc(O[C@@H](C(=O)N3CCCC3)c3ccccc3)...</td>\n",
              "      <td>4.96778</td>\n",
              "      <td>0.599682</td>\n",
              "      <td>2.470633</td>\n",
              "    </tr>\n",
              "    <tr>\n",
              "      <th>3</th>\n",
              "      <td>CCOC(=O)[C@@H]1CCCN(C(=O)c2nc(-c3ccc(C)cc3)n3c...</td>\n",
              "      <td>4.00022</td>\n",
              "      <td>0.690944</td>\n",
              "      <td>2.822753</td>\n",
              "    </tr>\n",
              "    <tr>\n",
              "      <th>4</th>\n",
              "      <td>N#CC1=C(SCC(=O)Nc2cccc(Cl)c2)N=C([O-])[C@H](C#...</td>\n",
              "      <td>3.60956</td>\n",
              "      <td>0.789027</td>\n",
              "      <td>4.035182</td>\n",
              "    </tr>\n",
              "  </tbody>\n",
              "</table>\n",
              "</div>"
            ],
            "text/plain": [
              "                                              smiles  ...       SAS\n",
              "0          CC(C)(C)c1ccc2occ(CC(=O)Nc3ccccc3F)c2c1\\n  ...  2.084095\n",
              "1     C[C@@H]1CC(Nc2cncc(-c3nncn3C)c2)C[C@@H](C)C1\\n  ...  3.432004\n",
              "2  N#Cc1ccc(-c2ccc(O[C@@H](C(=O)N3CCCC3)c3ccccc3)...  ...  2.470633\n",
              "3  CCOC(=O)[C@@H]1CCCN(C(=O)c2nc(-c3ccc(C)cc3)n3c...  ...  2.822753\n",
              "4  N#CC1=C(SCC(=O)Nc2cccc(Cl)c2)N=C([O-])[C@H](C#...  ...  4.035182\n",
              "\n",
              "[5 rows x 4 columns]"
            ]
          },
          "metadata": {},
          "execution_count": 4
        }
      ]
    },
    {
      "cell_type": "markdown",
      "metadata": {
        "id": "isVMpoOzJKzG"
      },
      "source": [
        "## Processing the data\n",
        "\n",
        "We need to do the following things : \n",
        "\n",
        "- convert smile tokens to numbers\n",
        "- build  smile token sequences and corresponding labels pairs"
      ]
    },
    {
      "cell_type": "markdown",
      "metadata": {
        "id": "35mXTmwuJKzJ"
      },
      "source": [
        "Compute the biggest smile molecule size"
      ]
    },
    {
      "cell_type": "code",
      "metadata": {
        "colab": {
          "base_uri": "https://localhost:8080/"
        },
        "id": "aHtlfugDJKzL",
        "outputId": "0cb8c7f4-902c-4a02-f57f-c5f9e3157d92"
      },
      "source": [
        "max(df_smiles.smiles.str.len())"
      ],
      "execution_count": null,
      "outputs": [
        {
          "output_type": "execute_result",
          "data": {
            "text/plain": [
              "106"
            ]
          },
          "metadata": {},
          "execution_count": 5
        }
      ]
    },
    {
      "cell_type": "markdown",
      "metadata": {
        "id": "8Ie7hB2UJKzM"
      },
      "source": [
        "\n",
        "Code a function **unic_characters(string)** which return the unic characters in a string\n"
      ]
    },
    {
      "cell_type": "code",
      "metadata": {
        "id": "UaVXwZmNJKzO"
      },
      "source": [
        "def unic_characters(s):\n",
        "  return set(s)\n"
      ],
      "execution_count": null,
      "outputs": []
    },
    {
      "cell_type": "markdown",
      "metadata": {
        "id": "PpccWBHJJKzO"
      },
      "source": [
        "Concatenate all smile string of the pandas dataframe and use **unic_characters** to get the unic_characters "
      ]
    },
    {
      "cell_type": "code",
      "metadata": {
        "colab": {
          "base_uri": "https://localhost:8080/"
        },
        "id": "sI7_xoknJKzP",
        "outputId": "c5c6038a-ce3e-4fd9-8bcb-3edeb43650f2"
      },
      "source": [
        "token = unic_characters(df_smiles.smiles.str.cat(sep=None))\n",
        "token"
      ],
      "execution_count": null,
      "outputs": [
        {
          "output_type": "execute_result",
          "data": {
            "text/plain": [
              "{'\\n',\n",
              " '#',\n",
              " '(',\n",
              " ')',\n",
              " '+',\n",
              " '-',\n",
              " '/',\n",
              " '1',\n",
              " '2',\n",
              " '3',\n",
              " '4',\n",
              " '5',\n",
              " '6',\n",
              " '7',\n",
              " '=',\n",
              " '@',\n",
              " 'B',\n",
              " 'C',\n",
              " 'F',\n",
              " 'H',\n",
              " 'I',\n",
              " 'N',\n",
              " 'O',\n",
              " 'S',\n",
              " '[',\n",
              " '\\\\',\n",
              " ']',\n",
              " 'c',\n",
              " 'l',\n",
              " 'n',\n",
              " 'o',\n",
              " 'r',\n",
              " 's'}"
            ]
          },
          "metadata": {},
          "execution_count": 7
        }
      ]
    },
    {
      "cell_type": "markdown",
      "metadata": {
        "id": "lEdEyLMyJKzQ"
      },
      "source": [
        "Code a function **map_char_to_int(unic_chars)** which returns a dictionnary where each char is assigned an int value. \n",
        "Add a character to specify the end of the molecule (like \"\\n\")\n"
      ]
    },
    {
      "cell_type": "code",
      "metadata": {
        "colab": {
          "base_uri": "https://localhost:8080/"
        },
        "id": "UhnQchd4JKzQ",
        "outputId": "f89956fe-ca5b-443f-c14c-c236cbebff49"
      },
      "source": [
        "def map_char_to_int(unic_chars):\n",
        "  mapping = {}\n",
        "  reverse_mapping = {}\n",
        "  for i, char in enumerate(unic_chars):\n",
        "    mapping[char] = i\n",
        "    reverse_mapping[i] = char\n",
        "  return mapping, reverse_mapping\n",
        "\n",
        "mapping, reverse_mapping = map_char_to_int(token)\n",
        "mapping"
      ],
      "execution_count": null,
      "outputs": [
        {
          "output_type": "execute_result",
          "data": {
            "text/plain": [
              "{'\\n': 5,\n",
              " '#': 22,\n",
              " '(': 25,\n",
              " ')': 20,\n",
              " '+': 11,\n",
              " '-': 24,\n",
              " '/': 15,\n",
              " '1': 4,\n",
              " '2': 1,\n",
              " '3': 2,\n",
              " '4': 23,\n",
              " '5': 14,\n",
              " '6': 16,\n",
              " '7': 12,\n",
              " '=': 9,\n",
              " '@': 21,\n",
              " 'B': 13,\n",
              " 'C': 19,\n",
              " 'F': 27,\n",
              " 'H': 30,\n",
              " 'I': 31,\n",
              " 'N': 8,\n",
              " 'O': 28,\n",
              " 'S': 10,\n",
              " '[': 29,\n",
              " '\\\\': 7,\n",
              " ']': 17,\n",
              " 'c': 0,\n",
              " 'l': 32,\n",
              " 'n': 3,\n",
              " 'o': 18,\n",
              " 'r': 6,\n",
              " 's': 26}"
            ]
          },
          "metadata": {},
          "execution_count": 18
        }
      ]
    },
    {
      "cell_type": "markdown",
      "metadata": {
        "id": "bBbD7i-LJKzQ"
      },
      "source": [
        "Code a function map_int_to_char(unic_chars) which returns the reverse mapping. \n",
        "\n",
        "If you want you can merge both functions in a class"
      ]
    },
    {
      "cell_type": "code",
      "metadata": {
        "id": "GfEUKsj8JKzR",
        "colab": {
          "base_uri": "https://localhost:8080/"
        },
        "outputId": "d1d7d770-0aa0-4424-8a12-961672a5bd5c"
      },
      "source": [
        "reverse_mapping"
      ],
      "execution_count": null,
      "outputs": [
        {
          "output_type": "execute_result",
          "data": {
            "text/plain": [
              "{0: 'c',\n",
              " 1: '2',\n",
              " 2: '3',\n",
              " 3: 'n',\n",
              " 4: '1',\n",
              " 5: '\\n',\n",
              " 6: 'r',\n",
              " 7: '\\\\',\n",
              " 8: 'N',\n",
              " 9: '=',\n",
              " 10: 'S',\n",
              " 11: '+',\n",
              " 12: '7',\n",
              " 13: 'B',\n",
              " 14: '5',\n",
              " 15: '/',\n",
              " 16: '6',\n",
              " 17: ']',\n",
              " 18: 'o',\n",
              " 19: 'C',\n",
              " 20: ')',\n",
              " 21: '@',\n",
              " 22: '#',\n",
              " 23: '4',\n",
              " 24: '-',\n",
              " 25: '(',\n",
              " 26: 's',\n",
              " 27: 'F',\n",
              " 28: 'O',\n",
              " 29: '[',\n",
              " 30: 'H',\n",
              " 31: 'I',\n",
              " 32: 'l'}"
            ]
          },
          "metadata": {},
          "execution_count": 9
        }
      ]
    },
    {
      "cell_type": "markdown",
      "metadata": {
        "id": "dTem7bBBJKzR"
      },
      "source": [
        "For each smile molecule add the ending token to it"
      ]
    },
    {
      "cell_type": "code",
      "metadata": {
        "id": "YxJCo4ZCJKzS"
      },
      "source": [
        ""
      ],
      "execution_count": null,
      "outputs": []
    },
    {
      "cell_type": "markdown",
      "metadata": {
        "id": "f_eHxqK9JKzS"
      },
      "source": [
        "## Building the dataset\n",
        "\n",
        "Now we will create the dataset so that it has the good share for our Keras LSTM model\n",
        "\n",
        "Remember Keras recurrent models expect a 3D array with shapes (n_examples, seq_len, n_features)\n",
        "\n"
      ]
    },
    {
      "cell_type": "markdown",
      "metadata": {
        "id": "98wBmNg8JKzT"
      },
      "source": [
        "What will be n_features in our case ? "
      ]
    },
    {
      "cell_type": "code",
      "metadata": {
        "id": "JRwlaI5kW09Z"
      },
      "source": [
        "smiles = \"CCc1NO(N(Cc2ccc(C)s2)C(=O)c2ccc(=O)n(C)n2)cc1\\n\"\n",
        "\n",
        "X = [\n",
        "     [\"CCc1\"],\n",
        "     [\"Cc1N\"],\n",
        "     [\"c1NO\"]\n",
        "]\n",
        "\n",
        "y = [\n",
        "     \"N\",\n",
        "     \"O\",\n",
        "     \"(\"\n",
        "]"
      ],
      "execution_count": null,
      "outputs": []
    },
    {
      "cell_type": "markdown",
      "metadata": {
        "id": "uJUEJudKJKzX"
      },
      "source": [
        "Code a function **build_X_and_y(string, i_char, seq_lenght)** which takes a string, a **seq_length** number and a position. \n",
        "\n",
        "\n",
        "It should create X by by getting all character between i and i + seq_length \n",
        "and create y by getting the character following the X sequence\n",
        "it returns X and y"
      ]
    },
    {
      "cell_type": "markdown",
      "metadata": {
        "id": "ZyX3WexeJKzZ"
      },
      "source": [
        "Test your function on the following string \"\" with seq_length = 4 and i = [1, 2, 3]"
      ]
    },
    {
      "cell_type": "code",
      "metadata": {
        "colab": {
          "base_uri": "https://localhost:8080/"
        },
        "id": "EPmcBjv8JKza",
        "outputId": "d46bd2ca-e525-4711-a34c-b8a3032209e8"
      },
      "source": [
        "def build_X_and_y(string, i_char, seq_length, mapping):\n",
        "\n",
        "  i_stop = i_char + seq_length\n",
        "  X = [mapping[char] for char in string[i_char: i_stop]]\n",
        "  y= [mapping[char] for char in string[i_stop]]\n",
        "\n",
        "  return X, y\n",
        "\n",
        "X1, y1 = build_X_and_y(smiles, 0, 4, mapping)\n",
        "print(X1, y1)"
      ],
      "execution_count": null,
      "outputs": [
        {
          "output_type": "stream",
          "name": "stdout",
          "text": [
            "[19, 19, 0, 4] [8]\n"
          ]
        }
      ]
    },
    {
      "cell_type": "code",
      "metadata": {
        "id": "BlN1LYvqJKzb",
        "colab": {
          "base_uri": "https://localhost:8080/"
        },
        "outputId": "6e82d75d-9e5e-4828-94bd-b19ada491a91"
      },
      "source": [
        "def build_all_sequences(string, seq_length, mapping):\n",
        "\n",
        "  X_data = []\n",
        "  y_data = []\n",
        "  i_max = len(string) - seq_length\n",
        "  for i in range(i_max):\n",
        "    X, y = build_X_and_y(string, i, seq_length, mapping)\n",
        "    X_data.append(X)\n",
        "    y_data.append(y)\n",
        "  return X_data, y_data\n",
        "\n",
        "X, y = build_all_sequences(smiles, 4, mapping)\n",
        "X,y    "
      ],
      "execution_count": null,
      "outputs": [
        {
          "output_type": "execute_result",
          "data": {
            "text/plain": [
              "([[19, 19, 0, 4],\n",
              "  [19, 0, 4, 8],\n",
              "  [0, 4, 8, 28],\n",
              "  [4, 8, 28, 25],\n",
              "  [8, 28, 25, 8],\n",
              "  [28, 25, 8, 25],\n",
              "  [25, 8, 25, 19],\n",
              "  [8, 25, 19, 0],\n",
              "  [25, 19, 0, 1],\n",
              "  [19, 0, 1, 0],\n",
              "  [0, 1, 0, 0],\n",
              "  [1, 0, 0, 0],\n",
              "  [0, 0, 0, 25],\n",
              "  [0, 0, 25, 19],\n",
              "  [0, 25, 19, 20],\n",
              "  [25, 19, 20, 26],\n",
              "  [19, 20, 26, 1],\n",
              "  [20, 26, 1, 20],\n",
              "  [26, 1, 20, 19],\n",
              "  [1, 20, 19, 25],\n",
              "  [20, 19, 25, 9],\n",
              "  [19, 25, 9, 28],\n",
              "  [25, 9, 28, 20],\n",
              "  [9, 28, 20, 0],\n",
              "  [28, 20, 0, 1],\n",
              "  [20, 0, 1, 0],\n",
              "  [0, 1, 0, 0],\n",
              "  [1, 0, 0, 0],\n",
              "  [0, 0, 0, 25],\n",
              "  [0, 0, 25, 9],\n",
              "  [0, 25, 9, 28],\n",
              "  [25, 9, 28, 20],\n",
              "  [9, 28, 20, 3],\n",
              "  [28, 20, 3, 25],\n",
              "  [20, 3, 25, 19],\n",
              "  [3, 25, 19, 20],\n",
              "  [25, 19, 20, 3],\n",
              "  [19, 20, 3, 1],\n",
              "  [20, 3, 1, 20],\n",
              "  [3, 1, 20, 0],\n",
              "  [1, 20, 0, 0],\n",
              "  [20, 0, 0, 4]],\n",
              " [[8],\n",
              "  [28],\n",
              "  [25],\n",
              "  [8],\n",
              "  [25],\n",
              "  [19],\n",
              "  [0],\n",
              "  [1],\n",
              "  [0],\n",
              "  [0],\n",
              "  [0],\n",
              "  [25],\n",
              "  [19],\n",
              "  [20],\n",
              "  [26],\n",
              "  [1],\n",
              "  [20],\n",
              "  [19],\n",
              "  [25],\n",
              "  [9],\n",
              "  [28],\n",
              "  [20],\n",
              "  [0],\n",
              "  [1],\n",
              "  [0],\n",
              "  [0],\n",
              "  [0],\n",
              "  [25],\n",
              "  [9],\n",
              "  [28],\n",
              "  [20],\n",
              "  [3],\n",
              "  [25],\n",
              "  [19],\n",
              "  [20],\n",
              "  [3],\n",
              "  [1],\n",
              "  [20],\n",
              "  [0],\n",
              "  [0],\n",
              "  [4],\n",
              "  [5]])"
            ]
          },
          "metadata": {},
          "execution_count": 32
        }
      ]
    },
    {
      "cell_type": "markdown",
      "metadata": {
        "id": "l9qtC-LaJKzb"
      },
      "source": [
        "By using build_X_and_y and map_char_to_int build a list nameed X_train and a list named y_train "
      ]
    },
    {
      "cell_type": "code",
      "metadata": {
        "colab": {
          "base_uri": "https://localhost:8080/"
        },
        "id": "2VUCzTvuaqY1",
        "outputId": "c0075b3a-c5b0-46af-8fec-edcbbf323520"
      },
      "source": [
        "X_train = []\n",
        "y_train = []\n",
        "seq_length = 5\n",
        "\n",
        "for molecule in df_smiles.smiles:\n",
        "  X, y = build_all_sequences(molecule, seq_length, mapping)\n",
        "  X_train = X_train + X\n",
        "  y_train = y_train + y\n",
        "\n",
        "X_train[:3], y_train[:3]"
      ],
      "execution_count": null,
      "outputs": [
        {
          "output_type": "execute_result",
          "data": {
            "text/plain": [
              "([[19, 19, 25, 19, 20], [19, 25, 19, 20, 25], [25, 19, 20, 25, 19]],\n",
              " [[25], [19], [20]])"
            ]
          },
          "metadata": {},
          "execution_count": 40
        }
      ]
    },
    {
      "cell_type": "markdown",
      "metadata": {
        "id": "vOFOoS-TJKzc"
      },
      "source": [
        "Create numpy arrays from the lists"
      ]
    },
    {
      "cell_type": "code",
      "metadata": {
        "id": "hcikIFsQJKzd",
        "colab": {
          "base_uri": "https://localhost:8080/"
        },
        "outputId": "ec21b02e-c072-483b-cbbb-77a508b96996"
      },
      "source": [
        "import numpy as np\n",
        "X_train = np.array(X_train)\n",
        "y_train = np.array(y_train)\n",
        "X_train[:3], y_train[:3]"
      ],
      "execution_count": null,
      "outputs": [
        {
          "output_type": "execute_result",
          "data": {
            "text/plain": [
              "(array([[19, 19, 25, 19, 20],\n",
              "        [19, 25, 19, 20, 25],\n",
              "        [25, 19, 20, 25, 19]]), array([[25],\n",
              "        [19],\n",
              "        [20]]))"
            ]
          },
          "metadata": {},
          "execution_count": 41
        }
      ]
    },
    {
      "cell_type": "markdown",
      "metadata": {
        "id": "1zmkI9zvJKzd"
      },
      "source": [
        "Reshape the X numpy array (n_examples, seq_lenght, 1)"
      ]
    },
    {
      "cell_type": "code",
      "metadata": {
        "id": "b2VTpScVJKze"
      },
      "source": [
        "X_train = X_train.reshape(-1, seq_length, 1)"
      ],
      "execution_count": null,
      "outputs": []
    },
    {
      "cell_type": "markdown",
      "metadata": {
        "id": "bUeAWyg1JKze"
      },
      "source": [
        "Normalize X by dividing each values by the total number of unic characters"
      ]
    },
    {
      "cell_type": "code",
      "metadata": {
        "id": "F6K0wVG-JKzf"
      },
      "source": [
        "X_train = X_train / len(token)"
      ],
      "execution_count": null,
      "outputs": []
    },
    {
      "cell_type": "code",
      "metadata": {
        "colab": {
          "base_uri": "https://localhost:8080/"
        },
        "id": "2xZz3q-4XvrX",
        "outputId": "8e666ac3-451a-4af5-ac3c-5ccd8644c0e2"
      },
      "source": [
        "X_train[:1], y_train[:1]"
      ],
      "execution_count": null,
      "outputs": [
        {
          "output_type": "execute_result",
          "data": {
            "text/plain": [
              "(array([[[0.57575758],\n",
              "         [0.57575758],\n",
              "         [0.75757576],\n",
              "         [0.57575758],\n",
              "         [0.60606061]]]), array([[25]]))"
            ]
          },
          "metadata": {},
          "execution_count": 45
        }
      ]
    },
    {
      "cell_type": "markdown",
      "metadata": {
        "id": "WxNH8ZZdJKzf"
      },
      "source": [
        "Import Keras and build (at least) a two layered LSTM network with 128 neurone in each.\n",
        "\n",
        "You can also add Dropoutlayers\n",
        "\n",
        "Do you think you should use the return_sequences = True ? If yes, when ? \n",
        "\n",
        "\n",
        "Add a Dense layer on top with with the appropriate activation function and number of neurones \n"
      ]
    },
    {
      "cell_type": "code",
      "metadata": {
        "id": "OUwCOwg6JKzh"
      },
      "source": [
        "import tensorflow as tf\n",
        "from tensorflow.keras import Sequential\n",
        "from tensorflow.keras.layers import Dense, Conv2D, LSTM, Flatten"
      ],
      "execution_count": null,
      "outputs": []
    },
    {
      "cell_type": "code",
      "metadata": {
        "id": "LXWzDV0icRCD"
      },
      "source": [
        "model = Sequential()\n",
        "model.add(LSTM(30, activation=\"tanh\", input_shape=(None, 1)))\n",
        "model.add(Flatten())\n",
        "model.add(Dense(800, activation=\"relu\"))\n",
        "model.add(Dense(len(token), activation=\"softmax\"))"
      ],
      "execution_count": null,
      "outputs": []
    },
    {
      "cell_type": "markdown",
      "metadata": {
        "id": "F3f4C-rOJKzi"
      },
      "source": [
        "Compile the model with the appropriate loss function and the adam optimizer"
      ]
    },
    {
      "cell_type": "code",
      "metadata": {
        "id": "JUEnFMahJKzj"
      },
      "source": [
        "model.compile(loss=\"sparse_categorical_crossentropy\", optimizer=\"adam\")"
      ],
      "execution_count": null,
      "outputs": []
    },
    {
      "cell_type": "code",
      "metadata": {
        "id": "uad_wCPVc3t3",
        "colab": {
          "base_uri": "https://localhost:8080/"
        },
        "outputId": "d33148f5-3c2c-424a-8262-2131f34ecfa9"
      },
      "source": [
        "model.summary()"
      ],
      "execution_count": null,
      "outputs": [
        {
          "output_type": "stream",
          "name": "stdout",
          "text": [
            "Model: \"sequential\"\n",
            "_________________________________________________________________\n",
            "Layer (type)                 Output Shape              Param #   \n",
            "=================================================================\n",
            "lstm (LSTM)                  (None, 30)                3840      \n",
            "_________________________________________________________________\n",
            "flatten (Flatten)            (None, 30)                0         \n",
            "_________________________________________________________________\n",
            "dense (Dense)                (None, 800)               24800     \n",
            "_________________________________________________________________\n",
            "dense_1 (Dense)              (None, 33)                26433     \n",
            "=================================================================\n",
            "Total params: 55,073\n",
            "Trainable params: 55,073\n",
            "Non-trainable params: 0\n",
            "_________________________________________________________________\n"
          ]
        }
      ]
    },
    {
      "cell_type": "markdown",
      "metadata": {
        "id": "D8ZpheY1JKzj"
      },
      "source": [
        "Train the model on 20 epochs and 10 examples (yeah you read correctly) and check that the model overfits ! "
      ]
    },
    {
      "cell_type": "code",
      "metadata": {
        "id": "CAutfTdfJKzk",
        "colab": {
          "base_uri": "https://localhost:8080/"
        },
        "outputId": "0599bdea-98d7-44d5-c7d2-5846fb074cca"
      },
      "source": [
        "model.fit(X_train[:10], y_train[:10], epochs = 500)"
      ],
      "execution_count": null,
      "outputs": [
        {
          "output_type": "stream",
          "name": "stdout",
          "text": [
            "Epoch 1/500\n",
            "1/1 [==============================] - 0s 8ms/step - loss: 2.6623\n",
            "Epoch 2/500\n",
            "1/1 [==============================] - 0s 10ms/step - loss: 2.5801\n",
            "Epoch 3/500\n",
            "1/1 [==============================] - 0s 9ms/step - loss: 2.4957\n",
            "Epoch 4/500\n",
            "1/1 [==============================] - 0s 11ms/step - loss: 2.4107\n",
            "Epoch 5/500\n",
            "1/1 [==============================] - 0s 10ms/step - loss: 2.3267\n",
            "Epoch 6/500\n",
            "1/1 [==============================] - 0s 9ms/step - loss: 2.2456\n",
            "Epoch 7/500\n",
            "1/1 [==============================] - 0s 8ms/step - loss: 2.1690\n",
            "Epoch 8/500\n",
            "1/1 [==============================] - 0s 8ms/step - loss: 2.0986\n",
            "Epoch 9/500\n",
            "1/1 [==============================] - 0s 7ms/step - loss: 2.0357\n",
            "Epoch 10/500\n",
            "1/1 [==============================] - 0s 12ms/step - loss: 1.9808\n",
            "Epoch 11/500\n",
            "1/1 [==============================] - 0s 10ms/step - loss: 1.9343\n",
            "Epoch 12/500\n",
            "1/1 [==============================] - 0s 11ms/step - loss: 1.8961\n",
            "Epoch 13/500\n",
            "1/1 [==============================] - 0s 11ms/step - loss: 1.8654\n",
            "Epoch 14/500\n",
            "1/1 [==============================] - 0s 11ms/step - loss: 1.8413\n",
            "Epoch 15/500\n",
            "1/1 [==============================] - 0s 10ms/step - loss: 1.8224\n",
            "Epoch 16/500\n",
            "1/1 [==============================] - 0s 12ms/step - loss: 1.8070\n",
            "Epoch 17/500\n",
            "1/1 [==============================] - 0s 12ms/step - loss: 1.7932\n",
            "Epoch 18/500\n",
            "1/1 [==============================] - 0s 15ms/step - loss: 1.7801\n",
            "Epoch 19/500\n",
            "1/1 [==============================] - 0s 14ms/step - loss: 1.7670\n",
            "Epoch 20/500\n",
            "1/1 [==============================] - 0s 7ms/step - loss: 1.7543\n",
            "Epoch 21/500\n",
            "1/1 [==============================] - 0s 10ms/step - loss: 1.7427\n",
            "Epoch 22/500\n",
            "1/1 [==============================] - 0s 11ms/step - loss: 1.7325\n",
            "Epoch 23/500\n",
            "1/1 [==============================] - 0s 16ms/step - loss: 1.7237\n",
            "Epoch 24/500\n",
            "1/1 [==============================] - 0s 12ms/step - loss: 1.7156\n",
            "Epoch 25/500\n",
            "1/1 [==============================] - 0s 17ms/step - loss: 1.7074\n",
            "Epoch 26/500\n",
            "1/1 [==============================] - 0s 11ms/step - loss: 1.6986\n",
            "Epoch 27/500\n",
            "1/1 [==============================] - 0s 10ms/step - loss: 1.6897\n",
            "Epoch 28/500\n",
            "1/1 [==============================] - 0s 9ms/step - loss: 1.6815\n",
            "Epoch 29/500\n",
            "1/1 [==============================] - 0s 9ms/step - loss: 1.6752\n",
            "Epoch 30/500\n",
            "1/1 [==============================] - 0s 9ms/step - loss: 1.6711\n",
            "Epoch 31/500\n",
            "1/1 [==============================] - 0s 9ms/step - loss: 1.6684\n",
            "Epoch 32/500\n",
            "1/1 [==============================] - 0s 15ms/step - loss: 1.6655\n",
            "Epoch 33/500\n",
            "1/1 [==============================] - 0s 13ms/step - loss: 1.6613\n",
            "Epoch 34/500\n",
            "1/1 [==============================] - 0s 24ms/step - loss: 1.6553\n",
            "Epoch 35/500\n",
            "1/1 [==============================] - 0s 18ms/step - loss: 1.6482\n",
            "Epoch 36/500\n",
            "1/1 [==============================] - 0s 15ms/step - loss: 1.6411\n",
            "Epoch 37/500\n",
            "1/1 [==============================] - 0s 12ms/step - loss: 1.6346\n",
            "Epoch 38/500\n",
            "1/1 [==============================] - 0s 11ms/step - loss: 1.6284\n",
            "Epoch 39/500\n",
            "1/1 [==============================] - 0s 17ms/step - loss: 1.6223\n",
            "Epoch 40/500\n",
            "1/1 [==============================] - 0s 12ms/step - loss: 1.6160\n",
            "Epoch 41/500\n",
            "1/1 [==============================] - 0s 14ms/step - loss: 1.6098\n",
            "Epoch 42/500\n",
            "1/1 [==============================] - 0s 6ms/step - loss: 1.6038\n",
            "Epoch 43/500\n",
            "1/1 [==============================] - 0s 11ms/step - loss: 1.5978\n",
            "Epoch 44/500\n",
            "1/1 [==============================] - 0s 13ms/step - loss: 1.5912\n",
            "Epoch 45/500\n",
            "1/1 [==============================] - 0s 14ms/step - loss: 1.5838\n",
            "Epoch 46/500\n",
            "1/1 [==============================] - 0s 12ms/step - loss: 1.5757\n",
            "Epoch 47/500\n",
            "1/1 [==============================] - 0s 8ms/step - loss: 1.5675\n",
            "Epoch 48/500\n",
            "1/1 [==============================] - 0s 8ms/step - loss: 1.5595\n",
            "Epoch 49/500\n",
            "1/1 [==============================] - 0s 9ms/step - loss: 1.5510\n",
            "Epoch 50/500\n",
            "1/1 [==============================] - 0s 7ms/step - loss: 1.5422\n",
            "Epoch 51/500\n",
            "1/1 [==============================] - 0s 8ms/step - loss: 1.5332\n",
            "Epoch 52/500\n",
            "1/1 [==============================] - 0s 8ms/step - loss: 1.5243\n",
            "Epoch 53/500\n",
            "1/1 [==============================] - 0s 7ms/step - loss: 1.5152\n",
            "Epoch 54/500\n",
            "1/1 [==============================] - 0s 7ms/step - loss: 1.5055\n",
            "Epoch 55/500\n",
            "1/1 [==============================] - 0s 9ms/step - loss: 1.4952\n",
            "Epoch 56/500\n",
            "1/1 [==============================] - 0s 7ms/step - loss: 1.4846\n",
            "Epoch 57/500\n",
            "1/1 [==============================] - 0s 8ms/step - loss: 1.4738\n",
            "Epoch 58/500\n",
            "1/1 [==============================] - 0s 6ms/step - loss: 1.4627\n",
            "Epoch 59/500\n",
            "1/1 [==============================] - 0s 8ms/step - loss: 1.4512\n",
            "Epoch 60/500\n",
            "1/1 [==============================] - 0s 9ms/step - loss: 1.4395\n",
            "Epoch 61/500\n",
            "1/1 [==============================] - 0s 9ms/step - loss: 1.4277\n",
            "Epoch 62/500\n",
            "1/1 [==============================] - 0s 12ms/step - loss: 1.4156\n",
            "Epoch 63/500\n",
            "1/1 [==============================] - 0s 8ms/step - loss: 1.4033\n",
            "Epoch 64/500\n",
            "1/1 [==============================] - 0s 21ms/step - loss: 1.3907\n",
            "Epoch 65/500\n",
            "1/1 [==============================] - 0s 11ms/step - loss: 1.3780\n",
            "Epoch 66/500\n",
            "1/1 [==============================] - 0s 14ms/step - loss: 1.3653\n",
            "Epoch 67/500\n",
            "1/1 [==============================] - 0s 15ms/step - loss: 1.3522\n",
            "Epoch 68/500\n",
            "1/1 [==============================] - 0s 14ms/step - loss: 1.3393\n",
            "Epoch 69/500\n",
            "1/1 [==============================] - 0s 12ms/step - loss: 1.3266\n",
            "Epoch 70/500\n",
            "1/1 [==============================] - 0s 13ms/step - loss: 1.3138\n",
            "Epoch 71/500\n",
            "1/1 [==============================] - 0s 18ms/step - loss: 1.3012\n",
            "Epoch 72/500\n",
            "1/1 [==============================] - 0s 17ms/step - loss: 1.2888\n",
            "Epoch 73/500\n",
            "1/1 [==============================] - 0s 13ms/step - loss: 1.2764\n",
            "Epoch 74/500\n",
            "1/1 [==============================] - 0s 11ms/step - loss: 1.2641\n",
            "Epoch 75/500\n",
            "1/1 [==============================] - 0s 18ms/step - loss: 1.2522\n",
            "Epoch 76/500\n",
            "1/1 [==============================] - 0s 13ms/step - loss: 1.2404\n",
            "Epoch 77/500\n",
            "1/1 [==============================] - 0s 16ms/step - loss: 1.2290\n",
            "Epoch 78/500\n",
            "1/1 [==============================] - 0s 9ms/step - loss: 1.2179\n",
            "Epoch 79/500\n",
            "1/1 [==============================] - 0s 8ms/step - loss: 1.2071\n",
            "Epoch 80/500\n",
            "1/1 [==============================] - 0s 11ms/step - loss: 1.1967\n",
            "Epoch 81/500\n",
            "1/1 [==============================] - 0s 9ms/step - loss: 1.1867\n",
            "Epoch 82/500\n",
            "1/1 [==============================] - 0s 9ms/step - loss: 1.1769\n",
            "Epoch 83/500\n",
            "1/1 [==============================] - 0s 12ms/step - loss: 1.1674\n",
            "Epoch 84/500\n",
            "1/1 [==============================] - 0s 15ms/step - loss: 1.1582\n",
            "Epoch 85/500\n",
            "1/1 [==============================] - 0s 10ms/step - loss: 1.1492\n",
            "Epoch 86/500\n",
            "1/1 [==============================] - 0s 9ms/step - loss: 1.1406\n",
            "Epoch 87/500\n",
            "1/1 [==============================] - 0s 25ms/step - loss: 1.1322\n",
            "Epoch 88/500\n",
            "1/1 [==============================] - 0s 12ms/step - loss: 1.1240\n",
            "Epoch 89/500\n",
            "1/1 [==============================] - 0s 18ms/step - loss: 1.1160\n",
            "Epoch 90/500\n",
            "1/1 [==============================] - 0s 13ms/step - loss: 1.1083\n",
            "Epoch 91/500\n",
            "1/1 [==============================] - 0s 13ms/step - loss: 1.1008\n",
            "Epoch 92/500\n",
            "1/1 [==============================] - 0s 15ms/step - loss: 1.0934\n",
            "Epoch 93/500\n",
            "1/1 [==============================] - 0s 20ms/step - loss: 1.0862\n",
            "Epoch 94/500\n",
            "1/1 [==============================] - 0s 18ms/step - loss: 1.0791\n",
            "Epoch 95/500\n",
            "1/1 [==============================] - 0s 10ms/step - loss: 1.0722\n",
            "Epoch 96/500\n",
            "1/1 [==============================] - 0s 10ms/step - loss: 1.0653\n",
            "Epoch 97/500\n",
            "1/1 [==============================] - 0s 9ms/step - loss: 1.0586\n",
            "Epoch 98/500\n",
            "1/1 [==============================] - 0s 10ms/step - loss: 1.0520\n",
            "Epoch 99/500\n",
            "1/1 [==============================] - 0s 9ms/step - loss: 1.0455\n",
            "Epoch 100/500\n",
            "1/1 [==============================] - 0s 32ms/step - loss: 1.0391\n",
            "Epoch 101/500\n",
            "1/1 [==============================] - 0s 12ms/step - loss: 1.0329\n",
            "Epoch 102/500\n",
            "1/1 [==============================] - 0s 18ms/step - loss: 1.0268\n",
            "Epoch 103/500\n",
            "1/1 [==============================] - 0s 18ms/step - loss: 1.0208\n",
            "Epoch 104/500\n",
            "1/1 [==============================] - 0s 13ms/step - loss: 1.0149\n",
            "Epoch 105/500\n",
            "1/1 [==============================] - 0s 13ms/step - loss: 1.0092\n",
            "Epoch 106/500\n",
            "1/1 [==============================] - 0s 14ms/step - loss: 1.0036\n",
            "Epoch 107/500\n",
            "1/1 [==============================] - 0s 12ms/step - loss: 0.9980\n",
            "Epoch 108/500\n",
            "1/1 [==============================] - 0s 15ms/step - loss: 0.9926\n",
            "Epoch 109/500\n",
            "1/1 [==============================] - 0s 16ms/step - loss: 0.9873\n",
            "Epoch 110/500\n",
            "1/1 [==============================] - 0s 12ms/step - loss: 0.9821\n",
            "Epoch 111/500\n",
            "1/1 [==============================] - 0s 14ms/step - loss: 0.9769\n",
            "Epoch 112/500\n",
            "1/1 [==============================] - 0s 17ms/step - loss: 0.9719\n",
            "Epoch 113/500\n",
            "1/1 [==============================] - 0s 16ms/step - loss: 0.9670\n",
            "Epoch 114/500\n",
            "1/1 [==============================] - 0s 17ms/step - loss: 0.9621\n",
            "Epoch 115/500\n",
            "1/1 [==============================] - 0s 12ms/step - loss: 0.9575\n",
            "Epoch 116/500\n",
            "1/1 [==============================] - 0s 12ms/step - loss: 0.9528\n",
            "Epoch 117/500\n",
            "1/1 [==============================] - 0s 16ms/step - loss: 0.9481\n",
            "Epoch 118/500\n",
            "1/1 [==============================] - 0s 14ms/step - loss: 0.9435\n",
            "Epoch 119/500\n",
            "1/1 [==============================] - 0s 14ms/step - loss: 0.9391\n",
            "Epoch 120/500\n",
            "1/1 [==============================] - 0s 15ms/step - loss: 0.9348\n",
            "Epoch 121/500\n",
            "1/1 [==============================] - 0s 13ms/step - loss: 0.9306\n",
            "Epoch 122/500\n",
            "1/1 [==============================] - 0s 13ms/step - loss: 0.9264\n",
            "Epoch 123/500\n",
            "1/1 [==============================] - 0s 13ms/step - loss: 0.9223\n",
            "Epoch 124/500\n",
            "1/1 [==============================] - 0s 13ms/step - loss: 0.9183\n",
            "Epoch 125/500\n",
            "1/1 [==============================] - 0s 10ms/step - loss: 0.9143\n",
            "Epoch 126/500\n",
            "1/1 [==============================] - 0s 11ms/step - loss: 0.9104\n",
            "Epoch 127/500\n",
            "1/1 [==============================] - 0s 10ms/step - loss: 0.9067\n",
            "Epoch 128/500\n",
            "1/1 [==============================] - 0s 14ms/step - loss: 0.9030\n",
            "Epoch 129/500\n",
            "1/1 [==============================] - 0s 16ms/step - loss: 0.8995\n",
            "Epoch 130/500\n",
            "1/1 [==============================] - 0s 9ms/step - loss: 0.8967\n",
            "Epoch 131/500\n",
            "1/1 [==============================] - 0s 13ms/step - loss: 0.8958\n",
            "Epoch 132/500\n",
            "1/1 [==============================] - 0s 19ms/step - loss: 0.8959\n",
            "Epoch 133/500\n",
            "1/1 [==============================] - 0s 12ms/step - loss: 0.8888\n",
            "Epoch 134/500\n",
            "1/1 [==============================] - 0s 12ms/step - loss: 0.8836\n",
            "Epoch 135/500\n",
            "1/1 [==============================] - 0s 13ms/step - loss: 0.8847\n",
            "Epoch 136/500\n",
            "1/1 [==============================] - 0s 16ms/step - loss: 0.8798\n",
            "Epoch 137/500\n",
            "1/1 [==============================] - 0s 17ms/step - loss: 0.8755\n",
            "Epoch 138/500\n",
            "1/1 [==============================] - 0s 15ms/step - loss: 0.8757\n",
            "Epoch 139/500\n",
            "1/1 [==============================] - 0s 14ms/step - loss: 0.8710\n",
            "Epoch 140/500\n",
            "1/1 [==============================] - 0s 8ms/step - loss: 0.8682\n",
            "Epoch 141/500\n",
            "1/1 [==============================] - 0s 10ms/step - loss: 0.8674\n",
            "Epoch 142/500\n",
            "1/1 [==============================] - 0s 10ms/step - loss: 0.8629\n",
            "Epoch 143/500\n",
            "1/1 [==============================] - 0s 13ms/step - loss: 0.8612\n",
            "Epoch 144/500\n",
            "1/1 [==============================] - 0s 12ms/step - loss: 0.8597\n",
            "Epoch 145/500\n",
            "1/1 [==============================] - 0s 12ms/step - loss: 0.8556\n",
            "Epoch 146/500\n",
            "1/1 [==============================] - 0s 15ms/step - loss: 0.8543\n",
            "Epoch 147/500\n",
            "1/1 [==============================] - 0s 16ms/step - loss: 0.8522\n",
            "Epoch 148/500\n",
            "1/1 [==============================] - 0s 16ms/step - loss: 0.8487\n",
            "Epoch 149/500\n",
            "1/1 [==============================] - 0s 13ms/step - loss: 0.8474\n",
            "Epoch 150/500\n",
            "1/1 [==============================] - 0s 34ms/step - loss: 0.8452\n",
            "Epoch 151/500\n",
            "1/1 [==============================] - 0s 12ms/step - loss: 0.8420\n",
            "Epoch 152/500\n",
            "1/1 [==============================] - 0s 18ms/step - loss: 0.8402\n",
            "Epoch 153/500\n",
            "1/1 [==============================] - 0s 11ms/step - loss: 0.8382\n",
            "Epoch 154/500\n",
            "1/1 [==============================] - 0s 10ms/step - loss: 0.8353\n",
            "Epoch 155/500\n",
            "1/1 [==============================] - 0s 9ms/step - loss: 0.8331\n",
            "Epoch 156/500\n",
            "1/1 [==============================] - 0s 13ms/step - loss: 0.8314\n",
            "Epoch 157/500\n",
            "1/1 [==============================] - 0s 11ms/step - loss: 0.8287\n",
            "Epoch 158/500\n",
            "1/1 [==============================] - 0s 9ms/step - loss: 0.8260\n",
            "Epoch 159/500\n",
            "1/1 [==============================] - 0s 11ms/step - loss: 0.8242\n",
            "Epoch 160/500\n",
            "1/1 [==============================] - 0s 8ms/step - loss: 0.8219\n",
            "Epoch 161/500\n",
            "1/1 [==============================] - 0s 17ms/step - loss: 0.8193\n",
            "Epoch 162/500\n",
            "1/1 [==============================] - 0s 9ms/step - loss: 0.8168\n",
            "Epoch 163/500\n",
            "1/1 [==============================] - 0s 9ms/step - loss: 0.8148\n",
            "Epoch 164/500\n",
            "1/1 [==============================] - 0s 8ms/step - loss: 0.8126\n",
            "Epoch 165/500\n",
            "1/1 [==============================] - 0s 10ms/step - loss: 0.8100\n",
            "Epoch 166/500\n",
            "1/1 [==============================] - 0s 11ms/step - loss: 0.8074\n",
            "Epoch 167/500\n",
            "1/1 [==============================] - 0s 11ms/step - loss: 0.8050\n",
            "Epoch 168/500\n",
            "1/1 [==============================] - 0s 10ms/step - loss: 0.8028\n",
            "Epoch 169/500\n",
            "1/1 [==============================] - 0s 9ms/step - loss: 0.8006\n",
            "Epoch 170/500\n",
            "1/1 [==============================] - 0s 10ms/step - loss: 0.7983\n",
            "Epoch 171/500\n",
            "1/1 [==============================] - 0s 8ms/step - loss: 0.7959\n",
            "Epoch 172/500\n",
            "1/1 [==============================] - 0s 13ms/step - loss: 0.7936\n",
            "Epoch 173/500\n",
            "1/1 [==============================] - 0s 12ms/step - loss: 0.7910\n",
            "Epoch 174/500\n",
            "1/1 [==============================] - 0s 9ms/step - loss: 0.7882\n",
            "Epoch 175/500\n",
            "1/1 [==============================] - 0s 9ms/step - loss: 0.7856\n",
            "Epoch 176/500\n",
            "1/1 [==============================] - 0s 14ms/step - loss: 0.7830\n",
            "Epoch 177/500\n",
            "1/1 [==============================] - 0s 11ms/step - loss: 0.7805\n",
            "Epoch 178/500\n",
            "1/1 [==============================] - 0s 9ms/step - loss: 0.7780\n",
            "Epoch 179/500\n",
            "1/1 [==============================] - 0s 20ms/step - loss: 0.7756\n",
            "Epoch 180/500\n",
            "1/1 [==============================] - 0s 9ms/step - loss: 0.7739\n",
            "Epoch 181/500\n",
            "1/1 [==============================] - 0s 11ms/step - loss: 0.7725\n",
            "Epoch 182/500\n",
            "1/1 [==============================] - 0s 10ms/step - loss: 0.7720\n",
            "Epoch 183/500\n",
            "1/1 [==============================] - 0s 9ms/step - loss: 0.7699\n",
            "Epoch 184/500\n",
            "1/1 [==============================] - 0s 13ms/step - loss: 0.7650\n",
            "Epoch 185/500\n",
            "1/1 [==============================] - 0s 13ms/step - loss: 0.7595\n",
            "Epoch 186/500\n",
            "1/1 [==============================] - 0s 19ms/step - loss: 0.7569\n",
            "Epoch 187/500\n",
            "1/1 [==============================] - 0s 11ms/step - loss: 0.7566\n",
            "Epoch 188/500\n",
            "1/1 [==============================] - 0s 11ms/step - loss: 0.7549\n",
            "Epoch 189/500\n",
            "1/1 [==============================] - 0s 12ms/step - loss: 0.7508\n",
            "Epoch 190/500\n",
            "1/1 [==============================] - 0s 11ms/step - loss: 0.7464\n",
            "Epoch 191/500\n",
            "1/1 [==============================] - 0s 9ms/step - loss: 0.7439\n",
            "Epoch 192/500\n",
            "1/1 [==============================] - 0s 12ms/step - loss: 0.7431\n",
            "Epoch 193/500\n",
            "1/1 [==============================] - 0s 15ms/step - loss: 0.7410\n",
            "Epoch 194/500\n",
            "1/1 [==============================] - 0s 12ms/step - loss: 0.7369\n",
            "Epoch 195/500\n",
            "1/1 [==============================] - 0s 9ms/step - loss: 0.7328\n",
            "Epoch 196/500\n",
            "1/1 [==============================] - 0s 9ms/step - loss: 0.7302\n",
            "Epoch 197/500\n",
            "1/1 [==============================] - 0s 10ms/step - loss: 0.7289\n",
            "Epoch 198/500\n",
            "1/1 [==============================] - 0s 9ms/step - loss: 0.7268\n",
            "Epoch 199/500\n",
            "1/1 [==============================] - 0s 12ms/step - loss: 0.7235\n",
            "Epoch 200/500\n",
            "1/1 [==============================] - 0s 8ms/step - loss: 0.7196\n",
            "Epoch 201/500\n",
            "1/1 [==============================] - 0s 9ms/step - loss: 0.7162\n",
            "Epoch 202/500\n",
            "1/1 [==============================] - 0s 8ms/step - loss: 0.7136\n",
            "Epoch 203/500\n",
            "1/1 [==============================] - 0s 10ms/step - loss: 0.7115\n",
            "Epoch 204/500\n",
            "1/1 [==============================] - 0s 9ms/step - loss: 0.7095\n",
            "Epoch 205/500\n",
            "1/1 [==============================] - 0s 10ms/step - loss: 0.7066\n",
            "Epoch 206/500\n",
            "1/1 [==============================] - 0s 10ms/step - loss: 0.7031\n",
            "Epoch 207/500\n",
            "1/1 [==============================] - 0s 9ms/step - loss: 0.6988\n",
            "Epoch 208/500\n",
            "1/1 [==============================] - 0s 15ms/step - loss: 0.6953\n",
            "Epoch 209/500\n",
            "1/1 [==============================] - 0s 15ms/step - loss: 0.6925\n",
            "Epoch 210/500\n",
            "1/1 [==============================] - 0s 11ms/step - loss: 0.6900\n",
            "Epoch 211/500\n",
            "1/1 [==============================] - 0s 7ms/step - loss: 0.6878\n",
            "Epoch 212/500\n",
            "1/1 [==============================] - 0s 16ms/step - loss: 0.6855\n",
            "Epoch 213/500\n",
            "1/1 [==============================] - 0s 9ms/step - loss: 0.6830\n",
            "Epoch 214/500\n",
            "1/1 [==============================] - 0s 10ms/step - loss: 0.6796\n",
            "Epoch 215/500\n",
            "1/1 [==============================] - 0s 12ms/step - loss: 0.6757\n",
            "Epoch 216/500\n",
            "1/1 [==============================] - 0s 12ms/step - loss: 0.6714\n",
            "Epoch 217/500\n",
            "1/1 [==============================] - 0s 18ms/step - loss: 0.6682\n",
            "Epoch 218/500\n",
            "1/1 [==============================] - 0s 13ms/step - loss: 0.6647\n",
            "Epoch 219/500\n",
            "1/1 [==============================] - 0s 10ms/step - loss: 0.6616\n",
            "Epoch 220/500\n",
            "1/1 [==============================] - 0s 13ms/step - loss: 0.6591\n",
            "Epoch 221/500\n",
            "1/1 [==============================] - 0s 21ms/step - loss: 0.6572\n",
            "Epoch 222/500\n",
            "1/1 [==============================] - 0s 11ms/step - loss: 0.6556\n",
            "Epoch 223/500\n",
            "1/1 [==============================] - 0s 11ms/step - loss: 0.6523\n",
            "Epoch 224/500\n",
            "1/1 [==============================] - 0s 11ms/step - loss: 0.6468\n",
            "Epoch 225/500\n",
            "1/1 [==============================] - 0s 12ms/step - loss: 0.6414\n",
            "Epoch 226/500\n",
            "1/1 [==============================] - 0s 13ms/step - loss: 0.6376\n",
            "Epoch 227/500\n",
            "1/1 [==============================] - 0s 16ms/step - loss: 0.6354\n",
            "Epoch 228/500\n",
            "1/1 [==============================] - 0s 16ms/step - loss: 0.6349\n",
            "Epoch 229/500\n",
            "1/1 [==============================] - 0s 19ms/step - loss: 0.6347\n",
            "Epoch 230/500\n",
            "1/1 [==============================] - 0s 24ms/step - loss: 0.6320\n",
            "Epoch 231/500\n",
            "1/1 [==============================] - 0s 14ms/step - loss: 0.6245\n",
            "Epoch 232/500\n",
            "1/1 [==============================] - 0s 20ms/step - loss: 0.6172\n",
            "Epoch 233/500\n",
            "1/1 [==============================] - 0s 20ms/step - loss: 0.6147\n",
            "Epoch 234/500\n",
            "1/1 [==============================] - 0s 15ms/step - loss: 0.6135\n",
            "Epoch 235/500\n",
            "1/1 [==============================] - 0s 18ms/step - loss: 0.6096\n",
            "Epoch 236/500\n",
            "1/1 [==============================] - 0s 14ms/step - loss: 0.6037\n",
            "Epoch 237/500\n",
            "1/1 [==============================] - 0s 16ms/step - loss: 0.5994\n",
            "Epoch 238/500\n",
            "1/1 [==============================] - 0s 12ms/step - loss: 0.5979\n",
            "Epoch 239/500\n",
            "1/1 [==============================] - 0s 12ms/step - loss: 0.5957\n",
            "Epoch 240/500\n",
            "1/1 [==============================] - 0s 20ms/step - loss: 0.5909\n",
            "Epoch 241/500\n",
            "1/1 [==============================] - 0s 14ms/step - loss: 0.5850\n",
            "Epoch 242/500\n",
            "1/1 [==============================] - 0s 16ms/step - loss: 0.5806\n",
            "Epoch 243/500\n",
            "1/1 [==============================] - 0s 17ms/step - loss: 0.5779\n",
            "Epoch 244/500\n",
            "1/1 [==============================] - 0s 21ms/step - loss: 0.5747\n",
            "Epoch 245/500\n",
            "1/1 [==============================] - 0s 25ms/step - loss: 0.5704\n",
            "Epoch 246/500\n",
            "1/1 [==============================] - 0s 27ms/step - loss: 0.5661\n",
            "Epoch 247/500\n",
            "1/1 [==============================] - 0s 19ms/step - loss: 0.5616\n",
            "Epoch 248/500\n",
            "1/1 [==============================] - 0s 18ms/step - loss: 0.5576\n",
            "Epoch 249/500\n",
            "1/1 [==============================] - 0s 10ms/step - loss: 0.5540\n",
            "Epoch 250/500\n",
            "1/1 [==============================] - 0s 11ms/step - loss: 0.5505\n",
            "Epoch 251/500\n",
            "1/1 [==============================] - 0s 13ms/step - loss: 0.5466\n",
            "Epoch 252/500\n",
            "1/1 [==============================] - 0s 9ms/step - loss: 0.5426\n",
            "Epoch 253/500\n",
            "1/1 [==============================] - 0s 13ms/step - loss: 0.5382\n",
            "Epoch 254/500\n",
            "1/1 [==============================] - 0s 10ms/step - loss: 0.5336\n",
            "Epoch 255/500\n",
            "1/1 [==============================] - 0s 9ms/step - loss: 0.5288\n",
            "Epoch 256/500\n",
            "1/1 [==============================] - 0s 12ms/step - loss: 0.5245\n",
            "Epoch 257/500\n",
            "1/1 [==============================] - 0s 9ms/step - loss: 0.5200\n",
            "Epoch 258/500\n",
            "1/1 [==============================] - 0s 11ms/step - loss: 0.5158\n",
            "Epoch 259/500\n",
            "1/1 [==============================] - 0s 11ms/step - loss: 0.5132\n",
            "Epoch 260/500\n",
            "1/1 [==============================] - 0s 9ms/step - loss: 0.5125\n",
            "Epoch 261/500\n",
            "1/1 [==============================] - 0s 11ms/step - loss: 0.5163\n",
            "Epoch 262/500\n",
            "1/1 [==============================] - 0s 11ms/step - loss: 0.5150\n",
            "Epoch 263/500\n",
            "1/1 [==============================] - 0s 9ms/step - loss: 0.5049\n",
            "Epoch 264/500\n",
            "1/1 [==============================] - 0s 33ms/step - loss: 0.4910\n",
            "Epoch 265/500\n",
            "1/1 [==============================] - 0s 17ms/step - loss: 0.4899\n",
            "Epoch 266/500\n",
            "1/1 [==============================] - 0s 19ms/step - loss: 0.4927\n",
            "Epoch 267/500\n",
            "1/1 [==============================] - 0s 14ms/step - loss: 0.4841\n",
            "Epoch 268/500\n",
            "1/1 [==============================] - 0s 17ms/step - loss: 0.4739\n",
            "Epoch 269/500\n",
            "1/1 [==============================] - 0s 10ms/step - loss: 0.4757\n",
            "Epoch 270/500\n",
            "1/1 [==============================] - 0s 13ms/step - loss: 0.4756\n",
            "Epoch 271/500\n",
            "1/1 [==============================] - 0s 11ms/step - loss: 0.4649\n",
            "Epoch 272/500\n",
            "1/1 [==============================] - 0s 14ms/step - loss: 0.4586\n",
            "Epoch 273/500\n",
            "1/1 [==============================] - 0s 19ms/step - loss: 0.4586\n",
            "Epoch 274/500\n",
            "1/1 [==============================] - 0s 11ms/step - loss: 0.4537\n",
            "Epoch 275/500\n",
            "1/1 [==============================] - 0s 13ms/step - loss: 0.4462\n",
            "Epoch 276/500\n",
            "1/1 [==============================] - 0s 11ms/step - loss: 0.4437\n",
            "Epoch 277/500\n",
            "1/1 [==============================] - 0s 23ms/step - loss: 0.4413\n",
            "Epoch 278/500\n",
            "1/1 [==============================] - 0s 24ms/step - loss: 0.4353\n",
            "Epoch 279/500\n",
            "1/1 [==============================] - 0s 9ms/step - loss: 0.4305\n",
            "Epoch 280/500\n",
            "1/1 [==============================] - 0s 13ms/step - loss: 0.4272\n",
            "Epoch 281/500\n",
            "1/1 [==============================] - 0s 24ms/step - loss: 0.4235\n",
            "Epoch 282/500\n",
            "1/1 [==============================] - 0s 10ms/step - loss: 0.4191\n",
            "Epoch 283/500\n",
            "1/1 [==============================] - 0s 9ms/step - loss: 0.4154\n",
            "Epoch 284/500\n",
            "1/1 [==============================] - 0s 8ms/step - loss: 0.4121\n",
            "Epoch 285/500\n",
            "1/1 [==============================] - 0s 10ms/step - loss: 0.4081\n",
            "Epoch 286/500\n",
            "1/1 [==============================] - 0s 12ms/step - loss: 0.4039\n",
            "Epoch 287/500\n",
            "1/1 [==============================] - 0s 9ms/step - loss: 0.4003\n",
            "Epoch 288/500\n",
            "1/1 [==============================] - 0s 10ms/step - loss: 0.3968\n",
            "Epoch 289/500\n",
            "1/1 [==============================] - 0s 16ms/step - loss: 0.3930\n",
            "Epoch 290/500\n",
            "1/1 [==============================] - 0s 10ms/step - loss: 0.3890\n",
            "Epoch 291/500\n",
            "1/1 [==============================] - 0s 10ms/step - loss: 0.3854\n",
            "Epoch 292/500\n",
            "1/1 [==============================] - 0s 12ms/step - loss: 0.3821\n",
            "Epoch 293/500\n",
            "1/1 [==============================] - 0s 9ms/step - loss: 0.3787\n",
            "Epoch 294/500\n",
            "1/1 [==============================] - 0s 7ms/step - loss: 0.3751\n",
            "Epoch 295/500\n",
            "1/1 [==============================] - 0s 10ms/step - loss: 0.3717\n",
            "Epoch 296/500\n",
            "1/1 [==============================] - 0s 10ms/step - loss: 0.3684\n",
            "Epoch 297/500\n",
            "1/1 [==============================] - 0s 10ms/step - loss: 0.3651\n",
            "Epoch 298/500\n",
            "1/1 [==============================] - 0s 8ms/step - loss: 0.3616\n",
            "Epoch 299/500\n",
            "1/1 [==============================] - 0s 18ms/step - loss: 0.3582\n",
            "Epoch 300/500\n",
            "1/1 [==============================] - 0s 11ms/step - loss: 0.3546\n",
            "Epoch 301/500\n",
            "1/1 [==============================] - 0s 9ms/step - loss: 0.3516\n",
            "Epoch 302/500\n",
            "1/1 [==============================] - 0s 8ms/step - loss: 0.3490\n",
            "Epoch 303/500\n",
            "1/1 [==============================] - 0s 9ms/step - loss: 0.3470\n",
            "Epoch 304/500\n",
            "1/1 [==============================] - 0s 10ms/step - loss: 0.3446\n",
            "Epoch 305/500\n",
            "1/1 [==============================] - 0s 16ms/step - loss: 0.3416\n",
            "Epoch 306/500\n",
            "1/1 [==============================] - 0s 13ms/step - loss: 0.3376\n",
            "Epoch 307/500\n",
            "1/1 [==============================] - 0s 10ms/step - loss: 0.3323\n",
            "Epoch 308/500\n",
            "1/1 [==============================] - 0s 11ms/step - loss: 0.3289\n",
            "Epoch 309/500\n",
            "1/1 [==============================] - 0s 15ms/step - loss: 0.3279\n",
            "Epoch 310/500\n",
            "1/1 [==============================] - 0s 24ms/step - loss: 0.3258\n",
            "Epoch 311/500\n",
            "1/1 [==============================] - 0s 29ms/step - loss: 0.3221\n",
            "Epoch 312/500\n",
            "1/1 [==============================] - 0s 36ms/step - loss: 0.3170\n",
            "Epoch 313/500\n",
            "1/1 [==============================] - 0s 17ms/step - loss: 0.3131\n",
            "Epoch 314/500\n",
            "1/1 [==============================] - 0s 17ms/step - loss: 0.3110\n",
            "Epoch 315/500\n",
            "1/1 [==============================] - 0s 14ms/step - loss: 0.3104\n",
            "Epoch 316/500\n",
            "1/1 [==============================] - 0s 10ms/step - loss: 0.3093\n",
            "Epoch 317/500\n",
            "1/1 [==============================] - 0s 14ms/step - loss: 0.3051\n",
            "Epoch 318/500\n",
            "1/1 [==============================] - 0s 9ms/step - loss: 0.2996\n",
            "Epoch 319/500\n",
            "1/1 [==============================] - 0s 10ms/step - loss: 0.2956\n",
            "Epoch 320/500\n",
            "1/1 [==============================] - 0s 9ms/step - loss: 0.2946\n",
            "Epoch 321/500\n",
            "1/1 [==============================] - 0s 20ms/step - loss: 0.2935\n",
            "Epoch 322/500\n",
            "1/1 [==============================] - 0s 11ms/step - loss: 0.2892\n",
            "Epoch 323/500\n",
            "1/1 [==============================] - 0s 28ms/step - loss: 0.2841\n",
            "Epoch 324/500\n",
            "1/1 [==============================] - 0s 11ms/step - loss: 0.2816\n",
            "Epoch 325/500\n",
            "1/1 [==============================] - 0s 14ms/step - loss: 0.2814\n",
            "Epoch 326/500\n",
            "1/1 [==============================] - 0s 9ms/step - loss: 0.2803\n",
            "Epoch 327/500\n",
            "1/1 [==============================] - 0s 12ms/step - loss: 0.2758\n",
            "Epoch 328/500\n",
            "1/1 [==============================] - 0s 11ms/step - loss: 0.2704\n",
            "Epoch 329/500\n",
            "1/1 [==============================] - 0s 13ms/step - loss: 0.2683\n",
            "Epoch 330/500\n",
            "1/1 [==============================] - 0s 12ms/step - loss: 0.2678\n",
            "Epoch 331/500\n",
            "1/1 [==============================] - 0s 22ms/step - loss: 0.2641\n",
            "Epoch 332/500\n",
            "1/1 [==============================] - 0s 29ms/step - loss: 0.2594\n",
            "Epoch 333/500\n",
            "1/1 [==============================] - 0s 20ms/step - loss: 0.2582\n",
            "Epoch 334/500\n",
            "1/1 [==============================] - 0s 10ms/step - loss: 0.2582\n",
            "Epoch 335/500\n",
            "1/1 [==============================] - 0s 15ms/step - loss: 0.2543\n",
            "Epoch 336/500\n",
            "1/1 [==============================] - 0s 12ms/step - loss: 0.2496\n",
            "Epoch 337/500\n",
            "1/1 [==============================] - 0s 23ms/step - loss: 0.2468\n",
            "Epoch 338/500\n",
            "1/1 [==============================] - 0s 13ms/step - loss: 0.2459\n",
            "Epoch 339/500\n",
            "1/1 [==============================] - 0s 14ms/step - loss: 0.2444\n",
            "Epoch 340/500\n",
            "1/1 [==============================] - 0s 11ms/step - loss: 0.2404\n",
            "Epoch 341/500\n",
            "1/1 [==============================] - 0s 14ms/step - loss: 0.2367\n",
            "Epoch 342/500\n",
            "1/1 [==============================] - 0s 15ms/step - loss: 0.2344\n",
            "Epoch 343/500\n",
            "1/1 [==============================] - 0s 17ms/step - loss: 0.2330\n",
            "Epoch 344/500\n",
            "1/1 [==============================] - 0s 16ms/step - loss: 0.2308\n",
            "Epoch 345/500\n",
            "1/1 [==============================] - 0s 12ms/step - loss: 0.2277\n",
            "Epoch 346/500\n",
            "1/1 [==============================] - 0s 9ms/step - loss: 0.2249\n",
            "Epoch 347/500\n",
            "1/1 [==============================] - 0s 11ms/step - loss: 0.2228\n",
            "Epoch 348/500\n",
            "1/1 [==============================] - 0s 14ms/step - loss: 0.2210\n",
            "Epoch 349/500\n",
            "1/1 [==============================] - 0s 11ms/step - loss: 0.2183\n",
            "Epoch 350/500\n",
            "1/1 [==============================] - 0s 17ms/step - loss: 0.2157\n",
            "Epoch 351/500\n",
            "1/1 [==============================] - 0s 14ms/step - loss: 0.2134\n",
            "Epoch 352/500\n",
            "1/1 [==============================] - 0s 15ms/step - loss: 0.2113\n",
            "Epoch 353/500\n",
            "1/1 [==============================] - 0s 9ms/step - loss: 0.2092\n",
            "Epoch 354/500\n",
            "1/1 [==============================] - 0s 16ms/step - loss: 0.2070\n",
            "Epoch 355/500\n",
            "1/1 [==============================] - 0s 16ms/step - loss: 0.2048\n",
            "Epoch 356/500\n",
            "1/1 [==============================] - 0s 9ms/step - loss: 0.2027\n",
            "Epoch 357/500\n",
            "1/1 [==============================] - 0s 22ms/step - loss: 0.2005\n",
            "Epoch 358/500\n",
            "1/1 [==============================] - 0s 14ms/step - loss: 0.1984\n",
            "Epoch 359/500\n",
            "1/1 [==============================] - 0s 17ms/step - loss: 0.1964\n",
            "Epoch 360/500\n",
            "1/1 [==============================] - 0s 9ms/step - loss: 0.1944\n",
            "Epoch 361/500\n",
            "1/1 [==============================] - 0s 10ms/step - loss: 0.1926\n",
            "Epoch 362/500\n",
            "1/1 [==============================] - 0s 9ms/step - loss: 0.1906\n",
            "Epoch 363/500\n",
            "1/1 [==============================] - 0s 9ms/step - loss: 0.1886\n",
            "Epoch 364/500\n",
            "1/1 [==============================] - 0s 10ms/step - loss: 0.1865\n",
            "Epoch 365/500\n",
            "1/1 [==============================] - 0s 13ms/step - loss: 0.1844\n",
            "Epoch 366/500\n",
            "1/1 [==============================] - 0s 11ms/step - loss: 0.1825\n",
            "Epoch 367/500\n",
            "1/1 [==============================] - 0s 13ms/step - loss: 0.1807\n",
            "Epoch 368/500\n",
            "1/1 [==============================] - 0s 13ms/step - loss: 0.1790\n",
            "Epoch 369/500\n",
            "1/1 [==============================] - 0s 11ms/step - loss: 0.1773\n",
            "Epoch 370/500\n",
            "1/1 [==============================] - 0s 12ms/step - loss: 0.1761\n",
            "Epoch 371/500\n",
            "1/1 [==============================] - 0s 10ms/step - loss: 0.1743\n",
            "Epoch 372/500\n",
            "1/1 [==============================] - 0s 9ms/step - loss: 0.1724\n",
            "Epoch 373/500\n",
            "1/1 [==============================] - 0s 11ms/step - loss: 0.1704\n",
            "Epoch 374/500\n",
            "1/1 [==============================] - 0s 10ms/step - loss: 0.1681\n",
            "Epoch 375/500\n",
            "1/1 [==============================] - 0s 12ms/step - loss: 0.1661\n",
            "Epoch 376/500\n",
            "1/1 [==============================] - 0s 9ms/step - loss: 0.1647\n",
            "Epoch 377/500\n",
            "1/1 [==============================] - 0s 10ms/step - loss: 0.1636\n",
            "Epoch 378/500\n",
            "1/1 [==============================] - 0s 13ms/step - loss: 0.1630\n",
            "Epoch 379/500\n",
            "1/1 [==============================] - 0s 10ms/step - loss: 0.1610\n",
            "Epoch 380/500\n",
            "1/1 [==============================] - 0s 10ms/step - loss: 0.1583\n",
            "Epoch 381/500\n",
            "1/1 [==============================] - 0s 10ms/step - loss: 0.1563\n",
            "Epoch 382/500\n",
            "1/1 [==============================] - 0s 20ms/step - loss: 0.1552\n",
            "Epoch 383/500\n",
            "1/1 [==============================] - 0s 23ms/step - loss: 0.1539\n",
            "Epoch 384/500\n",
            "1/1 [==============================] - 0s 10ms/step - loss: 0.1523\n",
            "Epoch 385/500\n",
            "1/1 [==============================] - 0s 29ms/step - loss: 0.1508\n",
            "Epoch 386/500\n",
            "1/1 [==============================] - 0s 12ms/step - loss: 0.1490\n",
            "Epoch 387/500\n",
            "1/1 [==============================] - 0s 16ms/step - loss: 0.1472\n",
            "Epoch 388/500\n",
            "1/1 [==============================] - 0s 12ms/step - loss: 0.1455\n",
            "Epoch 389/500\n",
            "1/1 [==============================] - 0s 27ms/step - loss: 0.1443\n",
            "Epoch 390/500\n",
            "1/1 [==============================] - 0s 11ms/step - loss: 0.1447\n",
            "Epoch 391/500\n",
            "1/1 [==============================] - 0s 13ms/step - loss: 0.1451\n",
            "Epoch 392/500\n",
            "1/1 [==============================] - 0s 9ms/step - loss: 0.1457\n",
            "Epoch 393/500\n",
            "1/1 [==============================] - 0s 10ms/step - loss: 0.1404\n",
            "Epoch 394/500\n",
            "1/1 [==============================] - 0s 14ms/step - loss: 0.1372\n",
            "Epoch 395/500\n",
            "1/1 [==============================] - 0s 9ms/step - loss: 0.1380\n",
            "Epoch 396/500\n",
            "1/1 [==============================] - 0s 10ms/step - loss: 0.1395\n",
            "Epoch 397/500\n",
            "1/1 [==============================] - 0s 14ms/step - loss: 0.1373\n",
            "Epoch 398/500\n",
            "1/1 [==============================] - 0s 19ms/step - loss: 0.1331\n",
            "Epoch 399/500\n",
            "1/1 [==============================] - 0s 12ms/step - loss: 0.1310\n",
            "Epoch 400/500\n",
            "1/1 [==============================] - 0s 11ms/step - loss: 0.1325\n",
            "Epoch 401/500\n",
            "1/1 [==============================] - 0s 9ms/step - loss: 0.1315\n",
            "Epoch 402/500\n",
            "1/1 [==============================] - 0s 26ms/step - loss: 0.1349\n",
            "Epoch 403/500\n",
            "1/1 [==============================] - 0s 14ms/step - loss: 0.1298\n",
            "Epoch 404/500\n",
            "1/1 [==============================] - 0s 9ms/step - loss: 0.1252\n",
            "Epoch 405/500\n",
            "1/1 [==============================] - 0s 9ms/step - loss: 0.1274\n",
            "Epoch 406/500\n",
            "1/1 [==============================] - 0s 10ms/step - loss: 0.1283\n",
            "Epoch 407/500\n",
            "1/1 [==============================] - 0s 11ms/step - loss: 0.1293\n",
            "Epoch 408/500\n",
            "1/1 [==============================] - 0s 22ms/step - loss: 0.1247\n",
            "Epoch 409/500\n",
            "1/1 [==============================] - 0s 8ms/step - loss: 0.1207\n",
            "Epoch 410/500\n",
            "1/1 [==============================] - 0s 9ms/step - loss: 0.1231\n",
            "Epoch 411/500\n",
            "1/1 [==============================] - 0s 9ms/step - loss: 0.1242\n",
            "Epoch 412/500\n",
            "1/1 [==============================] - 0s 11ms/step - loss: 0.1211\n",
            "Epoch 413/500\n",
            "1/1 [==============================] - 0s 9ms/step - loss: 0.1175\n",
            "Epoch 414/500\n",
            "1/1 [==============================] - 0s 9ms/step - loss: 0.1167\n",
            "Epoch 415/500\n",
            "1/1 [==============================] - 0s 11ms/step - loss: 0.1168\n",
            "Epoch 416/500\n",
            "1/1 [==============================] - 0s 14ms/step - loss: 0.1147\n",
            "Epoch 417/500\n",
            "1/1 [==============================] - 0s 10ms/step - loss: 0.1134\n",
            "Epoch 418/500\n",
            "1/1 [==============================] - 0s 13ms/step - loss: 0.1107\n",
            "Epoch 419/500\n",
            "1/1 [==============================] - 0s 11ms/step - loss: 0.1100\n",
            "Epoch 420/500\n",
            "1/1 [==============================] - 0s 21ms/step - loss: 0.1101\n",
            "Epoch 421/500\n",
            "1/1 [==============================] - 0s 11ms/step - loss: 0.1079\n",
            "Epoch 422/500\n",
            "1/1 [==============================] - 0s 15ms/step - loss: 0.1062\n",
            "Epoch 423/500\n",
            "1/1 [==============================] - 0s 16ms/step - loss: 0.1051\n",
            "Epoch 424/500\n",
            "1/1 [==============================] - 0s 14ms/step - loss: 0.1044\n",
            "Epoch 425/500\n",
            "1/1 [==============================] - 0s 12ms/step - loss: 0.1047\n",
            "Epoch 426/500\n",
            "1/1 [==============================] - 0s 11ms/step - loss: 0.1042\n",
            "Epoch 427/500\n",
            "1/1 [==============================] - 0s 10ms/step - loss: 0.1022\n",
            "Epoch 428/500\n",
            "1/1 [==============================] - 0s 18ms/step - loss: 0.1001\n",
            "Epoch 429/500\n",
            "1/1 [==============================] - 0s 9ms/step - loss: 0.1002\n",
            "Epoch 430/500\n",
            "1/1 [==============================] - 0s 11ms/step - loss: 0.1153\n",
            "Epoch 431/500\n",
            "1/1 [==============================] - 0s 10ms/step - loss: 0.1232\n",
            "Epoch 432/500\n",
            "1/1 [==============================] - 0s 11ms/step - loss: 0.1172\n",
            "Epoch 433/500\n",
            "1/1 [==============================] - 0s 11ms/step - loss: 0.0988\n",
            "Epoch 434/500\n",
            "1/1 [==============================] - 0s 11ms/step - loss: 0.1060\n",
            "Epoch 435/500\n",
            "1/1 [==============================] - 0s 27ms/step - loss: 0.1136\n",
            "Epoch 436/500\n",
            "1/1 [==============================] - 0s 14ms/step - loss: 0.0963\n",
            "Epoch 437/500\n",
            "1/1 [==============================] - 0s 19ms/step - loss: 0.1065\n",
            "Epoch 438/500\n",
            "1/1 [==============================] - 0s 11ms/step - loss: 0.1179\n",
            "Epoch 439/500\n",
            "1/1 [==============================] - 0s 12ms/step - loss: 0.0954\n",
            "Epoch 440/500\n",
            "1/1 [==============================] - 0s 9ms/step - loss: 0.1024\n",
            "Epoch 441/500\n",
            "1/1 [==============================] - 0s 22ms/step - loss: 0.1058\n",
            "Epoch 442/500\n",
            "1/1 [==============================] - 0s 11ms/step - loss: 0.0905\n",
            "Epoch 443/500\n",
            "1/1 [==============================] - 0s 21ms/step - loss: 0.1065\n",
            "Epoch 444/500\n",
            "1/1 [==============================] - 0s 14ms/step - loss: 0.1106\n",
            "Epoch 445/500\n",
            "1/1 [==============================] - 0s 14ms/step - loss: 0.0883\n",
            "Epoch 446/500\n",
            "1/1 [==============================] - 0s 11ms/step - loss: 0.1081\n",
            "Epoch 447/500\n",
            "1/1 [==============================] - 0s 14ms/step - loss: 0.1008\n",
            "Epoch 448/500\n",
            "1/1 [==============================] - 0s 11ms/step - loss: 0.0887\n",
            "Epoch 449/500\n",
            "1/1 [==============================] - 0s 7ms/step - loss: 0.1038\n",
            "Epoch 450/500\n",
            "1/1 [==============================] - 0s 14ms/step - loss: 0.0925\n",
            "Epoch 451/500\n",
            "1/1 [==============================] - 0s 9ms/step - loss: 0.0895\n",
            "Epoch 452/500\n",
            "1/1 [==============================] - 0s 10ms/step - loss: 0.0970\n",
            "Epoch 453/500\n",
            "1/1 [==============================] - 0s 8ms/step - loss: 0.0832\n",
            "Epoch 454/500\n",
            "1/1 [==============================] - 0s 10ms/step - loss: 0.0914\n",
            "Epoch 455/500\n",
            "1/1 [==============================] - 0s 11ms/step - loss: 0.0852\n",
            "Epoch 456/500\n",
            "1/1 [==============================] - 0s 10ms/step - loss: 0.0838\n",
            "Epoch 457/500\n",
            "1/1 [==============================] - 0s 15ms/step - loss: 0.0886\n",
            "Epoch 458/500\n",
            "1/1 [==============================] - 0s 13ms/step - loss: 0.0796\n",
            "Epoch 459/500\n",
            "1/1 [==============================] - 0s 11ms/step - loss: 0.0890\n",
            "Epoch 460/500\n",
            "1/1 [==============================] - 0s 14ms/step - loss: 0.0919\n",
            "Epoch 461/500\n",
            "1/1 [==============================] - 0s 16ms/step - loss: 0.0785\n",
            "Epoch 462/500\n",
            "1/1 [==============================] - 0s 13ms/step - loss: 0.0914\n",
            "Epoch 463/500\n",
            "1/1 [==============================] - 0s 9ms/step - loss: 0.0801\n",
            "Epoch 464/500\n",
            "1/1 [==============================] - 0s 8ms/step - loss: 0.0827\n",
            "Epoch 465/500\n",
            "1/1 [==============================] - 0s 9ms/step - loss: 0.0836\n",
            "Epoch 466/500\n",
            "1/1 [==============================] - 0s 11ms/step - loss: 0.0756\n",
            "Epoch 467/500\n",
            "1/1 [==============================] - 0s 8ms/step - loss: 0.0824\n",
            "Epoch 468/500\n",
            "1/1 [==============================] - 0s 10ms/step - loss: 0.0746\n",
            "Epoch 469/500\n",
            "1/1 [==============================] - 0s 14ms/step - loss: 0.0781\n",
            "Epoch 470/500\n",
            "1/1 [==============================] - 0s 12ms/step - loss: 0.0776\n",
            "Epoch 471/500\n",
            "1/1 [==============================] - 0s 8ms/step - loss: 0.0726\n",
            "Epoch 472/500\n",
            "1/1 [==============================] - 0s 10ms/step - loss: 0.0779\n",
            "Epoch 473/500\n",
            "1/1 [==============================] - 0s 12ms/step - loss: 0.0760\n",
            "Epoch 474/500\n",
            "1/1 [==============================] - 0s 13ms/step - loss: 0.0714\n",
            "Epoch 475/500\n",
            "1/1 [==============================] - 0s 23ms/step - loss: 0.0768\n",
            "Epoch 476/500\n",
            "1/1 [==============================] - 0s 11ms/step - loss: 0.0719\n",
            "Epoch 477/500\n",
            "1/1 [==============================] - 0s 17ms/step - loss: 0.0705\n",
            "Epoch 478/500\n",
            "1/1 [==============================] - 0s 12ms/step - loss: 0.0736\n",
            "Epoch 479/500\n",
            "1/1 [==============================] - 0s 8ms/step - loss: 0.0685\n",
            "Epoch 480/500\n",
            "1/1 [==============================] - 0s 10ms/step - loss: 0.0690\n",
            "Epoch 481/500\n",
            "1/1 [==============================] - 0s 12ms/step - loss: 0.0694\n",
            "Epoch 482/500\n",
            "1/1 [==============================] - 0s 39ms/step - loss: 0.0658\n",
            "Epoch 483/500\n",
            "1/1 [==============================] - 0s 22ms/step - loss: 0.0683\n",
            "Epoch 484/500\n",
            "1/1 [==============================] - 0s 16ms/step - loss: 0.0653\n",
            "Epoch 485/500\n",
            "1/1 [==============================] - 0s 9ms/step - loss: 0.0643\n",
            "Epoch 486/500\n",
            "1/1 [==============================] - 0s 9ms/step - loss: 0.0649\n",
            "Epoch 487/500\n",
            "1/1 [==============================] - 0s 9ms/step - loss: 0.0629\n",
            "Epoch 488/500\n",
            "1/1 [==============================] - 0s 18ms/step - loss: 0.0621\n",
            "Epoch 489/500\n",
            "1/1 [==============================] - 0s 9ms/step - loss: 0.0616\n",
            "Epoch 490/500\n",
            "1/1 [==============================] - 0s 9ms/step - loss: 0.0613\n",
            "Epoch 491/500\n",
            "1/1 [==============================] - 0s 9ms/step - loss: 0.0615\n",
            "Epoch 492/500\n",
            "1/1 [==============================] - 0s 17ms/step - loss: 0.0603\n",
            "Epoch 493/500\n",
            "1/1 [==============================] - 0s 9ms/step - loss: 0.0595\n",
            "Epoch 494/500\n",
            "1/1 [==============================] - 0s 8ms/step - loss: 0.0594\n",
            "Epoch 495/500\n",
            "1/1 [==============================] - 0s 10ms/step - loss: 0.0589\n",
            "Epoch 496/500\n",
            "1/1 [==============================] - 0s 20ms/step - loss: 0.0580\n",
            "Epoch 497/500\n",
            "1/1 [==============================] - 0s 9ms/step - loss: 0.0575\n",
            "Epoch 498/500\n",
            "1/1 [==============================] - 0s 9ms/step - loss: 0.0571\n",
            "Epoch 499/500\n",
            "1/1 [==============================] - 0s 12ms/step - loss: 0.0565\n",
            "Epoch 500/500\n",
            "1/1 [==============================] - 0s 20ms/step - loss: 0.0559\n"
          ]
        },
        {
          "output_type": "execute_result",
          "data": {
            "text/plain": [
              "<keras.callbacks.History at 0x7f12545f5e50>"
            ]
          },
          "metadata": {},
          "execution_count": 52
        }
      ]
    },
    {
      "cell_type": "markdown",
      "metadata": {
        "id": "BLbfwvOUJKzk"
      },
      "source": [
        "If it does not overfit try to fix data prep and model architecture so it does"
      ]
    },
    {
      "cell_type": "code",
      "metadata": {
        "id": "ypDIpvlUJKzl"
      },
      "source": [
        ""
      ],
      "execution_count": null,
      "outputs": []
    },
    {
      "cell_type": "markdown",
      "metadata": {
        "id": "l32lyFMPJKzl"
      },
      "source": [
        "Create a function **make_prediction(seed_start)** which takes a starting string sequence and uses it to generate a molecule\n"
      ]
    },
    {
      "cell_type": "code",
      "metadata": {
        "id": "t4Uo9APeJKzm"
      },
      "source": [
        "def make_prediction(seed_start, model, n_token):\n",
        "  seq = seed_start\n",
        "  for i in rnage(50):\n",
        "    seq = seq.reshape(1, seq_lentgh, 1)\n",
        "    next_token = model.predict_classes(seq)[0]\n",
        "    str_token = reverse_mapping[next_token]\n",
        "    print(next_token, str_token)\n",
        "    seq[:4] = seq[:1]\n",
        "    seq[4] = next_token\n",
        "\n",
        "seed_start = np.random.randint(0, n_token, seq_length) / n_token  #normalization\n",
        "print(\"initial sequence\", [reverse_mapping[c] for c in seed_start * n_token])\n",
        "make_prediction(seed_start, model, len(token))"
      ],
      "execution_count": null,
      "outputs": []
    },
    {
      "cell_type": "markdown",
      "metadata": {
        "id": "mzrDaEWOJKzm"
      },
      "source": [
        "generate a molecule of your overfitted model"
      ]
    },
    {
      "cell_type": "code",
      "metadata": {
        "id": "ot3PVhgLJKzm"
      },
      "source": [
        ""
      ],
      "execution_count": null,
      "outputs": []
    },
    {
      "cell_type": "markdown",
      "metadata": {
        "id": "SubXhFsnJKzm"
      },
      "source": [
        "Make a model checkpoint so that the model is saved after each epoch\n",
        "if you train on a plateform and it stops you do not lose your training "
      ]
    },
    {
      "cell_type": "code",
      "metadata": {
        "id": "WVPOXuprJKzn"
      },
      "source": [
        ""
      ],
      "execution_count": null,
      "outputs": []
    },
    {
      "cell_type": "markdown",
      "metadata": {
        "id": "BhzKU0AHJKzn"
      },
      "source": [
        "Now go to your favorite plateform (colab or something else) and train the dataset on the whole data for 10 epochs and batch size 256 \n",
        "\n",
        "it should take a long time so either follow the class or go take a nap "
      ]
    },
    {
      "cell_type": "code",
      "metadata": {
        "id": "y-yGJ1RGJKzo"
      },
      "source": [
        "model.fit(X_train, y_train, epochs = 10)"
      ],
      "execution_count": null,
      "outputs": []
    },
    {
      "cell_type": "markdown",
      "metadata": {
        "id": "iMcYE0-xJKzo"
      },
      "source": [
        "Generate between 100 and 1000 molecules. \n",
        "\n",
        "create a list where molecules have between 10 and 50 atoms"
      ]
    },
    {
      "cell_type": "code",
      "metadata": {
        "id": "JkOUuqyUJKzo"
      },
      "source": [
        ""
      ],
      "execution_count": null,
      "outputs": []
    },
    {
      "cell_type": "markdown",
      "metadata": {
        "id": "Rxb_oWRQJKzp"
      },
      "source": [
        "With rdkit compute the Quantified Estimated Drug likelyness (QED) of each molecule in this subset"
      ]
    },
    {
      "cell_type": "code",
      "metadata": {
        "id": "Xz3cgM3qJKzp"
      },
      "source": [
        ""
      ],
      "execution_count": null,
      "outputs": []
    },
    {
      "cell_type": "markdown",
      "metadata": {
        "id": "-F5Iv_KzJKzp"
      },
      "source": [
        "Bonus 1 : predict the molecule solubility of your generated molecules "
      ]
    },
    {
      "cell_type": "code",
      "metadata": {
        "id": "PdjGLJRZJKzq"
      },
      "source": [
        ""
      ],
      "execution_count": null,
      "outputs": []
    },
    {
      "cell_type": "markdown",
      "metadata": {
        "id": "8tYRlMhoJKzr"
      },
      "source": [
        "Bonus 2 : try to adapt a transformer model training from hugging face to see if it is better"
      ]
    },
    {
      "cell_type": "code",
      "metadata": {
        "id": "naXrYUTfJKzr"
      },
      "source": [
        ""
      ],
      "execution_count": null,
      "outputs": []
    }
  ]
}